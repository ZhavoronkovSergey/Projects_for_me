{
  "nbformat": 4,
  "nbformat_minor": 0,
  "metadata": {
    "colab": {
      "name": "2. Рекомендательная система для Netflix.ipynb",
      "provenance": [],
      "toc_visible": true
    },
    "kernelspec": {
      "name": "python3",
      "display_name": "Python 3"
    },
    "language_info": {
      "name": "python"
    }
  },
  "cells": [
    {
      "cell_type": "markdown",
      "metadata": {
        "id": "V0qaUWyuZjVs"
      },
      "source": [
        "**Netflix-это приложение, которое продолжает расти все быстрее и быстрее благодаря своей популярности, шоу и контенту. Все это подтверждают данные вместе с системой рекомендаций на основе контента и широким спектром различных графиков и визуальных эффектов**"
      ]
    },
    {
      "cell_type": "markdown",
      "metadata": {
        "id": "0nwzxpUdZoek"
      },
      "source": [
        "Этот набор данных состоит из телешоу и фильмов, доступных на Netflix по состоянию на 2019 год. Набор данных собирается из Flixable, которая является сторонней поисковой системой Netflix.\n",
        "\n",
        "В 2018 году они опубликовали интересный отчет, который показывает, что количество телешоу на Netflix почти утроилось с 2010 года. С 2010 года количество фильмов в потоковом сервисе сократилось более чем на 2000 наименований, в то время как количество телешоу выросло почти в три раза. Будет интересно изучить, какие еще выводы можно получить из того же набора данных.\n",
        "\n",
        "Интегрируя этот набор данных с другими внешними наборами данных, такими как рейтинги IMDB, rotten tomatoes также может предоставить много интересных результатов."
      ]
    },
    {
      "cell_type": "markdown",
      "metadata": {
        "id": "Qfr1TuQubz2w"
      },
      "source": [
        "https://www.kaggle.com/shivamb/netflix-shows"
      ]
    },
    {
      "cell_type": "markdown",
      "metadata": {
        "id": "DaWPOuCEHZNP"
      },
      "source": [
        "https://www.kaggle.com/stefanoleone992/imdb-extensive-dataset?select=IMDb+ratings.csv"
      ]
    },
    {
      "cell_type": "code",
      "metadata": {
        "id": "yLX6LZqRZatW"
      },
      "source": [
        "import numpy as np \n",
        "import pandas as pd \n",
        "import matplotlib.pyplot as plt\n",
        "import seaborn as sns\n",
        "import matplotlib.pyplot as plt"
      ],
      "execution_count": null,
      "outputs": []
    },
    {
      "cell_type": "code",
      "metadata": {
        "colab": {
          "base_uri": "https://localhost:8080/",
          "height": 289
        },
        "id": "a9TuJ2QObfND",
        "outputId": "9d99fcea-5ed8-44eb-f8d8-25348531adf2"
      },
      "source": [
        "netflix_overall=pd.read_csv(\"netflix_titles.csv\")\n",
        "netflix_overall.head()"
      ],
      "execution_count": null,
      "outputs": [
        {
          "output_type": "execute_result",
          "data": {
            "text/html": [
              "<div>\n",
              "<style scoped>\n",
              "    .dataframe tbody tr th:only-of-type {\n",
              "        vertical-align: middle;\n",
              "    }\n",
              "\n",
              "    .dataframe tbody tr th {\n",
              "        vertical-align: top;\n",
              "    }\n",
              "\n",
              "    .dataframe thead th {\n",
              "        text-align: right;\n",
              "    }\n",
              "</style>\n",
              "<table border=\"1\" class=\"dataframe\">\n",
              "  <thead>\n",
              "    <tr style=\"text-align: right;\">\n",
              "      <th></th>\n",
              "      <th>show_id</th>\n",
              "      <th>type</th>\n",
              "      <th>title</th>\n",
              "      <th>director</th>\n",
              "      <th>cast</th>\n",
              "      <th>country</th>\n",
              "      <th>date_added</th>\n",
              "      <th>release_year</th>\n",
              "      <th>rating</th>\n",
              "      <th>duration</th>\n",
              "      <th>listed_in</th>\n",
              "      <th>description</th>\n",
              "    </tr>\n",
              "  </thead>\n",
              "  <tbody>\n",
              "    <tr>\n",
              "      <th>0</th>\n",
              "      <td>s1</td>\n",
              "      <td>TV Show</td>\n",
              "      <td>3%</td>\n",
              "      <td>NaN</td>\n",
              "      <td>João Miguel, Bianca Comparato, Michel Gomes, R...</td>\n",
              "      <td>Brazil</td>\n",
              "      <td>August 14, 2020</td>\n",
              "      <td>2020</td>\n",
              "      <td>TV-MA</td>\n",
              "      <td>4 Seasons</td>\n",
              "      <td>International TV Shows, TV Dramas, TV Sci-Fi &amp;...</td>\n",
              "      <td>In a future where the elite inhabit an island ...</td>\n",
              "    </tr>\n",
              "    <tr>\n",
              "      <th>1</th>\n",
              "      <td>s2</td>\n",
              "      <td>Movie</td>\n",
              "      <td>7:19</td>\n",
              "      <td>Jorge Michel Grau</td>\n",
              "      <td>Demián Bichir, Héctor Bonilla, Oscar Serrano, ...</td>\n",
              "      <td>Mexico</td>\n",
              "      <td>December 23, 2016</td>\n",
              "      <td>2016</td>\n",
              "      <td>TV-MA</td>\n",
              "      <td>93 min</td>\n",
              "      <td>Dramas, International Movies</td>\n",
              "      <td>After a devastating earthquake hits Mexico Cit...</td>\n",
              "    </tr>\n",
              "    <tr>\n",
              "      <th>2</th>\n",
              "      <td>s3</td>\n",
              "      <td>Movie</td>\n",
              "      <td>23:59</td>\n",
              "      <td>Gilbert Chan</td>\n",
              "      <td>Tedd Chan, Stella Chung, Henley Hii, Lawrence ...</td>\n",
              "      <td>Singapore</td>\n",
              "      <td>December 20, 2018</td>\n",
              "      <td>2011</td>\n",
              "      <td>R</td>\n",
              "      <td>78 min</td>\n",
              "      <td>Horror Movies, International Movies</td>\n",
              "      <td>When an army recruit is found dead, his fellow...</td>\n",
              "    </tr>\n",
              "    <tr>\n",
              "      <th>3</th>\n",
              "      <td>s4</td>\n",
              "      <td>Movie</td>\n",
              "      <td>9</td>\n",
              "      <td>Shane Acker</td>\n",
              "      <td>Elijah Wood, John C. Reilly, Jennifer Connelly...</td>\n",
              "      <td>United States</td>\n",
              "      <td>November 16, 2017</td>\n",
              "      <td>2009</td>\n",
              "      <td>PG-13</td>\n",
              "      <td>80 min</td>\n",
              "      <td>Action &amp; Adventure, Independent Movies, Sci-Fi...</td>\n",
              "      <td>In a postapocalyptic world, rag-doll robots hi...</td>\n",
              "    </tr>\n",
              "    <tr>\n",
              "      <th>4</th>\n",
              "      <td>s5</td>\n",
              "      <td>Movie</td>\n",
              "      <td>21</td>\n",
              "      <td>Robert Luketic</td>\n",
              "      <td>Jim Sturgess, Kevin Spacey, Kate Bosworth, Aar...</td>\n",
              "      <td>United States</td>\n",
              "      <td>January 1, 2020</td>\n",
              "      <td>2008</td>\n",
              "      <td>PG-13</td>\n",
              "      <td>123 min</td>\n",
              "      <td>Dramas</td>\n",
              "      <td>A brilliant group of students become card-coun...</td>\n",
              "    </tr>\n",
              "  </tbody>\n",
              "</table>\n",
              "</div>"
            ],
            "text/plain": [
              "  show_id  ...                                        description\n",
              "0      s1  ...  In a future where the elite inhabit an island ...\n",
              "1      s2  ...  After a devastating earthquake hits Mexico Cit...\n",
              "2      s3  ...  When an army recruit is found dead, his fellow...\n",
              "3      s4  ...  In a postapocalyptic world, rag-doll robots hi...\n",
              "4      s5  ...  A brilliant group of students become card-coun...\n",
              "\n",
              "[5 rows x 12 columns]"
            ]
          },
          "metadata": {
            "tags": []
          },
          "execution_count": 2
        }
      ]
    },
    {
      "cell_type": "markdown",
      "metadata": {
        "id": "DSgmBvOIb_ES"
      },
      "source": [
        "набор данных содержит 12 столбцов для исследовательского анализа"
      ]
    },
    {
      "cell_type": "code",
      "metadata": {
        "colab": {
          "base_uri": "https://localhost:8080/"
        },
        "id": "Rx_2t0xzbfKd",
        "outputId": "4611d046-1910-4c67-d92e-8d05b2f5a9bf"
      },
      "source": [
        "netflix_overall.info()"
      ],
      "execution_count": null,
      "outputs": [
        {
          "output_type": "stream",
          "text": [
            "<class 'pandas.core.frame.DataFrame'>\n",
            "RangeIndex: 7787 entries, 0 to 7786\n",
            "Data columns (total 12 columns):\n",
            " #   Column        Non-Null Count  Dtype \n",
            "---  ------        --------------  ----- \n",
            " 0   show_id       7787 non-null   object\n",
            " 1   type          7787 non-null   object\n",
            " 2   title         7787 non-null   object\n",
            " 3   director      5398 non-null   object\n",
            " 4   cast          7069 non-null   object\n",
            " 5   country       7280 non-null   object\n",
            " 6   date_added    7777 non-null   object\n",
            " 7   release_year  7787 non-null   int64 \n",
            " 8   rating        7780 non-null   object\n",
            " 9   duration      7787 non-null   object\n",
            " 10  listed_in     7787 non-null   object\n",
            " 11  description   7787 non-null   object\n",
            "dtypes: int64(1), object(11)\n",
            "memory usage: 730.2+ KB\n"
          ],
          "name": "stdout"
        }
      ]
    },
    {
      "cell_type": "code",
      "metadata": {
        "id": "zH8nBFiUbfHk"
      },
      "source": [
        "netflix_shows=netflix_overall[netflix_overall['type']=='TV Show']\n",
        "netflix_movies=netflix_overall[netflix_overall['type']=='Movie']"
      ],
      "execution_count": null,
      "outputs": []
    },
    {
      "cell_type": "code",
      "metadata": {
        "colab": {
          "base_uri": "https://localhost:8080/",
          "height": 285
        },
        "id": "iq4VynIibfE9",
        "outputId": "2526c3ed-d1a0-4cb8-d0e6-3e43d6cec91a"
      },
      "source": [
        "sns.set(style=\"darkgrid\")\n",
        "ax = sns.countplot(x=\"type\", data=netflix_overall, palette=\"Set2\")"
      ],
      "execution_count": null,
      "outputs": [
        {
          "output_type": "display_data",
          "data": {
            "image/png": "[encoded data removed]",
            "text/plain": [
              "<Figure size 432x288 with 1 Axes>"
            ]
          },
          "metadata": {
            "tags": []
          }
        }
      ]
    },
    {
      "cell_type": "markdown",
      "metadata": {
        "id": "o0XJ_M1lcZIl"
      },
      "source": [
        "Очевидно, что на Netflix больше фильмов, чем телешоу."
      ]
    },
    {
      "cell_type": "code",
      "metadata": {
        "colab": {
          "base_uri": "https://localhost:8080/",
          "height": 611
        },
        "id": "tPzVG0WQbfCv",
        "outputId": "975b3668-e46d-47bf-82d2-970bdb453eca"
      },
      "source": [
        "plt.figure(figsize=(12,10))\n",
        "sns.set(style=\"darkgrid\")\n",
        "ax = sns.countplot(x=\"rating\", data=netflix_overall, palette=\"Set2\", hue= \"type\", order=netflix_overall['rating'].value_counts().index[0:15])"
      ],
      "execution_count": null,
      "outputs": [
        {
          "output_type": "display_data",
          "data": {
            "image/png": "[encoded data removed]",
            "text/plain": [
              "<Figure size 864x720 with 1 Axes>"
            ]
          },
          "metadata": {
            "tags": []
          }
        }
      ]
    },
    {
      "cell_type": "markdown",
      "metadata": {
        "id": "EB8roUPXdiHP"
      },
      "source": [
        "Наибольшее количество фильмов производится с рейтингом\"ТВ-МА\". \"ТВ-МА\" - это рейтинг, присвоенный Родительскими рекомендациями по телевидению телевизионной программе, которая была предназначена только для зрелой аудитории.\n",
        "\n",
        "Вторым по величине является \"ТВ-14\", обозначающий контент, который может быть неуместен для детей младше 14 лет.\n",
        "\n",
        "Третьим по величине является очень популярный рейтинг \"R\".Фильм с рейтингом R-это фильм, который был оценен Американской ассоциацией киноискусств как имеющий материал, который может быть непригоден для детей в возрасте до 17 лет; MPAA пишет: \"Для детей в возрасте до 17 лет требуется сопровождающий родитель или взрослый опекун\"."
      ]
    },
    {
      "cell_type": "code",
      "metadata": {
        "colab": {
          "base_uri": "https://localhost:8080/",
          "height": 611
        },
        "id": "3PtrfdurkwB-",
        "outputId": "6751a9ce-f4f4-410c-cfc7-334b23672d81"
      },
      "source": [
        "plt.figure(figsize=(25,10))\n",
        "sns.set(style=\"darkgrid\")\n",
        "ax = sns.countplot(x=\"country\",data=netflix_overall,hue= \"type\",order = netflix_overall['country'].value_counts().index[0:15])"
      ],
      "execution_count": null,
      "outputs": [
        {
          "output_type": "display_data",
          "data": {
            "image/png": "[encoded data removed]",
            "text/plain": [
              "<Figure size 1800x720 with 1 Axes>"
            ]
          },
          "metadata": {
            "tags": []
          }
        }
      ]
    },
    {
      "cell_type": "markdown",
      "metadata": {
        "id": "iQMPGptJlJaU"
      },
      "source": [
        "Таким образом,Соединенные Штаты предоставляют наибольшее количество фильмов и телешоу, а затем на 2-м месте Индия предоставляет наибольшее количество фильмов"
      ]
    },
    {
      "cell_type": "code",
      "metadata": {
        "id": "vPy1PPD0be_N"
      },
      "source": [
        "temp = netflix_overall[['type', 'release_year']]\n",
        "temp = temp.value_counts().to_frame()\n",
        "temp.reset_index(level=[0,1], inplace=True)\n",
        "temp = temp.rename(columns = {0:'count'})\n",
        "temp = pd.concat([temp[temp['type'] == 'Movie'][:5], temp[temp['type']== 'TV Show'][:5]])"
      ],
      "execution_count": null,
      "outputs": []
    },
    {
      "cell_type": "code",
      "metadata": {
        "colab": {
          "base_uri": "https://localhost:8080/",
          "height": 416
        },
        "id": "zs7xbyzMd1A4",
        "outputId": "79bf46f0-66a9-44bf-8b95-f4e46694af7a"
      },
      "source": [
        "sns.catplot(x = 'release_year', y = 'count', hue = 'type', data = temp, kind = 'point')\n",
        "plt.xlabel('Release Year')\n",
        "plt.ylabel('Frequency')\n",
        "plt.title('Рост кино/телешоу с годами', size=14)"
      ],
      "execution_count": null,
      "outputs": [
        {
          "output_type": "execute_result",
          "data": {
            "text/plain": [
              "Text(0.5, 1.0, 'Рост кино/телешоу с годами')"
            ]
          },
          "metadata": {
            "tags": []
          },
          "execution_count": 9
        },
        {
          "output_type": "display_data",
          "data": {
            "image/png": "[encoded data removed]",
            "text/plain": [
              "<Figure size 447.1x360 with 1 Axes>"
            ]
          },
          "metadata": {
            "tags": []
          }
        }
      ]
    },
    {
      "cell_type": "code",
      "metadata": {
        "colab": {
          "base_uri": "https://localhost:8080/"
        },
        "id": "UvpBBsC2be8j",
        "outputId": "9e58f84d-dd2d-442f-efb2-27ff000b8b60"
      },
      "source": [
        "imdb_ratings=pd.read_csv('IMDb ratings.csv',usecols=['weighted_average_vote'])\n",
        "imdb_titles=pd.read_csv('IMDb movies.csv', usecols=['title','year','genre'])\n",
        "ratings = pd.DataFrame({'Title':imdb_titles.title,\n",
        "                    'Release Year':imdb_titles.year,\n",
        "                    'Rating': imdb_ratings.weighted_average_vote,\n",
        "                    'Genre':imdb_titles.genre})\n",
        "ratings.drop_duplicates(subset=['Title','Release Year','Rating'], inplace=True)\n",
        "ratings.shape"
      ],
      "execution_count": null,
      "outputs": [
        {
          "output_type": "stream",
          "text": [
            "/usr/local/lib/python3.7/dist-packages/IPython/core/interactiveshell.py:2718: DtypeWarning: Columns (3) have mixed types.Specify dtype option on import or set low_memory=False.\n",
            "  interactivity=interactivity, compiler=compiler, result=result)\n"
          ],
          "name": "stderr"
        },
        {
          "output_type": "execute_result",
          "data": {
            "text/plain": [
              "(85852, 4)"
            ]
          },
          "metadata": {
            "tags": []
          },
          "execution_count": 10
        }
      ]
    },
    {
      "cell_type": "markdown",
      "metadata": {
        "id": "4lDKbDvAfUDP"
      },
      "source": [
        "Выполнение внутреннего объединения набора данных рейтингов и набора данных netflix для получения контента, имеющего рейтинги на IMDB и доступного на Netflix."
      ]
    },
    {
      "cell_type": "code",
      "metadata": {
        "id": "NFE7jTNsbe1d"
      },
      "source": [
        "ratings.dropna()\n",
        "joint_data=ratings.merge(netflix_overall,left_on='Title',right_on='title',how='inner')\n",
        "joint_data=joint_data.sort_values(by='Rating', ascending=False)"
      ],
      "execution_count": null,
      "outputs": []
    },
    {
      "cell_type": "markdown",
      "metadata": {
        "id": "HmMgVS-Mf4k2"
      },
      "source": [
        "Страны с самым высоким рейтингом контента."
      ]
    },
    {
      "cell_type": "code",
      "metadata": {
        "colab": {
          "base_uri": "https://localhost:8080/",
          "height": 390
        },
        "id": "lcMyYHFKbewJ",
        "outputId": "2e6dec7a-c1f9-4e5d-9c92-d70377ba273d"
      },
      "source": [
        "country_count=joint_data['country'].value_counts().sort_values(ascending=False)\n",
        "country_count=pd.DataFrame(country_count)\n",
        "topcountries=country_count[0:11]\n",
        "topcountries"
      ],
      "execution_count": null,
      "outputs": [
        {
          "output_type": "execute_result",
          "data": {
            "text/html": [
              "<div>\n",
              "<style scoped>\n",
              "    .dataframe tbody tr th:only-of-type {\n",
              "        vertical-align: middle;\n",
              "    }\n",
              "\n",
              "    .dataframe tbody tr th {\n",
              "        vertical-align: top;\n",
              "    }\n",
              "\n",
              "    .dataframe thead th {\n",
              "        text-align: right;\n",
              "    }\n",
              "</style>\n",
              "<table border=\"1\" class=\"dataframe\">\n",
              "  <thead>\n",
              "    <tr style=\"text-align: right;\">\n",
              "      <th></th>\n",
              "      <th>country</th>\n",
              "    </tr>\n",
              "  </thead>\n",
              "  <tbody>\n",
              "    <tr>\n",
              "      <th>United States</th>\n",
              "      <td>799</td>\n",
              "    </tr>\n",
              "    <tr>\n",
              "      <th>India</th>\n",
              "      <td>701</td>\n",
              "    </tr>\n",
              "    <tr>\n",
              "      <th>United Kingdom</th>\n",
              "      <td>107</td>\n",
              "    </tr>\n",
              "    <tr>\n",
              "      <th>Canada</th>\n",
              "      <td>56</td>\n",
              "    </tr>\n",
              "    <tr>\n",
              "      <th>Philippines</th>\n",
              "      <td>50</td>\n",
              "    </tr>\n",
              "    <tr>\n",
              "      <th>Spain</th>\n",
              "      <td>40</td>\n",
              "    </tr>\n",
              "    <tr>\n",
              "      <th>South Korea</th>\n",
              "      <td>36</td>\n",
              "    </tr>\n",
              "    <tr>\n",
              "      <th>Indonesia</th>\n",
              "      <td>35</td>\n",
              "    </tr>\n",
              "    <tr>\n",
              "      <th>France</th>\n",
              "      <td>33</td>\n",
              "    </tr>\n",
              "    <tr>\n",
              "      <th>United Kingdom, United States</th>\n",
              "      <td>31</td>\n",
              "    </tr>\n",
              "    <tr>\n",
              "      <th>Australia</th>\n",
              "      <td>30</td>\n",
              "    </tr>\n",
              "  </tbody>\n",
              "</table>\n",
              "</div>"
            ],
            "text/plain": [
              "                               country\n",
              "United States                      799\n",
              "India                              701\n",
              "United Kingdom                     107\n",
              "Canada                              56\n",
              "Philippines                         50\n",
              "Spain                               40\n",
              "South Korea                         36\n",
              "Indonesia                           35\n",
              "France                              33\n",
              "United Kingdom, United States       31\n",
              "Australia                           30"
            ]
          },
          "metadata": {
            "tags": []
          },
          "execution_count": 12
        }
      ]
    },
    {
      "cell_type": "code",
      "metadata": {
        "colab": {
          "base_uri": "https://localhost:8080/",
          "height": 611
        },
        "id": "10vvimhRbet7",
        "outputId": "b2ea1cfc-0e25-40db-cfd4-0f4a5ef95395"
      },
      "source": [
        "plt.figure(figsize=(12,10))\n",
        "sns.set(style=\"darkgrid\")\n",
        "ax = sns.countplot(y=\"release_year\", data=netflix_movies, palette=\"Set2\", order=netflix_movies['release_year'].value_counts().index[0:15])"
      ],
      "execution_count": null,
      "outputs": [
        {
          "output_type": "display_data",
          "data": {
            "image/png": "[encoded data removed]",
            "text/plain": [
              "<Figure size 864x720 with 1 Axes>"
            ]
          },
          "metadata": {
            "tags": []
          }
        }
      ]
    },
    {
      "cell_type": "markdown",
      "metadata": {
        "id": "SmON2Z99j0S9"
      },
      "source": [
        "2017 год был годом, когда было выпущено большинство фильмов."
      ]
    },
    {
      "cell_type": "code",
      "metadata": {
        "colab": {
          "base_uri": "https://localhost:8080/",
          "height": 611
        },
        "id": "vBF0R-1Abeq8",
        "outputId": "69a502be-e308-47c3-85d8-b2497dbfb295"
      },
      "source": [
        "plt.figure(figsize=(12,10))\n",
        "sns.set(style=\"darkgrid\")\n",
        "ax = sns.countplot(y=\"release_year\", data=netflix_shows, palette=\"Set2\", order=netflix_shows['release_year'].value_counts().index[0:15])"
      ],
      "execution_count": null,
      "outputs": [
        {
          "output_type": "display_data",
          "data": {
            "image/png": "[encoded data removed]",
            "text/plain": [
              "<Figure size 864x720 with 1 Axes>"
            ]
          },
          "metadata": {
            "tags": []
          }
        }
      ]
    },
    {
      "cell_type": "markdown",
      "metadata": {
        "id": "m2djy5zrj2X2"
      },
      "source": [
        "2020 год был годом, когда было выпущено большинство теле-шоу."
      ]
    },
    {
      "cell_type": "code",
      "metadata": {
        "colab": {
          "base_uri": "https://localhost:8080/",
          "height": 682
        },
        "id": "CF9HMAK5beoM",
        "outputId": "3b0bc9a9-afde-40a4-8b14-ab9dfa21193c"
      },
      "source": [
        "temp = netflix_overall[netflix_overall['type'] == 'Movie'].reset_index()\n",
        "temp['movie_duration'] = [int(x.split()[0]) for x in temp['duration'][temp['type'] == 'Movie']]\n",
        "temp['movie_duration']\n",
        "bar, ax = plt.subplots(figsize = (10,10))\n",
        "sns.distplot(a = temp['movie_duration'])"
      ],
      "execution_count": null,
      "outputs": [
        {
          "output_type": "stream",
          "text": [
            "/usr/local/lib/python3.7/dist-packages/seaborn/distributions.py:2557: FutureWarning: `distplot` is a deprecated function and will be removed in a future version. Please adapt your code to use either `displot` (a figure-level function with similar flexibility) or `histplot` (an axes-level function for histograms).\n",
            "  warnings.warn(msg, FutureWarning)\n"
          ],
          "name": "stderr"
        },
        {
          "output_type": "execute_result",
          "data": {
            "text/plain": [
              "<matplotlib.axes._subplots.AxesSubplot at 0x7f544b7fbb50>"
            ]
          },
          "metadata": {
            "tags": []
          },
          "execution_count": 15
        },
        {
          "output_type": "display_data",
          "data": {
            "image/png": "[encoded data removed]",
            "text/plain": [
              "<Figure size 720x720 with 1 Axes>"
            ]
          },
          "metadata": {
            "tags": []
          }
        }
      ]
    },
    {
      "cell_type": "markdown",
      "metadata": {
        "id": "TTD7LDD-mBse"
      },
      "source": [
        "Таким образом, большое количество фильмов на Netflix имеют продолжительность 75-120 минут. Это приемлемо, учитывая тот факт, что значительная часть аудитории не может посмотреть 3-часовой фильм за один присест."
      ]
    },
    {
      "cell_type": "code",
      "metadata": {
        "id": "p3qnYj_fox1Q"
      },
      "source": [
        "genre_set = set()\n",
        "\n",
        "for genres in netflix_overall['listed_in']:\n",
        "    try:\n",
        "        listed_in = [genre.strip() for genre in genres.split(',')]\n",
        "        genre_set.update(listed_in)\n",
        "    except:\n",
        "        pass\n",
        "\n",
        "genre_dictionary = {}\n",
        "    \n",
        "for genre in genre_set:\n",
        "    for genre_list in netflix_overall['listed_in']:\n",
        "        try:\n",
        "            listed_in = [genre.strip() for genre in genre_list.split(',')]\n",
        "            if genre in listed_in:\n",
        "                if genre in genre_dictionary.keys():\n",
        "                    genre_dictionary[genre] = genre_dictionary[genre] + 1\n",
        "                else:\n",
        "                    genre_dictionary[genre] =1\n",
        "        except:\n",
        "            pass\n",
        "        \n",
        "genre_list_with_counts = sorted(genre_dictionary.items(), key=lambda x: x[1], reverse=True)"
      ],
      "execution_count": null,
      "outputs": []
    },
    {
      "cell_type": "code",
      "metadata": {
        "colab": {
          "base_uri": "https://localhost:8080/"
        },
        "id": "brvsdrYzo87_",
        "outputId": "18a76f2c-142e-415c-e263-788bbb2e205f"
      },
      "source": [
        "!pip install squarify"
      ],
      "execution_count": null,
      "outputs": [
        {
          "output_type": "stream",
          "text": [
            "Collecting squarify\n",
            "  Downloading https://files.pythonhosted.org/packages/0b/2b/2e77c35326efec19819cd1d729540d4d235e6c2a3f37658288a363a67da5/squarify-0.4.3-py3-none-any.whl\n",
            "Installing collected packages: squarify\n",
            "Successfully installed squarify-0.4.3\n"
          ],
          "name": "stdout"
        }
      ]
    },
    {
      "cell_type": "code",
      "metadata": {
        "colab": {
          "base_uri": "https://localhost:8080/",
          "height": 683
        },
        "id": "Ww7l1xEJbel2",
        "outputId": "4b1f095a-439c-49ba-80df-7f1ffe724b08"
      },
      "source": [
        "import squarify\n",
        "\n",
        "plt.figure(figsize=(18, 12))\n",
        "\n",
        "labels = [genre_counts[0] for genre_counts in genre_list_with_counts[:20]]\n",
        "sizes = [genre_counts[1] for genre_counts in genre_list_with_counts[:20]]\n",
        "\n",
        "squarify.plot(sizes=sizes, label=labels, color=[\"#63D1F4\",\"#8FDEF7\",\"#BBEBFA\"])\n",
        "\n",
        "plt.axis('off')\n",
        "plt.show()"
      ],
      "execution_count": null,
      "outputs": [
        {
          "output_type": "display_data",
          "data": {
            "image/png": "[encoded data removed]",
            "text/plain": [
              "<Figure size 1296x864 with 1 Axes>"
            ]
          },
          "metadata": {
            "tags": []
          }
        }
      ]
    },
    {
      "cell_type": "code",
      "metadata": {
        "colab": {
          "base_uri": "https://localhost:8080/"
        },
        "id": "ZOuCA0gQbejV",
        "outputId": "321d01b3-c4b8-40a6-db42-2e73fd2f5e80"
      },
      "source": [
        "top_listed_in=netflix_movies[\"listed_in\"].value_counts()[0:20]\n",
        "top_listed_in.head()"
      ],
      "execution_count": null,
      "outputs": [
        {
          "output_type": "execute_result",
          "data": {
            "text/plain": [
              "Documentaries                                       334\n",
              "Stand-Up Comedy                                     321\n",
              "Dramas, International Movies                        320\n",
              "Comedies, Dramas, International Movies              243\n",
              "Dramas, Independent Movies, International Movies    215\n",
              "Name: listed_in, dtype: int64"
            ]
          },
          "metadata": {
            "tags": []
          },
          "execution_count": 19
        }
      ]
    },
    {
      "cell_type": "markdown",
      "metadata": {
        "id": "ZXprHTz3vNCe"
      },
      "source": [
        "Среди фильмов наиболее распространены детективы"
      ]
    },
    {
      "cell_type": "markdown",
      "metadata": {
        "id": "2dFigh3ExBZ2"
      },
      "source": [
        "Давайте выясним , какие жанровые фильмы/телешоу получают наибольшее количество рейтингов, по какому рейтингу"
      ]
    },
    {
      "cell_type": "code",
      "metadata": {
        "colab": {
          "base_uri": "https://localhost:8080/",
          "height": 869
        },
        "id": "sMdYN34cbebs",
        "outputId": "75dd77c4-c58e-4622-acf5-2b480a417a1c"
      },
      "source": [
        "sns.set()\n",
        "plt.figure(figsize=(30,15))\n",
        "sns.countplot(x='listed_in',hue='rating',data = netflix_movies,order = netflix_movies[\"listed_in\"].value_counts().index[0:10])\n",
        "plt.xticks(rotation = 30)\n",
        "plt.show()"
      ],
      "execution_count": null,
      "outputs": [
        {
          "output_type": "display_data",
          "data": {
            "image/png": "[encoded data removed]",
            "text/plain": [
              "<Figure size 2160x1080 with 1 Axes>"
            ]
          },
          "metadata": {
            "tags": []
          }
        }
      ]
    },
    {
      "cell_type": "markdown",
      "metadata": {
        "id": "RlFUuozsxc0q"
      },
      "source": [
        "Фильмы драматического типа в основном оцениваются TV-14, а большинство комедийных фильмов оцениваются TV-MA"
      ]
    },
    {
      "cell_type": "code",
      "metadata": {
        "colab": {
          "base_uri": "https://localhost:8080/",
          "height": 669
        },
        "id": "2hr_R9Exxnzn",
        "outputId": "811838fc-7b89-47a4-be0e-aa630a5795be"
      },
      "source": [
        "old = netflix_overall.sort_values(\"release_year\",ascending=True)\n",
        "old[[\"title\",\"type\",\"country\",\"release_year\"]].head(20)"
      ],
      "execution_count": null,
      "outputs": [
        {
          "output_type": "execute_result",
          "data": {
            "text/html": [
              "<div>\n",
              "<style scoped>\n",
              "    .dataframe tbody tr th:only-of-type {\n",
              "        vertical-align: middle;\n",
              "    }\n",
              "\n",
              "    .dataframe tbody tr th {\n",
              "        vertical-align: top;\n",
              "    }\n",
              "\n",
              "    .dataframe thead th {\n",
              "        text-align: right;\n",
              "    }\n",
              "</style>\n",
              "<table border=\"1\" class=\"dataframe\">\n",
              "  <thead>\n",
              "    <tr style=\"text-align: right;\">\n",
              "      <th></th>\n",
              "      <th>title</th>\n",
              "      <th>type</th>\n",
              "      <th>country</th>\n",
              "      <th>release_year</th>\n",
              "    </tr>\n",
              "  </thead>\n",
              "  <tbody>\n",
              "    <tr>\n",
              "      <th>4867</th>\n",
              "      <td>Pioneers: First Women Filmmakers*</td>\n",
              "      <td>TV Show</td>\n",
              "      <td>NaN</td>\n",
              "      <td>1925</td>\n",
              "    </tr>\n",
              "    <tr>\n",
              "      <th>6117</th>\n",
              "      <td>The Battle of Midway</td>\n",
              "      <td>Movie</td>\n",
              "      <td>United States</td>\n",
              "      <td>1942</td>\n",
              "    </tr>\n",
              "    <tr>\n",
              "      <th>4960</th>\n",
              "      <td>Prelude to War</td>\n",
              "      <td>Movie</td>\n",
              "      <td>United States</td>\n",
              "      <td>1942</td>\n",
              "    </tr>\n",
              "    <tr>\n",
              "      <th>7679</th>\n",
              "      <td>WWII: Report from the Aleutians</td>\n",
              "      <td>Movie</td>\n",
              "      <td>United States</td>\n",
              "      <td>1943</td>\n",
              "    </tr>\n",
              "    <tr>\n",
              "      <th>7342</th>\n",
              "      <td>Undercover: How to Operate Behind Enemy Lines</td>\n",
              "      <td>Movie</td>\n",
              "      <td>United States</td>\n",
              "      <td>1943</td>\n",
              "    </tr>\n",
              "    <tr>\n",
              "      <th>7616</th>\n",
              "      <td>Why We Fight: The Battle of Russia</td>\n",
              "      <td>Movie</td>\n",
              "      <td>United States</td>\n",
              "      <td>1943</td>\n",
              "    </tr>\n",
              "    <tr>\n",
              "      <th>7268</th>\n",
              "      <td>Tunisian Victory</td>\n",
              "      <td>Movie</td>\n",
              "      <td>United States, United Kingdom</td>\n",
              "      <td>1944</td>\n",
              "    </tr>\n",
              "    <tr>\n",
              "      <th>6699</th>\n",
              "      <td>The Negro Soldier</td>\n",
              "      <td>Movie</td>\n",
              "      <td>United States</td>\n",
              "      <td>1944</td>\n",
              "    </tr>\n",
              "    <tr>\n",
              "      <th>6657</th>\n",
              "      <td>The Memphis Belle: A Story of a\\nFlying Fortress</td>\n",
              "      <td>Movie</td>\n",
              "      <td>United States</td>\n",
              "      <td>1944</td>\n",
              "    </tr>\n",
              "    <tr>\n",
              "      <th>5371</th>\n",
              "      <td>San Pietro</td>\n",
              "      <td>Movie</td>\n",
              "      <td>United States</td>\n",
              "      <td>1945</td>\n",
              "    </tr>\n",
              "    <tr>\n",
              "      <th>3425</th>\n",
              "      <td>Know Your Enemy - Japan</td>\n",
              "      <td>Movie</td>\n",
              "      <td>United States</td>\n",
              "      <td>1945</td>\n",
              "    </tr>\n",
              "    <tr>\n",
              "      <th>4436</th>\n",
              "      <td>Nazi Concentration Camps</td>\n",
              "      <td>Movie</td>\n",
              "      <td>United States</td>\n",
              "      <td>1945</td>\n",
              "    </tr>\n",
              "    <tr>\n",
              "      <th>3608</th>\n",
              "      <td>Let There Be Light</td>\n",
              "      <td>Movie</td>\n",
              "      <td>United States</td>\n",
              "      <td>1946</td>\n",
              "    </tr>\n",
              "    <tr>\n",
              "      <th>4866</th>\n",
              "      <td>Pioneers of African-American Cinema</td>\n",
              "      <td>TV Show</td>\n",
              "      <td>United States</td>\n",
              "      <td>1946</td>\n",
              "    </tr>\n",
              "    <tr>\n",
              "      <th>7072</th>\n",
              "      <td>Thunderbolt</td>\n",
              "      <td>Movie</td>\n",
              "      <td>United States</td>\n",
              "      <td>1947</td>\n",
              "    </tr>\n",
              "    <tr>\n",
              "      <th>7595</th>\n",
              "      <td>White Christmas</td>\n",
              "      <td>Movie</td>\n",
              "      <td>United States</td>\n",
              "      <td>1954</td>\n",
              "    </tr>\n",
              "    <tr>\n",
              "      <th>6141</th>\n",
              "      <td>The Blazing Sun</td>\n",
              "      <td>Movie</td>\n",
              "      <td>Egypt</td>\n",
              "      <td>1954</td>\n",
              "    </tr>\n",
              "    <tr>\n",
              "      <th>6868</th>\n",
              "      <td>The Sign of Venus</td>\n",
              "      <td>Movie</td>\n",
              "      <td>Italy</td>\n",
              "      <td>1955</td>\n",
              "    </tr>\n",
              "    <tr>\n",
              "      <th>5425</th>\n",
              "      <td>Scandal in Sorrento</td>\n",
              "      <td>Movie</td>\n",
              "      <td>Italy, France</td>\n",
              "      <td>1955</td>\n",
              "    </tr>\n",
              "    <tr>\n",
              "      <th>5122</th>\n",
              "      <td>Rebel Without a Cause</td>\n",
              "      <td>Movie</td>\n",
              "      <td>United States</td>\n",
              "      <td>1955</td>\n",
              "    </tr>\n",
              "  </tbody>\n",
              "</table>\n",
              "</div>"
            ],
            "text/plain": [
              "                                                 title  ... release_year\n",
              "4867                 Pioneers: First Women Filmmakers*  ...         1925\n",
              "6117                              The Battle of Midway  ...         1942\n",
              "4960                                    Prelude to War  ...         1942\n",
              "7679                   WWII: Report from the Aleutians  ...         1943\n",
              "7342     Undercover: How to Operate Behind Enemy Lines  ...         1943\n",
              "7616                Why We Fight: The Battle of Russia  ...         1943\n",
              "7268                                  Tunisian Victory  ...         1944\n",
              "6699                                 The Negro Soldier  ...         1944\n",
              "6657  The Memphis Belle: A Story of a\\nFlying Fortress  ...         1944\n",
              "5371                                        San Pietro  ...         1945\n",
              "3425                           Know Your Enemy - Japan  ...         1945\n",
              "4436                          Nazi Concentration Camps  ...         1945\n",
              "3608                                Let There Be Light  ...         1946\n",
              "4866               Pioneers of African-American Cinema  ...         1946\n",
              "7072                                       Thunderbolt  ...         1947\n",
              "7595                                   White Christmas  ...         1954\n",
              "6141                                   The Blazing Sun  ...         1954\n",
              "6868                                 The Sign of Venus  ...         1955\n",
              "5425                               Scandal in Sorrento  ...         1955\n",
              "5122                             Rebel Without a Cause  ...         1955\n",
              "\n",
              "[20 rows x 4 columns]"
            ]
          },
          "metadata": {
            "tags": []
          },
          "execution_count": 21
        }
      ]
    },
    {
      "cell_type": "code",
      "metadata": {
        "id": "INTJASx6xvIr",
        "colab": {
          "base_uri": "https://localhost:8080/",
          "height": 359
        },
        "outputId": "9f5d3766-7f70-4a6c-942c-33488d7dc950"
      },
      "source": [
        "kids_show=netflix_overall[netflix_overall[\"listed_in\"] == \"Kids' TV\"].reset_index()\n",
        "kids_show[[\"title\",\"country\",\"release_year\"]].head(10)"
      ],
      "execution_count": null,
      "outputs": [
        {
          "output_type": "execute_result",
          "data": {
            "text/html": [
              "<div>\n",
              "<style scoped>\n",
              "    .dataframe tbody tr th:only-of-type {\n",
              "        vertical-align: middle;\n",
              "    }\n",
              "\n",
              "    .dataframe tbody tr th {\n",
              "        vertical-align: top;\n",
              "    }\n",
              "\n",
              "    .dataframe thead th {\n",
              "        text-align: right;\n",
              "    }\n",
              "</style>\n",
              "<table border=\"1\" class=\"dataframe\">\n",
              "  <thead>\n",
              "    <tr style=\"text-align: right;\">\n",
              "      <th></th>\n",
              "      <th>title</th>\n",
              "      <th>country</th>\n",
              "      <th>release_year</th>\n",
              "    </tr>\n",
              "  </thead>\n",
              "  <tbody>\n",
              "    <tr>\n",
              "      <th>0</th>\n",
              "      <td>44 Cats</td>\n",
              "      <td>Italy</td>\n",
              "      <td>2018</td>\n",
              "    </tr>\n",
              "    <tr>\n",
              "      <th>1</th>\n",
              "      <td>Abby Hatcher</td>\n",
              "      <td>United States, Canada</td>\n",
              "      <td>2019</td>\n",
              "    </tr>\n",
              "    <tr>\n",
              "      <th>2</th>\n",
              "      <td>Alphablocks</td>\n",
              "      <td>United Kingdom</td>\n",
              "      <td>2014</td>\n",
              "    </tr>\n",
              "    <tr>\n",
              "      <th>3</th>\n",
              "      <td>Ask the StoryBots</td>\n",
              "      <td>United States</td>\n",
              "      <td>2019</td>\n",
              "    </tr>\n",
              "    <tr>\n",
              "      <th>4</th>\n",
              "      <td>Bal Ganesh</td>\n",
              "      <td>NaN</td>\n",
              "      <td>2019</td>\n",
              "    </tr>\n",
              "    <tr>\n",
              "      <th>5</th>\n",
              "      <td>Barbie Dreamhouse Adventures</td>\n",
              "      <td>United States, Canada</td>\n",
              "      <td>2018</td>\n",
              "    </tr>\n",
              "    <tr>\n",
              "      <th>6</th>\n",
              "      <td>Barbie Dreamhouse Adventures: Go Team Roberts</td>\n",
              "      <td>NaN</td>\n",
              "      <td>2020</td>\n",
              "    </tr>\n",
              "    <tr>\n",
              "      <th>7</th>\n",
              "      <td>Bat Pat</td>\n",
              "      <td>Italy</td>\n",
              "      <td>2016</td>\n",
              "    </tr>\n",
              "    <tr>\n",
              "      <th>8</th>\n",
              "      <td>Be-Be-Bears</td>\n",
              "      <td>Russia</td>\n",
              "      <td>2018</td>\n",
              "    </tr>\n",
              "    <tr>\n",
              "      <th>9</th>\n",
              "      <td>Beat Bugs</td>\n",
              "      <td>Australia, Canada</td>\n",
              "      <td>2018</td>\n",
              "    </tr>\n",
              "  </tbody>\n",
              "</table>\n",
              "</div>"
            ],
            "text/plain": [
              "                                           title  ... release_year\n",
              "0                                        44 Cats  ...         2018\n",
              "1                                   Abby Hatcher  ...         2019\n",
              "2                                    Alphablocks  ...         2014\n",
              "3                              Ask the StoryBots  ...         2019\n",
              "4                                     Bal Ganesh  ...         2019\n",
              "5                   Barbie Dreamhouse Adventures  ...         2018\n",
              "6  Barbie Dreamhouse Adventures: Go Team Roberts  ...         2020\n",
              "7                                        Bat Pat  ...         2016\n",
              "8                                    Be-Be-Bears  ...         2018\n",
              "9                                      Beat Bugs  ...         2018\n",
              "\n",
              "[10 rows x 3 columns]"
            ]
          },
          "metadata": {
            "tags": []
          },
          "execution_count": 22
        }
      ]
    },
    {
      "cell_type": "markdown",
      "metadata": {
        "id": "k6MKoDfEzOm-"
      },
      "source": [
        "## Система Рекомендаций "
      ]
    },
    {
      "cell_type": "markdown",
      "metadata": {
        "id": "UK3iifNQzTPw"
      },
      "source": [
        "Оценка TF-IDF(Term Frequency-Inverse Document Frequency (TF-IDF))-это частота встречаемости слова в документе, уменьшенная на количество документов, в которых оно встречается. Это делается для того, чтобы уменьшить важность слов, которые часто встречаются в обзорах сюжетов, и, следовательно, их значение при вычислении окончательной оценки сходства."
      ]
    },
    {
      "cell_type": "code",
      "metadata": {
        "id": "lQy2uFWSzP44"
      },
      "source": [
        "from sklearn.feature_extraction.text import TfidfVectorizer"
      ],
      "execution_count": null,
      "outputs": []
    },
    {
      "cell_type": "code",
      "metadata": {
        "colab": {
          "base_uri": "https://localhost:8080/"
        },
        "id": "K6pUyz-vzQbC",
        "outputId": "7af8b36a-0aaa-42b3-e819-d92b3ed7abeb"
      },
      "source": [
        "# удаление стоп слов\n",
        "tfidf = TfidfVectorizer(stop_words='english')\n",
        "\n",
        "# замена NaN пустой строкой\n",
        "netflix_overall['description'] = netflix_overall['description'].fillna('')\n",
        "\n",
        "# создание матрицу TF-IDF путем подгонки и преобразования данных\n",
        "tfidf_matrix = tfidf.fit_transform(netflix_overall['description'])\n",
        "\n",
        "# вывод размера матрицы\n",
        "tfidf_matrix.shape"
      ],
      "execution_count": null,
      "outputs": [
        {
          "output_type": "execute_result",
          "data": {
            "text/plain": [
              "(7787, 17905)"
            ]
          },
          "metadata": {
            "tags": []
          },
          "execution_count": 24
        }
      ]
    },
    {
      "cell_type": "markdown",
      "metadata": {
        "id": "agQcxP7ez3bQ"
      },
      "source": [
        "Здесь используется оценка косинусного сходства, поскольку она не зависит от величины и относительно проста и быстра в вычислении."
      ]
    },
    {
      "cell_type": "code",
      "metadata": {
        "id": "ClBQXXfvzQY2"
      },
      "source": [
        "from sklearn.metrics.pairwise import linear_kernel\n",
        "\n",
        "# Вычислить матрицу косинусного подобия\n",
        "cosine_sim = linear_kernel(tfidf_matrix, tfidf_matrix)"
      ],
      "execution_count": null,
      "outputs": []
    },
    {
      "cell_type": "code",
      "metadata": {
        "id": "ZdwRnbzDzQVp"
      },
      "source": [
        "indices = pd.Series(netflix_overall.index, index=netflix_overall['title']).drop_duplicates()"
      ],
      "execution_count": null,
      "outputs": []
    },
    {
      "cell_type": "code",
      "metadata": {
        "id": "lHRofEoNzQTc"
      },
      "source": [
        "def get_recommendations(title, cosine_sim=cosine_sim):\n",
        "    idx = indices[title]\n",
        "\n",
        "    # Получите оценки сходства пары всех фильмов с этим фильмом\n",
        "    sim_scores = list(enumerate(cosine_sim[idx]))\n",
        "\n",
        "    # Сортировка фильмов на основе оценок сходства\n",
        "    sim_scores = sorted(sim_scores, key=lambda x: x[1], reverse=True)\n",
        "\n",
        "    # Получите оценки 10 самых похожих фильмов\n",
        "    sim_scores = sim_scores[1:11]\n",
        "\n",
        "    # Получите индексы фильмов\n",
        "    movie_indices = [i[0] for i in sim_scores]\n",
        "\n",
        "    # Верните топ-10 самых похожих фильмов\n",
        "    return netflix_overall['title'].iloc[movie_indices]"
      ],
      "execution_count": null,
      "outputs": []
    },
    {
      "cell_type": "code",
      "metadata": {
        "colab": {
          "base_uri": "https://localhost:8080/"
        },
        "id": "idaQQJvDzQRc",
        "outputId": "b2f364d0-1982-49bb-dd94-5f92e430f2ea"
      },
      "source": [
        "get_recommendations('Rocky')"
      ],
      "execution_count": null,
      "outputs": [
        {
          "output_type": "execute_result",
          "data": {
            "text/plain": [
              "5247                                            Rocky III\n",
              "5248                                             Rocky IV\n",
              "5246                                             Rocky II\n",
              "6142                                          The Bleeder\n",
              "5068    Raiders!: The Story of the Greatest Fan Film E...\n",
              "2492                                      Goodbye My Wife\n",
              "46                                       1 Chance 2 Dance\n",
              "3375                                    Kill Bill: Vol. 1\n",
              "7392                                        Vantage Point\n",
              "1927                                Ee Nagaraniki Emaindi\n",
              "Name: title, dtype: object"
            ]
          },
          "metadata": {
            "tags": []
          },
          "execution_count": 28
        }
      ]
    },
    {
      "cell_type": "code",
      "metadata": {
        "colab": {
          "base_uri": "https://localhost:8080/"
        },
        "id": "-OcX7NpUzQQB",
        "outputId": "743006e6-d7e2-4507-ce32-fd711e8bfc81"
      },
      "source": [
        "get_recommendations('Bad Boys')"
      ],
      "execution_count": null,
      "outputs": [
        {
          "output_type": "execute_result",
          "data": {
            "text/plain": [
              "688           Bad Boys II\n",
              "4037             Merantau\n",
              "1799               Dollar\n",
              "5623       Sing On! Spain\n",
              "3529    Lara and the Beat\n",
              "5227                 Rize\n",
              "4670     Operation Odessa\n",
              "2691              Hellboy\n",
              "4097              Mile 22\n",
              "805             Before 30\n",
              "Name: title, dtype: object"
            ]
          },
          "metadata": {
            "tags": []
          },
          "execution_count": 29
        }
      ]
    },
    {
      "cell_type": "markdown",
      "metadata": {
        "id": "XyYbCDZL1Czo"
      },
      "source": [
        "**Видно, что модель работает хорошо, но не очень точно.Поэтому для повышения производительности в модель добавляется больше метрик.**"
      ]
    },
    {
      "cell_type": "markdown",
      "metadata": {
        "id": "iaw_zdKM1MNZ"
      },
      "source": [
        "### Фильтрация контента на основе нескольких метрик\n",
        "\n",
        "Фильтрация контента на основе следующих факторов:\n",
        "\n",
        "* Title\n",
        "* Cast\n",
        "* Director\n",
        "* Listed in\n",
        "* Plot"
      ]
    },
    {
      "cell_type": "code",
      "metadata": {
        "colab": {
          "base_uri": "https://localhost:8080/",
          "height": 145
        },
        "id": "zSWw-nFBzQLZ",
        "outputId": "28d6eff9-15d1-4f67-f68f-8f74b971dfa8"
      },
      "source": [
        "filledna=netflix_overall.fillna('')\n",
        "filledna.head(2)"
      ],
      "execution_count": null,
      "outputs": [
        {
          "output_type": "execute_result",
          "data": {
            "text/html": [
              "<div>\n",
              "<style scoped>\n",
              "    .dataframe tbody tr th:only-of-type {\n",
              "        vertical-align: middle;\n",
              "    }\n",
              "\n",
              "    .dataframe tbody tr th {\n",
              "        vertical-align: top;\n",
              "    }\n",
              "\n",
              "    .dataframe thead th {\n",
              "        text-align: right;\n",
              "    }\n",
              "</style>\n",
              "<table border=\"1\" class=\"dataframe\">\n",
              "  <thead>\n",
              "    <tr style=\"text-align: right;\">\n",
              "      <th></th>\n",
              "      <th>show_id</th>\n",
              "      <th>type</th>\n",
              "      <th>title</th>\n",
              "      <th>director</th>\n",
              "      <th>cast</th>\n",
              "      <th>country</th>\n",
              "      <th>date_added</th>\n",
              "      <th>release_year</th>\n",
              "      <th>rating</th>\n",
              "      <th>duration</th>\n",
              "      <th>listed_in</th>\n",
              "      <th>description</th>\n",
              "    </tr>\n",
              "  </thead>\n",
              "  <tbody>\n",
              "    <tr>\n",
              "      <th>0</th>\n",
              "      <td>s1</td>\n",
              "      <td>TV Show</td>\n",
              "      <td>3%</td>\n",
              "      <td></td>\n",
              "      <td>João Miguel, Bianca Comparato, Michel Gomes, R...</td>\n",
              "      <td>Brazil</td>\n",
              "      <td>August 14, 2020</td>\n",
              "      <td>2020</td>\n",
              "      <td>TV-MA</td>\n",
              "      <td>4 Seasons</td>\n",
              "      <td>International TV Shows, TV Dramas, TV Sci-Fi &amp;...</td>\n",
              "      <td>In a future where the elite inhabit an island ...</td>\n",
              "    </tr>\n",
              "    <tr>\n",
              "      <th>1</th>\n",
              "      <td>s2</td>\n",
              "      <td>Movie</td>\n",
              "      <td>7:19</td>\n",
              "      <td>Jorge Michel Grau</td>\n",
              "      <td>Demián Bichir, Héctor Bonilla, Oscar Serrano, ...</td>\n",
              "      <td>Mexico</td>\n",
              "      <td>December 23, 2016</td>\n",
              "      <td>2016</td>\n",
              "      <td>TV-MA</td>\n",
              "      <td>93 min</td>\n",
              "      <td>Dramas, International Movies</td>\n",
              "      <td>After a devastating earthquake hits Mexico Cit...</td>\n",
              "    </tr>\n",
              "  </tbody>\n",
              "</table>\n",
              "</div>"
            ],
            "text/plain": [
              "  show_id  ...                                        description\n",
              "0      s1  ...  In a future where the elite inhabit an island ...\n",
              "1      s2  ...  After a devastating earthquake hits Mexico Cit...\n",
              "\n",
              "[2 rows x 12 columns]"
            ]
          },
          "metadata": {
            "tags": []
          },
          "execution_count": 30
        }
      ]
    },
    {
      "cell_type": "code",
      "metadata": {
        "id": "RS5Uc6YGzQIh"
      },
      "source": [
        "# Очистка данных - создание всех слов в нижнем регистре\n",
        "def clean_data(x):\n",
        "  return str.lower(x.replace(\" \", \"\"))"
      ],
      "execution_count": null,
      "outputs": []
    },
    {
      "cell_type": "code",
      "metadata": {
        "id": "bVYT8vlf_lMf"
      },
      "source": [
        "# Определение объектов, по которым должна быть отфильтрована модель"
      ],
      "execution_count": null,
      "outputs": []
    },
    {
      "cell_type": "code",
      "metadata": {
        "id": "5KtNczFw_lLG"
      },
      "source": [
        "features=['title','director','cast','listed_in','description']\n",
        "filledna=filledna[features]"
      ],
      "execution_count": null,
      "outputs": []
    },
    {
      "cell_type": "code",
      "metadata": {
        "colab": {
          "base_uri": "https://localhost:8080/",
          "height": 204
        },
        "id": "c1-79ix1_lFL",
        "outputId": "fc58ebbe-e8e1-4207-db35-3930a7ff01f4"
      },
      "source": [
        "for feature in features:\n",
        "  filledna[feature] = filledna[feature].apply(clean_data)\n",
        "    \n",
        "filledna.head()"
      ],
      "execution_count": null,
      "outputs": [
        {
          "output_type": "execute_result",
          "data": {
            "text/html": [
              "<div>\n",
              "<style scoped>\n",
              "    .dataframe tbody tr th:only-of-type {\n",
              "        vertical-align: middle;\n",
              "    }\n",
              "\n",
              "    .dataframe tbody tr th {\n",
              "        vertical-align: top;\n",
              "    }\n",
              "\n",
              "    .dataframe thead th {\n",
              "        text-align: right;\n",
              "    }\n",
              "</style>\n",
              "<table border=\"1\" class=\"dataframe\">\n",
              "  <thead>\n",
              "    <tr style=\"text-align: right;\">\n",
              "      <th></th>\n",
              "      <th>title</th>\n",
              "      <th>director</th>\n",
              "      <th>cast</th>\n",
              "      <th>listed_in</th>\n",
              "      <th>description</th>\n",
              "    </tr>\n",
              "  </thead>\n",
              "  <tbody>\n",
              "    <tr>\n",
              "      <th>0</th>\n",
              "      <td>3%</td>\n",
              "      <td></td>\n",
              "      <td>joãomiguel,biancacomparato,michelgomes,rodolfo...</td>\n",
              "      <td>internationaltvshows,tvdramas,tvsci-fi&amp;fantasy</td>\n",
              "      <td>inafuturewheretheeliteinhabitanislandparadisef...</td>\n",
              "    </tr>\n",
              "    <tr>\n",
              "      <th>1</th>\n",
              "      <td>7:19</td>\n",
              "      <td>jorgemichelgrau</td>\n",
              "      <td>demiánbichir,héctorbonilla,oscarserrano,azalia...</td>\n",
              "      <td>dramas,internationalmovies</td>\n",
              "      <td>afteradevastatingearthquakehitsmexicocity,trap...</td>\n",
              "    </tr>\n",
              "    <tr>\n",
              "      <th>2</th>\n",
              "      <td>23:59</td>\n",
              "      <td>gilbertchan</td>\n",
              "      <td>teddchan,stellachung,henleyhii,lawrencekoh,tom...</td>\n",
              "      <td>horrormovies,internationalmovies</td>\n",
              "      <td>whenanarmyrecruitisfounddead,hisfellowsoldiers...</td>\n",
              "    </tr>\n",
              "    <tr>\n",
              "      <th>3</th>\n",
              "      <td>9</td>\n",
              "      <td>shaneacker</td>\n",
              "      <td>elijahwood,johnc.reilly,jenniferconnelly,chris...</td>\n",
              "      <td>action&amp;adventure,independentmovies,sci-fi&amp;fantasy</td>\n",
              "      <td>inapostapocalypticworld,rag-dollrobotshideinfe...</td>\n",
              "    </tr>\n",
              "    <tr>\n",
              "      <th>4</th>\n",
              "      <td>21</td>\n",
              "      <td>robertluketic</td>\n",
              "      <td>jimsturgess,kevinspacey,katebosworth,aaronyoo,...</td>\n",
              "      <td>dramas</td>\n",
              "      <td>abrilliantgroupofstudentsbecomecard-countingex...</td>\n",
              "    </tr>\n",
              "  </tbody>\n",
              "</table>\n",
              "</div>"
            ],
            "text/plain": [
              "   title  ...                                        description\n",
              "0     3%  ...  inafuturewheretheeliteinhabitanislandparadisef...\n",
              "1   7:19  ...  afteradevastatingearthquakehitsmexicocity,trap...\n",
              "2  23:59  ...  whenanarmyrecruitisfounddead,hisfellowsoldiers...\n",
              "3      9  ...  inapostapocalypticworld,rag-dollrobotshideinfe...\n",
              "4     21  ...  abrilliantgroupofstudentsbecomecard-countingex...\n",
              "\n",
              "[5 rows x 5 columns]"
            ]
          },
          "metadata": {
            "tags": []
          },
          "execution_count": 34
        }
      ]
    },
    {
      "cell_type": "code",
      "metadata": {
        "id": "ZWNXivjl_lDl"
      },
      "source": [
        "# Создание \"мешка слов\" для всех строк\n",
        "def create_soup(x):\n",
        "  return x['title']+ ' ' + x['director'] + ' ' + x['cast'] + ' ' +x['listed_in']+' '+ x['description']"
      ],
      "execution_count": null,
      "outputs": []
    },
    {
      "cell_type": "code",
      "metadata": {
        "id": "5ocNGL1y_lCI"
      },
      "source": [
        "filledna['soup'] = filledna.apply(create_soup, axis=1)"
      ],
      "execution_count": null,
      "outputs": []
    },
    {
      "cell_type": "markdown",
      "metadata": {
        "id": "H1UtScEpACfE"
      },
      "source": [
        "С этого момента код в основном похож на верхнюю модель, за исключением того, что вместо tfidf используется векторизатор count."
      ]
    },
    {
      "cell_type": "code",
      "metadata": {
        "id": "6uwKZwmx_k9N"
      },
      "source": [
        "from sklearn.feature_extraction.text import CountVectorizer\n",
        "from sklearn.metrics.pairwise import cosine_similarity\n",
        "\n",
        "count = CountVectorizer(stop_words='english')\n",
        "count_matrix = count.fit_transform(filledna['soup'])\n",
        "\n",
        "cosine_sim2 = cosine_similarity(count_matrix, count_matrix)"
      ],
      "execution_count": null,
      "outputs": []
    },
    {
      "cell_type": "code",
      "metadata": {
        "id": "qf1U8seL_k6x"
      },
      "source": [
        "filledna=filledna.reset_index()\n",
        "indices = pd.Series(filledna.index, index=filledna['title'])"
      ],
      "execution_count": null,
      "outputs": []
    },
    {
      "cell_type": "code",
      "metadata": {
        "id": "jYNN0OLk_k38"
      },
      "source": [
        "def get_recommendations_new(title, cosine_sim=cosine_sim):\n",
        "    title=title.replace(' ','').lower()\n",
        "    idx = indices[title]\n",
        "\n",
        "    # Получите оценки сходства пары всех фильмов с этим фильмом\n",
        "    sim_scores = list(enumerate(cosine_sim[idx]))\n",
        "\n",
        "    # Сортировка фильмов на основе оценок сходства\n",
        "    sim_scores = sorted(sim_scores, key=lambda x: x[1], reverse=True)\n",
        "\n",
        "    # Получите оценки 10 самых похожих фильмов\n",
        "    sim_scores = sim_scores[1:11]\n",
        "\n",
        "    # Получите индексы фильмов\n",
        "    movie_indices = [i[0] for i in sim_scores]\n",
        "\n",
        "    # Верните топ-10 самых похожих фильмов\n",
        "    return netflix_overall['title'].iloc[movie_indices]"
      ],
      "execution_count": null,
      "outputs": []
    },
    {
      "cell_type": "code",
      "metadata": {
        "colab": {
          "base_uri": "https://localhost:8080/"
        },
        "id": "KHwt0j7aAbwD",
        "outputId": "a206c75f-0c9b-4745-b1ca-9cf1309872fd"
      },
      "source": [
        "get_recommendations_new('Rocky', cosine_sim2)"
      ],
      "execution_count": null,
      "outputs": [
        {
          "output_type": "execute_result",
          "data": {
            "text/plain": [
              "5246                Rocky II\n",
              "5249                 Rocky V\n",
              "5247               Rocky III\n",
              "5248                Rocky IV\n",
              "280                Abdo Mota\n",
              "1236         Casino Tycoon 2\n",
              "6186                The Bund\n",
              "5907                Superfly\n",
              "4300    Mutiny on the Bounty\n",
              "5351                 Saladin\n",
              "Name: title, dtype: object"
            ]
          },
          "metadata": {
            "tags": []
          },
          "execution_count": 40
        }
      ]
    },
    {
      "cell_type": "code",
      "metadata": {
        "colab": {
          "base_uri": "https://localhost:8080/"
        },
        "id": "WCs2kGriAbmO",
        "outputId": "4477377e-1bbc-48f5-80e2-2e9b1161cb78"
      },
      "source": [
        "get_recommendations_new('Bad Boys', cosine_sim2)\n"
      ],
      "execution_count": null,
      "outputs": [
        {
          "output_type": "execute_result",
          "data": {
            "text/plain": [
              "688                   Bad Boys II\n",
              "1002                  Blue Streak\n",
              "4032              Men in Black II\n",
              "3059    Iron Sky: The Coming Race\n",
              "7376                   Used Goods\n",
              "6637    The Man Who Feels No Pain\n",
              "7623               Wild Wild West\n",
              "2743                   Himmatwala\n",
              "5393                  Sardaarji 2\n",
              "4031                 Men in Black\n",
              "Name: title, dtype: object"
            ]
          },
          "metadata": {
            "tags": []
          },
          "execution_count": 41
        }
      ]
    },
    {
      "cell_type": "markdown",
      "metadata": {
        "id": "y9onEA9ED_78"
      },
      "source": [
        "**Новая модель с увеличеным числом параметров предлагает более релевантный список фильмов, что говорит об улучшении качества модели!**"
      ]
    }
  ]
}