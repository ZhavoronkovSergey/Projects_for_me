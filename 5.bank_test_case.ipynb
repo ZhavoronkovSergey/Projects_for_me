{
  "nbformat": 4,
  "nbformat_minor": 0,
  "metadata": {
    "colab": {
      "name": "bank_test_case.ipynb",
      "provenance": []
    },
    "kernelspec": {
      "name": "python3",
      "display_name": "Python 3"
    },
    "language_info": {
      "name": "python"
    },
    "widgets": {
      "application/vnd.jupyter.widget-state+json": {
        "97c00733b9004f9785e9b0c69ecd9193": {
          "model_module": "@jupyter-widgets/controls",
          "model_name": "HBoxModel",
          "model_module_version": "1.5.0",
          "state": {
            "_view_name": "HBoxView",
            "_dom_classes": [],
            "_model_name": "HBoxModel",
            "_view_module": "@jupyter-widgets/controls",
            "_model_module_version": "1.5.0",
            "_view_count": null,
            "_view_module_version": "1.5.0",
            "box_style": "",
            "layout": "IPY_MODEL_1d1f247c078c45419bf4ba356e5aa30f",
            "_model_module": "@jupyter-widgets/controls",
            "children": [
              "IPY_MODEL_500695a28c8a4e3c8d480b6a499a40ca",
              "IPY_MODEL_12c4d71cdd0141d09bcb8eee51b4e934",
              "IPY_MODEL_7bee9a4f05ac43e481f78ee200566c85"
            ]
          }
        },
        "1d1f247c078c45419bf4ba356e5aa30f": {
          "model_module": "@jupyter-widgets/base",
          "model_name": "LayoutModel",
          "model_module_version": "1.2.0",
          "state": {
            "_view_name": "LayoutView",
            "grid_template_rows": null,
            "right": null,
            "justify_content": null,
            "_view_module": "@jupyter-widgets/base",
            "overflow": null,
            "_model_module_version": "1.2.0",
            "_view_count": null,
            "flex_flow": null,
            "width": null,
            "min_width": null,
            "border": null,
            "align_items": null,
            "bottom": null,
            "_model_module": "@jupyter-widgets/base",
            "top": null,
            "grid_column": null,
            "overflow_y": null,
            "overflow_x": null,
            "grid_auto_flow": null,
            "grid_area": null,
            "grid_template_columns": null,
            "flex": null,
            "_model_name": "LayoutModel",
            "justify_items": null,
            "grid_row": null,
            "max_height": null,
            "align_content": null,
            "visibility": null,
            "align_self": null,
            "height": null,
            "min_height": null,
            "padding": null,
            "grid_auto_rows": null,
            "grid_gap": null,
            "max_width": null,
            "order": null,
            "_view_module_version": "1.2.0",
            "grid_template_areas": null,
            "object_position": null,
            "object_fit": null,
            "grid_auto_columns": null,
            "margin": null,
            "display": null,
            "left": null
          }
        },
        "500695a28c8a4e3c8d480b6a499a40ca": {
          "model_module": "@jupyter-widgets/controls",
          "model_name": "HTMLModel",
          "model_module_version": "1.5.0",
          "state": {
            "_view_name": "HTMLView",
            "style": "IPY_MODEL_f9715394d28f46c19b35beab64416e34",
            "_dom_classes": [],
            "description": "",
            "_model_name": "HTMLModel",
            "placeholder": "​",
            "_view_module": "@jupyter-widgets/controls",
            "_model_module_version": "1.5.0",
            "value": "100%",
            "_view_count": null,
            "_view_module_version": "1.5.0",
            "description_tooltip": null,
            "_model_module": "@jupyter-widgets/controls",
            "layout": "IPY_MODEL_b755498dcb5d455db0ee0344e9dc1c74"
          }
        },
        "12c4d71cdd0141d09bcb8eee51b4e934": {
          "model_module": "@jupyter-widgets/controls",
          "model_name": "FloatProgressModel",
          "model_module_version": "1.5.0",
          "state": {
            "_view_name": "ProgressView",
            "style": "IPY_MODEL_7402dcdf41634e19bbeb654d4b68879c",
            "_dom_classes": [],
            "description": "",
            "_model_name": "FloatProgressModel",
            "bar_style": "success",
            "max": 14255,
            "_view_module": "@jupyter-widgets/controls",
            "_model_module_version": "1.5.0",
            "value": 14255,
            "_view_count": null,
            "_view_module_version": "1.5.0",
            "orientation": "horizontal",
            "min": 0,
            "description_tooltip": null,
            "_model_module": "@jupyter-widgets/controls",
            "layout": "IPY_MODEL_582d13cda1fb451f91e41a15473dcab4"
          }
        },
        "7bee9a4f05ac43e481f78ee200566c85": {
          "model_module": "@jupyter-widgets/controls",
          "model_name": "HTMLModel",
          "model_module_version": "1.5.0",
          "state": {
            "_view_name": "HTMLView",
            "style": "IPY_MODEL_69a04307a9174782ab1c219851d54fc9",
            "_dom_classes": [],
            "description": "",
            "_model_name": "HTMLModel",
            "placeholder": "​",
            "_view_module": "@jupyter-widgets/controls",
            "_model_module_version": "1.5.0",
            "value": " 14255/14255 [01:01&lt;00:00, 245.43it/s]",
            "_view_count": null,
            "_view_module_version": "1.5.0",
            "description_tooltip": null,
            "_model_module": "@jupyter-widgets/controls",
            "layout": "IPY_MODEL_574761e2d31646f2bc6a291afcde1414"
          }
        },
        "f9715394d28f46c19b35beab64416e34": {
          "model_module": "@jupyter-widgets/controls",
          "model_name": "DescriptionStyleModel",
          "model_module_version": "1.5.0",
          "state": {
            "_view_name": "StyleView",
            "_model_name": "DescriptionStyleModel",
            "description_width": "",
            "_view_module": "@jupyter-widgets/base",
            "_model_module_version": "1.5.0",
            "_view_count": null,
            "_view_module_version": "1.2.0",
            "_model_module": "@jupyter-widgets/controls"
          }
        },
        "b755498dcb5d455db0ee0344e9dc1c74": {
          "model_module": "@jupyter-widgets/base",
          "model_name": "LayoutModel",
          "model_module_version": "1.2.0",
          "state": {
            "_view_name": "LayoutView",
            "grid_template_rows": null,
            "right": null,
            "justify_content": null,
            "_view_module": "@jupyter-widgets/base",
            "overflow": null,
            "_model_module_version": "1.2.0",
            "_view_count": null,
            "flex_flow": null,
            "width": null,
            "min_width": null,
            "border": null,
            "align_items": null,
            "bottom": null,
            "_model_module": "@jupyter-widgets/base",
            "top": null,
            "grid_column": null,
            "overflow_y": null,
            "overflow_x": null,
            "grid_auto_flow": null,
            "grid_area": null,
            "grid_template_columns": null,
            "flex": null,
            "_model_name": "LayoutModel",
            "justify_items": null,
            "grid_row": null,
            "max_height": null,
            "align_content": null,
            "visibility": null,
            "align_self": null,
            "height": null,
            "min_height": null,
            "padding": null,
            "grid_auto_rows": null,
            "grid_gap": null,
            "max_width": null,
            "order": null,
            "_view_module_version": "1.2.0",
            "grid_template_areas": null,
            "object_position": null,
            "object_fit": null,
            "grid_auto_columns": null,
            "margin": null,
            "display": null,
            "left": null
          }
        },
        "7402dcdf41634e19bbeb654d4b68879c": {
          "model_module": "@jupyter-widgets/controls",
          "model_name": "ProgressStyleModel",
          "model_module_version": "1.5.0",
          "state": {
            "_view_name": "StyleView",
            "_model_name": "ProgressStyleModel",
            "description_width": "",
            "_view_module": "@jupyter-widgets/base",
            "_model_module_version": "1.5.0",
            "_view_count": null,
            "_view_module_version": "1.2.0",
            "bar_color": null,
            "_model_module": "@jupyter-widgets/controls"
          }
        },
        "582d13cda1fb451f91e41a15473dcab4": {
          "model_module": "@jupyter-widgets/base",
          "model_name": "LayoutModel",
          "model_module_version": "1.2.0",
          "state": {
            "_view_name": "LayoutView",
            "grid_template_rows": null,
            "right": null,
            "justify_content": null,
            "_view_module": "@jupyter-widgets/base",
            "overflow": null,
            "_model_module_version": "1.2.0",
            "_view_count": null,
            "flex_flow": null,
            "width": null,
            "min_width": null,
            "border": null,
            "align_items": null,
            "bottom": null,
            "_model_module": "@jupyter-widgets/base",
            "top": null,
            "grid_column": null,
            "overflow_y": null,
            "overflow_x": null,
            "grid_auto_flow": null,
            "grid_area": null,
            "grid_template_columns": null,
            "flex": null,
            "_model_name": "LayoutModel",
            "justify_items": null,
            "grid_row": null,
            "max_height": null,
            "align_content": null,
            "visibility": null,
            "align_self": null,
            "height": null,
            "min_height": null,
            "padding": null,
            "grid_auto_rows": null,
            "grid_gap": null,
            "max_width": null,
            "order": null,
            "_view_module_version": "1.2.0",
            "grid_template_areas": null,
            "object_position": null,
            "object_fit": null,
            "grid_auto_columns": null,
            "margin": null,
            "display": null,
            "left": null
          }
        },
        "69a04307a9174782ab1c219851d54fc9": {
          "model_module": "@jupyter-widgets/controls",
          "model_name": "DescriptionStyleModel",
          "model_module_version": "1.5.0",
          "state": {
            "_view_name": "StyleView",
            "_model_name": "DescriptionStyleModel",
            "description_width": "",
            "_view_module": "@jupyter-widgets/base",
            "_model_module_version": "1.5.0",
            "_view_count": null,
            "_view_module_version": "1.2.0",
            "_model_module": "@jupyter-widgets/controls"
          }
        },
        "574761e2d31646f2bc6a291afcde1414": {
          "model_module": "@jupyter-widgets/base",
          "model_name": "LayoutModel",
          "model_module_version": "1.2.0",
          "state": {
            "_view_name": "LayoutView",
            "grid_template_rows": null,
            "right": null,
            "justify_content": null,
            "_view_module": "@jupyter-widgets/base",
            "overflow": null,
            "_model_module_version": "1.2.0",
            "_view_count": null,
            "flex_flow": null,
            "width": null,
            "min_width": null,
            "border": null,
            "align_items": null,
            "bottom": null,
            "_model_module": "@jupyter-widgets/base",
            "top": null,
            "grid_column": null,
            "overflow_y": null,
            "overflow_x": null,
            "grid_auto_flow": null,
            "grid_area": null,
            "grid_template_columns": null,
            "flex": null,
            "_model_name": "LayoutModel",
            "justify_items": null,
            "grid_row": null,
            "max_height": null,
            "align_content": null,
            "visibility": null,
            "align_self": null,
            "height": null,
            "min_height": null,
            "padding": null,
            "grid_auto_rows": null,
            "grid_gap": null,
            "max_width": null,
            "order": null,
            "_view_module_version": "1.2.0",
            "grid_template_areas": null,
            "object_position": null,
            "object_fit": null,
            "grid_auto_columns": null,
            "margin": null,
            "display": null,
            "left": null
          }
        }
      }
    }
  },
  "cells": [
    {
      "cell_type": "code",
      "metadata": {
        "id": "dIwTdZZif8jq"
      },
      "source": [
        "import pandas as pd\n",
        "import numpy as np"
      ],
      "execution_count": 1,
      "outputs": []
    },
    {
      "cell_type": "code",
      "metadata": {
        "colab": {
          "base_uri": "https://localhost:8080/"
        },
        "id": "TmoPzJ1Ef_F5",
        "outputId": "af7ae15a-37d3-444d-c161-ea881911a46d"
      },
      "source": [
        "!gdown --id 1plvZ7poGmKX2YWgEUyuaAkjcb7ZvNVS-"
      ],
      "execution_count": 2,
      "outputs": [
        {
          "output_type": "stream",
          "name": "stdout",
          "text": [
            "Downloading...\n",
            "From: https://drive.google.com/uc?id=1plvZ7poGmKX2YWgEUyuaAkjcb7ZvNVS-\n",
            "To: /content/bank-test-case-ds.csv\n",
            "\r  0% 0.00/4.35M [00:00<?, ?B/s]\r100% 4.35M/4.35M [00:00<00:00, 41.8MB/s]\n"
          ]
        }
      ]
    },
    {
      "cell_type": "code",
      "metadata": {
        "id": "4GfKFTkMf_ES"
      },
      "source": [
        "df = pd.read_csv('/content/bank-test-case-ds.csv',sep=';')"
      ],
      "execution_count": 3,
      "outputs": []
    },
    {
      "cell_type": "code",
      "metadata": {
        "colab": {
          "base_uri": "https://localhost:8080/",
          "height": 224
        },
        "id": "GdCJ0y9if_Bl",
        "outputId": "d6b16455-5b03-4ea6-8027-c9510e307ed6"
      },
      "source": [
        "df.head()"
      ],
      "execution_count": 4,
      "outputs": [
        {
          "output_type": "execute_result",
          "data": {
            "text/html": [
              "<div>\n",
              "<style scoped>\n",
              "    .dataframe tbody tr th:only-of-type {\n",
              "        vertical-align: middle;\n",
              "    }\n",
              "\n",
              "    .dataframe tbody tr th {\n",
              "        vertical-align: top;\n",
              "    }\n",
              "\n",
              "    .dataframe thead th {\n",
              "        text-align: right;\n",
              "    }\n",
              "</style>\n",
              "<table border=\"1\" class=\"dataframe\">\n",
              "  <thead>\n",
              "    <tr style=\"text-align: right;\">\n",
              "      <th></th>\n",
              "      <th>closed_cred_sum</th>\n",
              "      <th>closed_creds</th>\n",
              "      <th>active_cred_sum_overdue</th>\n",
              "      <th>active_cred_sum</th>\n",
              "      <th>active_cred_day_overdue</th>\n",
              "      <th>active_cred_max_overdue</th>\n",
              "      <th>age</th>\n",
              "      <th>gender</th>\n",
              "      <th>region</th>\n",
              "      <th>first_loan</th>\n",
              "      <th>loan_cost_all</th>\n",
              "      <th>first_days_quant</th>\n",
              "      <th>month_income</th>\n",
              "      <th>order_date</th>\n",
              "      <th>cost_all</th>\n",
              "      <th>order_id</th>\n",
              "      <th>client_id</th>\n",
              "      <th>expert</th>\n",
              "    </tr>\n",
              "  </thead>\n",
              "  <tbody>\n",
              "    <tr>\n",
              "      <th>0</th>\n",
              "      <td>143822.0</td>\n",
              "      <td>22</td>\n",
              "      <td>104.12</td>\n",
              "      <td>130068.80</td>\n",
              "      <td>8</td>\n",
              "      <td>756.09</td>\n",
              "      <td>31</td>\n",
              "      <td>0</td>\n",
              "      <td>36</td>\n",
              "      <td>10000.0</td>\n",
              "      <td>10000</td>\n",
              "      <td>196</td>\n",
              "      <td>0.0</td>\n",
              "      <td>2017-07-23</td>\n",
              "      <td>0.0</td>\n",
              "      <td>728319</td>\n",
              "      <td>320464</td>\n",
              "      <td>1</td>\n",
              "    </tr>\n",
              "    <tr>\n",
              "      <th>1</th>\n",
              "      <td>0.0</td>\n",
              "      <td>0</td>\n",
              "      <td>38151.93</td>\n",
              "      <td>46230.00</td>\n",
              "      <td>1492</td>\n",
              "      <td>38151.93</td>\n",
              "      <td>51</td>\n",
              "      <td>0</td>\n",
              "      <td>93</td>\n",
              "      <td>10000.0</td>\n",
              "      <td>10000</td>\n",
              "      <td>17</td>\n",
              "      <td>20000.0</td>\n",
              "      <td>2017-07-23</td>\n",
              "      <td>0.0</td>\n",
              "      <td>728321</td>\n",
              "      <td>320466</td>\n",
              "      <td>1</td>\n",
              "    </tr>\n",
              "    <tr>\n",
              "      <th>2</th>\n",
              "      <td>51356.0</td>\n",
              "      <td>2</td>\n",
              "      <td>3000.00</td>\n",
              "      <td>3000.00</td>\n",
              "      <td>8</td>\n",
              "      <td>3000.00</td>\n",
              "      <td>28</td>\n",
              "      <td>1</td>\n",
              "      <td>3</td>\n",
              "      <td>10000.0</td>\n",
              "      <td>10000</td>\n",
              "      <td>84</td>\n",
              "      <td>0.0</td>\n",
              "      <td>2017-07-23</td>\n",
              "      <td>0.0</td>\n",
              "      <td>728323</td>\n",
              "      <td>320467</td>\n",
              "      <td>1</td>\n",
              "    </tr>\n",
              "    <tr>\n",
              "      <th>3</th>\n",
              "      <td>0.0</td>\n",
              "      <td>0</td>\n",
              "      <td>22784.19</td>\n",
              "      <td>32103.52</td>\n",
              "      <td>913</td>\n",
              "      <td>22784.19</td>\n",
              "      <td>28</td>\n",
              "      <td>0</td>\n",
              "      <td>52</td>\n",
              "      <td>10000.0</td>\n",
              "      <td>10000</td>\n",
              "      <td>7</td>\n",
              "      <td>0.0</td>\n",
              "      <td>2017-07-23</td>\n",
              "      <td>0.0</td>\n",
              "      <td>728447</td>\n",
              "      <td>320533</td>\n",
              "      <td>1</td>\n",
              "    </tr>\n",
              "    <tr>\n",
              "      <th>4</th>\n",
              "      <td>12298.0</td>\n",
              "      <td>1</td>\n",
              "      <td>4942.95</td>\n",
              "      <td>4950.00</td>\n",
              "      <td>2883</td>\n",
              "      <td>4942.95</td>\n",
              "      <td>31</td>\n",
              "      <td>0</td>\n",
              "      <td>47</td>\n",
              "      <td>5000.0</td>\n",
              "      <td>5000</td>\n",
              "      <td>20</td>\n",
              "      <td>0.0</td>\n",
              "      <td>2017-07-23</td>\n",
              "      <td>0.0</td>\n",
              "      <td>728421</td>\n",
              "      <td>298598</td>\n",
              "      <td>1</td>\n",
              "    </tr>\n",
              "  </tbody>\n",
              "</table>\n",
              "</div>"
            ],
            "text/plain": [
              "   closed_cred_sum  closed_creds  ...  client_id  expert\n",
              "0         143822.0            22  ...     320464       1\n",
              "1              0.0             0  ...     320466       1\n",
              "2          51356.0             2  ...     320467       1\n",
              "3              0.0             0  ...     320533       1\n",
              "4          12298.0             1  ...     298598       1\n",
              "\n",
              "[5 rows x 18 columns]"
            ]
          },
          "metadata": {},
          "execution_count": 4
        }
      ]
    },
    {
      "cell_type": "markdown",
      "metadata": {
        "id": "OTPwJbJ2gFln"
      },
      "source": [
        "Задание\n",
        "Вам предлагается набор данных, содержащий следующие переменные\n",
        "Переменные, характеризующие кредитную историю клиента\n",
        "closed_cred_sum - сумма, которую клиент выплатил по ранее взятым и закрытым\n",
        "кредитам  \n",
        "closed_creds - количество закрытых кредитов  \n",
        "active_cred_sum_overdue - суммарная задолженность по активным кредитам  \n",
        "active_cred_sum - сумма всех активных кредитов  \n",
        "active_cred_day_overdue - суммарная просрочка в днях по всем активным кредитам  \n",
        "active_cred_max_overdue - максимальная сумма просроченной задолженности по\n",
        "активным кредитам  \n",
        "Переменные характеризующие клиента  \n",
        "age - возраст  \n",
        "gender - пол  \n",
        "region - регион  \n",
        "month_income - ежемесячный доход  \n",
        "Переменные, характеризующие кредит, по которому нужно сделать\n",
        "прогноз  \n",
        "first_loan - сумма, которую клиент хочет получить в кредит (из заявки)  \n",
        "first_days_quant - срок, на которую клиент хочет взять кредит  \n",
        "loan_cost_all - одобренная клиенту сумма кредита  \n",
        "order_date - дата подачи заявки на получение кредита  \n",
        "cost_all - сумма всех выплат по одобренному кредиту  \n",
        "order_id - id заявки  \n",
        "client_id - id клиента  \n",
        "Целевая переменная:  \n",
        "expert - решение, которое принято по заявке (0 - одобрено, 1 - отклонено)  \n",
        "Необходимо на основе предоставленных данных построить модель для предсказания\n",
        "целевой переменной. Сделать описание проделанных шагов\n",
        "● Анализ данных\n",
        "● Фильтрация\n",
        "● Преобразование переменных\n",
        "● Моделирование\n",
        "● Оценка качества модели\n",
        "Обоснование выбранной метрики качества."
      ]
    },
    {
      "cell_type": "code",
      "metadata": {
        "colab": {
          "base_uri": "https://localhost:8080/"
        },
        "id": "Ce_DZIk3f-_J",
        "outputId": "3c7eb0c7-09f7-4b8e-ba05-78c9281bf29f"
      },
      "source": [
        "df['expert']"
      ],
      "execution_count": 5,
      "outputs": [
        {
          "output_type": "execute_result",
          "data": {
            "text/plain": [
              "0        1\n",
              "1        1\n",
              "2        1\n",
              "3        1\n",
              "4        1\n",
              "        ..\n",
              "49996    1\n",
              "49997    1\n",
              "49998    1\n",
              "49999    1\n",
              "50000    1\n",
              "Name: expert, Length: 50001, dtype: int64"
            ]
          },
          "metadata": {},
          "execution_count": 5
        }
      ]
    },
    {
      "cell_type": "code",
      "metadata": {
        "colab": {
          "base_uri": "https://localhost:8080/"
        },
        "id": "0o_r_nnzf-8R",
        "outputId": "14458a26-772b-4867-f473-06427e1181e7"
      },
      "source": [
        "df['expert'].value_counts()"
      ],
      "execution_count": 6,
      "outputs": [
        {
          "output_type": "execute_result",
          "data": {
            "text/plain": [
              "1    37464\n",
              "0    12537\n",
              "Name: expert, dtype: int64"
            ]
          },
          "metadata": {},
          "execution_count": 6
        }
      ]
    },
    {
      "cell_type": "code",
      "metadata": {
        "colab": {
          "base_uri": "https://localhost:8080/"
        },
        "id": "yKXZwOyff-5W",
        "outputId": "fe32b886-cfc5-43e9-8628-458da068bdc2"
      },
      "source": [
        "df['expert'].value_counts(normalize=True)"
      ],
      "execution_count": 7,
      "outputs": [
        {
          "output_type": "execute_result",
          "data": {
            "text/plain": [
              "1    0.749265\n",
              "0    0.250735\n",
              "Name: expert, dtype: float64"
            ]
          },
          "metadata": {},
          "execution_count": 7
        }
      ]
    },
    {
      "cell_type": "code",
      "metadata": {
        "colab": {
          "base_uri": "https://localhost:8080/"
        },
        "id": "5gTA8DdJf-2y",
        "outputId": "40948d5b-9d10-4615-ac2d-5f02bf390f44"
      },
      "source": [
        "df['expert'].mean()"
      ],
      "execution_count": 8,
      "outputs": [
        {
          "output_type": "execute_result",
          "data": {
            "text/plain": [
              "0.749265014699706"
            ]
          },
          "metadata": {},
          "execution_count": 8
        }
      ]
    },
    {
      "cell_type": "code",
      "metadata": {
        "colab": {
          "base_uri": "https://localhost:8080/"
        },
        "id": "LQLTLUaMf-z2",
        "outputId": "879e1183-161a-42ae-deec-845f1502125b"
      },
      "source": [
        "df.isna().mean()"
      ],
      "execution_count": 9,
      "outputs": [
        {
          "output_type": "execute_result",
          "data": {
            "text/plain": [
              "closed_cred_sum            0.00000\n",
              "closed_creds               0.00000\n",
              "active_cred_sum_overdue    0.00000\n",
              "active_cred_sum            0.00000\n",
              "active_cred_day_overdue    0.00000\n",
              "active_cred_max_overdue    0.00000\n",
              "age                        0.00000\n",
              "gender                     0.00000\n",
              "region                     0.00000\n",
              "first_loan                 0.00038\n",
              "loan_cost_all              0.00000\n",
              "first_days_quant           0.00000\n",
              "month_income               0.00000\n",
              "order_date                 0.00000\n",
              "cost_all                   0.00000\n",
              "order_id                   0.00000\n",
              "client_id                  0.00000\n",
              "expert                     0.00000\n",
              "dtype: float64"
            ]
          },
          "metadata": {},
          "execution_count": 9
        }
      ]
    },
    {
      "cell_type": "code",
      "metadata": {
        "id": "GFkxmMXIf-xQ"
      },
      "source": [
        "df[['gender','region']] = df[['gender','region']].astype(str)"
      ],
      "execution_count": 10,
      "outputs": []
    },
    {
      "cell_type": "code",
      "metadata": {
        "id": "MFosDoWyf-uP"
      },
      "source": [
        "train = df.sample(frac=0.7,random_state=42).copy()"
      ],
      "execution_count": 11,
      "outputs": []
    },
    {
      "cell_type": "code",
      "metadata": {
        "id": "Op4_5XO5f-rp"
      },
      "source": [
        "val = df[~df.index.isin(train.index)].copy()"
      ],
      "execution_count": 12,
      "outputs": []
    },
    {
      "cell_type": "code",
      "metadata": {
        "colab": {
          "base_uri": "https://localhost:8080/"
        },
        "id": "-uxYnRWEf-ow",
        "outputId": "3971015b-5ced-4738-a23f-92ffe1f69da0"
      },
      "source": [
        "len(train) + len(val)"
      ],
      "execution_count": 13,
      "outputs": [
        {
          "output_type": "execute_result",
          "data": {
            "text/plain": [
              "50001"
            ]
          },
          "metadata": {},
          "execution_count": 13
        }
      ]
    },
    {
      "cell_type": "code",
      "metadata": {
        "colab": {
          "base_uri": "https://localhost:8080/"
        },
        "id": "rFZ7GnLEf-mP",
        "outputId": "acec02c3-c884-4428-d401-74b01c867a72"
      },
      "source": [
        "len(df)"
      ],
      "execution_count": 14,
      "outputs": [
        {
          "output_type": "execute_result",
          "data": {
            "text/plain": [
              "50001"
            ]
          },
          "metadata": {},
          "execution_count": 14
        }
      ]
    },
    {
      "cell_type": "code",
      "metadata": {
        "colab": {
          "base_uri": "https://localhost:8080/",
          "height": 285
        },
        "id": "8ffr4i9If-ju",
        "outputId": "4310e63f-122d-40a4-a4f7-de1e974d11ed"
      },
      "source": [
        "df['first_loan'].hist()"
      ],
      "execution_count": 15,
      "outputs": [
        {
          "output_type": "execute_result",
          "data": {
            "text/plain": [
              "<matplotlib.axes._subplots.AxesSubplot at 0x7f10ef51b350>"
            ]
          },
          "metadata": {},
          "execution_count": 15
        },
        {
          "output_type": "display_data",
          "data": {
            "image/png": "[encoded data removed]",
            "text/plain": [
              "<Figure size 432x288 with 1 Axes>"
            ]
          },
          "metadata": {
            "needs_background": "light"
          }
        }
      ]
    },
    {
      "cell_type": "code",
      "metadata": {
        "colab": {
          "base_uri": "https://localhost:8080/",
          "height": 282
        },
        "id": "7TlP3GiEf-gv",
        "outputId": "225edb50-7085-449d-d410-f974538f6908"
      },
      "source": [
        "df['loan_cost_all'].hist()"
      ],
      "execution_count": 16,
      "outputs": [
        {
          "output_type": "execute_result",
          "data": {
            "text/plain": [
              "<matplotlib.axes._subplots.AxesSubplot at 0x7f10e44ed7d0>"
            ]
          },
          "metadata": {},
          "execution_count": 16
        },
        {
          "output_type": "display_data",
          "data": {
            "image/png": "[encoded data removed]",
            "text/plain": [
              "<Figure size 432x288 with 1 Axes>"
            ]
          },
          "metadata": {
            "needs_background": "light"
          }
        }
      ]
    },
    {
      "cell_type": "code",
      "metadata": {
        "colab": {
          "base_uri": "https://localhost:8080/",
          "height": 297
        },
        "id": "pHv4riotf-eC",
        "outputId": "356db7e1-8f62-4273-c992-eef25a1b78b1"
      },
      "source": [
        "df[['first_loan','loan_cost_all']].describe()"
      ],
      "execution_count": 17,
      "outputs": [
        {
          "output_type": "execute_result",
          "data": {
            "text/html": [
              "<div>\n",
              "<style scoped>\n",
              "    .dataframe tbody tr th:only-of-type {\n",
              "        vertical-align: middle;\n",
              "    }\n",
              "\n",
              "    .dataframe tbody tr th {\n",
              "        vertical-align: top;\n",
              "    }\n",
              "\n",
              "    .dataframe thead th {\n",
              "        text-align: right;\n",
              "    }\n",
              "</style>\n",
              "<table border=\"1\" class=\"dataframe\">\n",
              "  <thead>\n",
              "    <tr style=\"text-align: right;\">\n",
              "      <th></th>\n",
              "      <th>first_loan</th>\n",
              "      <th>loan_cost_all</th>\n",
              "    </tr>\n",
              "  </thead>\n",
              "  <tbody>\n",
              "    <tr>\n",
              "      <th>count</th>\n",
              "      <td>49982.000000</td>\n",
              "      <td>50001.000000</td>\n",
              "    </tr>\n",
              "    <tr>\n",
              "      <th>mean</th>\n",
              "      <td>7751.682606</td>\n",
              "      <td>6703.681926</td>\n",
              "    </tr>\n",
              "    <tr>\n",
              "      <th>std</th>\n",
              "      <td>5310.782009</td>\n",
              "      <td>4610.529844</td>\n",
              "    </tr>\n",
              "    <tr>\n",
              "      <th>min</th>\n",
              "      <td>2000.000000</td>\n",
              "      <td>0.000000</td>\n",
              "    </tr>\n",
              "    <tr>\n",
              "      <th>25%</th>\n",
              "      <td>5000.000000</td>\n",
              "      <td>3000.000000</td>\n",
              "    </tr>\n",
              "    <tr>\n",
              "      <th>50%</th>\n",
              "      <td>7000.000000</td>\n",
              "      <td>7000.000000</td>\n",
              "    </tr>\n",
              "    <tr>\n",
              "      <th>75%</th>\n",
              "      <td>10000.000000</td>\n",
              "      <td>10000.000000</td>\n",
              "    </tr>\n",
              "    <tr>\n",
              "      <th>max</th>\n",
              "      <td>100000.000000</td>\n",
              "      <td>100000.000000</td>\n",
              "    </tr>\n",
              "  </tbody>\n",
              "</table>\n",
              "</div>"
            ],
            "text/plain": [
              "          first_loan  loan_cost_all\n",
              "count   49982.000000   50001.000000\n",
              "mean     7751.682606    6703.681926\n",
              "std      5310.782009    4610.529844\n",
              "min      2000.000000       0.000000\n",
              "25%      5000.000000    3000.000000\n",
              "50%      7000.000000    7000.000000\n",
              "75%     10000.000000   10000.000000\n",
              "max    100000.000000  100000.000000"
            ]
          },
          "metadata": {},
          "execution_count": 17
        }
      ]
    },
    {
      "cell_type": "code",
      "metadata": {
        "colab": {
          "base_uri": "https://localhost:8080/"
        },
        "id": "JD_Scpnrf-bP",
        "outputId": "2e24cd94-56c2-49f8-c147-8db238ea96af"
      },
      "source": [
        "! pip install catboost"
      ],
      "execution_count": 18,
      "outputs": [
        {
          "output_type": "stream",
          "name": "stdout",
          "text": [
            "Collecting catboost\n",
            "  Downloading catboost-1.0.3-cp37-none-manylinux1_x86_64.whl (76.3 MB)\n",
            "\u001b[K     |████████████████████████████████| 76.3 MB 1.3 MB/s \n",
            "\u001b[?25hRequirement already satisfied: six in /usr/local/lib/python3.7/dist-packages (from catboost) (1.15.0)\n",
            "Requirement already satisfied: graphviz in /usr/local/lib/python3.7/dist-packages (from catboost) (0.10.1)\n",
            "Requirement already satisfied: pandas>=0.24.0 in /usr/local/lib/python3.7/dist-packages (from catboost) (1.1.5)\n",
            "Requirement already satisfied: plotly in /usr/local/lib/python3.7/dist-packages (from catboost) (4.4.1)\n",
            "Requirement already satisfied: numpy>=1.16.0 in /usr/local/lib/python3.7/dist-packages (from catboost) (1.19.5)\n",
            "Requirement already satisfied: scipy in /usr/local/lib/python3.7/dist-packages (from catboost) (1.4.1)\n",
            "Requirement already satisfied: matplotlib in /usr/local/lib/python3.7/dist-packages (from catboost) (3.2.2)\n",
            "Requirement already satisfied: python-dateutil>=2.7.3 in /usr/local/lib/python3.7/dist-packages (from pandas>=0.24.0->catboost) (2.8.2)\n",
            "Requirement already satisfied: pytz>=2017.2 in /usr/local/lib/python3.7/dist-packages (from pandas>=0.24.0->catboost) (2018.9)\n",
            "Requirement already satisfied: pyparsing!=2.0.4,!=2.1.2,!=2.1.6,>=2.0.1 in /usr/local/lib/python3.7/dist-packages (from matplotlib->catboost) (3.0.6)\n",
            "Requirement already satisfied: kiwisolver>=1.0.1 in /usr/local/lib/python3.7/dist-packages (from matplotlib->catboost) (1.3.2)\n",
            "Requirement already satisfied: cycler>=0.10 in /usr/local/lib/python3.7/dist-packages (from matplotlib->catboost) (0.11.0)\n",
            "Requirement already satisfied: retrying>=1.3.3 in /usr/local/lib/python3.7/dist-packages (from plotly->catboost) (1.3.3)\n",
            "Installing collected packages: catboost\n",
            "Successfully installed catboost-1.0.3\n"
          ]
        }
      ]
    },
    {
      "cell_type": "code",
      "metadata": {
        "id": "Qfkb-DQ9f-Ym"
      },
      "source": [
        "from catboost import CatBoostClassifier"
      ],
      "execution_count": 19,
      "outputs": []
    },
    {
      "cell_type": "code",
      "metadata": {
        "colab": {
          "base_uri": "https://localhost:8080/"
        },
        "id": "sHOYnxMqgpfF",
        "outputId": "8d279684-e724-4ce5-93cf-d55b91b5e7e2"
      },
      "source": [
        "df.columns"
      ],
      "execution_count": 20,
      "outputs": [
        {
          "output_type": "execute_result",
          "data": {
            "text/plain": [
              "Index(['closed_cred_sum', 'closed_creds', 'active_cred_sum_overdue',\n",
              "       'active_cred_sum', 'active_cred_day_overdue', 'active_cred_max_overdue',\n",
              "       'age', 'gender', 'region', 'first_loan', 'loan_cost_all',\n",
              "       'first_days_quant', 'month_income', 'order_date', 'cost_all',\n",
              "       'order_id', 'client_id', 'expert'],\n",
              "      dtype='object')"
            ]
          },
          "metadata": {},
          "execution_count": 20
        }
      ]
    },
    {
      "cell_type": "code",
      "metadata": {
        "colab": {
          "base_uri": "https://localhost:8080/",
          "height": 439
        },
        "id": "KG6q595dgpcQ",
        "outputId": "cfc4de43-571d-4d33-f467-1020e339a63f"
      },
      "source": [
        "df"
      ],
      "execution_count": 21,
      "outputs": [
        {
          "output_type": "execute_result",
          "data": {
            "text/html": [
              "<div>\n",
              "<style scoped>\n",
              "    .dataframe tbody tr th:only-of-type {\n",
              "        vertical-align: middle;\n",
              "    }\n",
              "\n",
              "    .dataframe tbody tr th {\n",
              "        vertical-align: top;\n",
              "    }\n",
              "\n",
              "    .dataframe thead th {\n",
              "        text-align: right;\n",
              "    }\n",
              "</style>\n",
              "<table border=\"1\" class=\"dataframe\">\n",
              "  <thead>\n",
              "    <tr style=\"text-align: right;\">\n",
              "      <th></th>\n",
              "      <th>closed_cred_sum</th>\n",
              "      <th>closed_creds</th>\n",
              "      <th>active_cred_sum_overdue</th>\n",
              "      <th>active_cred_sum</th>\n",
              "      <th>active_cred_day_overdue</th>\n",
              "      <th>active_cred_max_overdue</th>\n",
              "      <th>age</th>\n",
              "      <th>gender</th>\n",
              "      <th>region</th>\n",
              "      <th>first_loan</th>\n",
              "      <th>loan_cost_all</th>\n",
              "      <th>first_days_quant</th>\n",
              "      <th>month_income</th>\n",
              "      <th>order_date</th>\n",
              "      <th>cost_all</th>\n",
              "      <th>order_id</th>\n",
              "      <th>client_id</th>\n",
              "      <th>expert</th>\n",
              "    </tr>\n",
              "  </thead>\n",
              "  <tbody>\n",
              "    <tr>\n",
              "      <th>0</th>\n",
              "      <td>143822.00</td>\n",
              "      <td>22</td>\n",
              "      <td>104.12</td>\n",
              "      <td>130068.80</td>\n",
              "      <td>8</td>\n",
              "      <td>756.09</td>\n",
              "      <td>31</td>\n",
              "      <td>0</td>\n",
              "      <td>36</td>\n",
              "      <td>10000.0</td>\n",
              "      <td>10000</td>\n",
              "      <td>196</td>\n",
              "      <td>0.0</td>\n",
              "      <td>2017-07-23</td>\n",
              "      <td>0.0</td>\n",
              "      <td>728319</td>\n",
              "      <td>320464</td>\n",
              "      <td>1</td>\n",
              "    </tr>\n",
              "    <tr>\n",
              "      <th>1</th>\n",
              "      <td>0.00</td>\n",
              "      <td>0</td>\n",
              "      <td>38151.93</td>\n",
              "      <td>46230.00</td>\n",
              "      <td>1492</td>\n",
              "      <td>38151.93</td>\n",
              "      <td>51</td>\n",
              "      <td>0</td>\n",
              "      <td>93</td>\n",
              "      <td>10000.0</td>\n",
              "      <td>10000</td>\n",
              "      <td>17</td>\n",
              "      <td>20000.0</td>\n",
              "      <td>2017-07-23</td>\n",
              "      <td>0.0</td>\n",
              "      <td>728321</td>\n",
              "      <td>320466</td>\n",
              "      <td>1</td>\n",
              "    </tr>\n",
              "    <tr>\n",
              "      <th>2</th>\n",
              "      <td>51356.00</td>\n",
              "      <td>2</td>\n",
              "      <td>3000.00</td>\n",
              "      <td>3000.00</td>\n",
              "      <td>8</td>\n",
              "      <td>3000.00</td>\n",
              "      <td>28</td>\n",
              "      <td>1</td>\n",
              "      <td>3</td>\n",
              "      <td>10000.0</td>\n",
              "      <td>10000</td>\n",
              "      <td>84</td>\n",
              "      <td>0.0</td>\n",
              "      <td>2017-07-23</td>\n",
              "      <td>0.0</td>\n",
              "      <td>728323</td>\n",
              "      <td>320467</td>\n",
              "      <td>1</td>\n",
              "    </tr>\n",
              "    <tr>\n",
              "      <th>3</th>\n",
              "      <td>0.00</td>\n",
              "      <td>0</td>\n",
              "      <td>22784.19</td>\n",
              "      <td>32103.52</td>\n",
              "      <td>913</td>\n",
              "      <td>22784.19</td>\n",
              "      <td>28</td>\n",
              "      <td>0</td>\n",
              "      <td>52</td>\n",
              "      <td>10000.0</td>\n",
              "      <td>10000</td>\n",
              "      <td>7</td>\n",
              "      <td>0.0</td>\n",
              "      <td>2017-07-23</td>\n",
              "      <td>0.0</td>\n",
              "      <td>728447</td>\n",
              "      <td>320533</td>\n",
              "      <td>1</td>\n",
              "    </tr>\n",
              "    <tr>\n",
              "      <th>4</th>\n",
              "      <td>12298.00</td>\n",
              "      <td>1</td>\n",
              "      <td>4942.95</td>\n",
              "      <td>4950.00</td>\n",
              "      <td>2883</td>\n",
              "      <td>4942.95</td>\n",
              "      <td>31</td>\n",
              "      <td>0</td>\n",
              "      <td>47</td>\n",
              "      <td>5000.0</td>\n",
              "      <td>5000</td>\n",
              "      <td>20</td>\n",
              "      <td>0.0</td>\n",
              "      <td>2017-07-23</td>\n",
              "      <td>0.0</td>\n",
              "      <td>728421</td>\n",
              "      <td>298598</td>\n",
              "      <td>1</td>\n",
              "    </tr>\n",
              "    <tr>\n",
              "      <th>...</th>\n",
              "      <td>...</td>\n",
              "      <td>...</td>\n",
              "      <td>...</td>\n",
              "      <td>...</td>\n",
              "      <td>...</td>\n",
              "      <td>...</td>\n",
              "      <td>...</td>\n",
              "      <td>...</td>\n",
              "      <td>...</td>\n",
              "      <td>...</td>\n",
              "      <td>...</td>\n",
              "      <td>...</td>\n",
              "      <td>...</td>\n",
              "      <td>...</td>\n",
              "      <td>...</td>\n",
              "      <td>...</td>\n",
              "      <td>...</td>\n",
              "      <td>...</td>\n",
              "    </tr>\n",
              "    <tr>\n",
              "      <th>49996</th>\n",
              "      <td>0.00</td>\n",
              "      <td>0</td>\n",
              "      <td>74662.61</td>\n",
              "      <td>79662.61</td>\n",
              "      <td>2593</td>\n",
              "      <td>42204.55</td>\n",
              "      <td>27</td>\n",
              "      <td>1</td>\n",
              "      <td>0</td>\n",
              "      <td>4000.0</td>\n",
              "      <td>4000</td>\n",
              "      <td>20</td>\n",
              "      <td>0.0</td>\n",
              "      <td>2017-08-13</td>\n",
              "      <td>0.0</td>\n",
              "      <td>759472</td>\n",
              "      <td>96091</td>\n",
              "      <td>1</td>\n",
              "    </tr>\n",
              "    <tr>\n",
              "      <th>49997</th>\n",
              "      <td>21653.49</td>\n",
              "      <td>2</td>\n",
              "      <td>0.00</td>\n",
              "      <td>0.00</td>\n",
              "      <td>0</td>\n",
              "      <td>0.00</td>\n",
              "      <td>28</td>\n",
              "      <td>0</td>\n",
              "      <td>75</td>\n",
              "      <td>2000.0</td>\n",
              "      <td>2000</td>\n",
              "      <td>10</td>\n",
              "      <td>20000.0</td>\n",
              "      <td>2017-08-13</td>\n",
              "      <td>0.0</td>\n",
              "      <td>759475</td>\n",
              "      <td>338240</td>\n",
              "      <td>1</td>\n",
              "    </tr>\n",
              "    <tr>\n",
              "      <th>49998</th>\n",
              "      <td>0.00</td>\n",
              "      <td>0</td>\n",
              "      <td>0.00</td>\n",
              "      <td>1000.00</td>\n",
              "      <td>0</td>\n",
              "      <td>941.00</td>\n",
              "      <td>22</td>\n",
              "      <td>0</td>\n",
              "      <td>0</td>\n",
              "      <td>10000.0</td>\n",
              "      <td>10000</td>\n",
              "      <td>20</td>\n",
              "      <td>35000.0</td>\n",
              "      <td>2017-08-13</td>\n",
              "      <td>0.0</td>\n",
              "      <td>759485</td>\n",
              "      <td>338246</td>\n",
              "      <td>1</td>\n",
              "    </tr>\n",
              "    <tr>\n",
              "      <th>49999</th>\n",
              "      <td>0.00</td>\n",
              "      <td>0</td>\n",
              "      <td>0.00</td>\n",
              "      <td>1000.00</td>\n",
              "      <td>0</td>\n",
              "      <td>941.00</td>\n",
              "      <td>22</td>\n",
              "      <td>0</td>\n",
              "      <td>0</td>\n",
              "      <td>10000.0</td>\n",
              "      <td>10000</td>\n",
              "      <td>20</td>\n",
              "      <td>35000.0</td>\n",
              "      <td>2017-08-13</td>\n",
              "      <td>0.0</td>\n",
              "      <td>759485</td>\n",
              "      <td>338246</td>\n",
              "      <td>1</td>\n",
              "    </tr>\n",
              "    <tr>\n",
              "      <th>50000</th>\n",
              "      <td>19750.00</td>\n",
              "      <td>9</td>\n",
              "      <td>14100.00</td>\n",
              "      <td>14100.00</td>\n",
              "      <td>331</td>\n",
              "      <td>6000.00</td>\n",
              "      <td>33</td>\n",
              "      <td>0</td>\n",
              "      <td>40</td>\n",
              "      <td>2000.0</td>\n",
              "      <td>2000</td>\n",
              "      <td>21</td>\n",
              "      <td>0.0</td>\n",
              "      <td>2017-08-13</td>\n",
              "      <td>0.0</td>\n",
              "      <td>759490</td>\n",
              "      <td>261961</td>\n",
              "      <td>1</td>\n",
              "    </tr>\n",
              "  </tbody>\n",
              "</table>\n",
              "<p>50001 rows × 18 columns</p>\n",
              "</div>"
            ],
            "text/plain": [
              "       closed_cred_sum  closed_creds  ...  client_id  expert\n",
              "0            143822.00            22  ...     320464       1\n",
              "1                 0.00             0  ...     320466       1\n",
              "2             51356.00             2  ...     320467       1\n",
              "3                 0.00             0  ...     320533       1\n",
              "4             12298.00             1  ...     298598       1\n",
              "...                ...           ...  ...        ...     ...\n",
              "49996             0.00             0  ...      96091       1\n",
              "49997         21653.49             2  ...     338240       1\n",
              "49998             0.00             0  ...     338246       1\n",
              "49999             0.00             0  ...     338246       1\n",
              "50000         19750.00             9  ...     261961       1\n",
              "\n",
              "[50001 rows x 18 columns]"
            ]
          },
          "metadata": {},
          "execution_count": 21
        }
      ]
    },
    {
      "cell_type": "code",
      "metadata": {
        "colab": {
          "base_uri": "https://localhost:8080/"
        },
        "id": "FGV_fyaHgpZo",
        "outputId": "47c3c12b-f136-4c4f-de4b-a0741f29e92f"
      },
      "source": [
        "df['region'].value_counts()"
      ],
      "execution_count": 22,
      "outputs": [
        {
          "output_type": "execute_result",
          "data": {
            "text/plain": [
              "0     20061\n",
              "40     4185\n",
              "36     1921\n",
              "75     1778\n",
              "65     1614\n",
              "      ...  \n",
              "48       19\n",
              "85       17\n",
              "43       16\n",
              "21       11\n",
              "9         7\n",
              "Name: region, Length: 99, dtype: int64"
            ]
          },
          "metadata": {},
          "execution_count": 22
        }
      ]
    },
    {
      "cell_type": "code",
      "metadata": {
        "colab": {
          "base_uri": "https://localhost:8080/"
        },
        "id": "oH8mSVEegpW3",
        "outputId": "2b143cdd-3676-4245-b373-b72b0c6e6cd8"
      },
      "source": [
        "df['order_date'].agg(['min','max'])"
      ],
      "execution_count": 23,
      "outputs": [
        {
          "output_type": "execute_result",
          "data": {
            "text/plain": [
              "min    2017-06-26\n",
              "max    2017-09-25\n",
              "Name: order_date, dtype: object"
            ]
          },
          "metadata": {},
          "execution_count": 23
        }
      ]
    },
    {
      "cell_type": "code",
      "metadata": {
        "colab": {
          "base_uri": "https://localhost:8080/",
          "height": 282
        },
        "id": "ox4dByb6gpUe",
        "outputId": "994f8705-3e2d-4c30-cb3d-d87127418b48"
      },
      "source": [
        "df['age'].hist()"
      ],
      "execution_count": 24,
      "outputs": [
        {
          "output_type": "execute_result",
          "data": {
            "text/plain": [
              "<matplotlib.axes._subplots.AxesSubplot at 0x7f10d6a740d0>"
            ]
          },
          "metadata": {},
          "execution_count": 24
        },
        {
          "output_type": "display_data",
          "data": {
            "image/png": "[encoded data removed]",
            "text/plain": [
              "<Figure size 432x288 with 1 Axes>"
            ]
          },
          "metadata": {
            "needs_background": "light"
          }
        }
      ]
    },
    {
      "cell_type": "code",
      "metadata": {
        "colab": {
          "base_uri": "https://localhost:8080/"
        },
        "id": "UEx9-vPygpR4",
        "outputId": "95abcd53-9bc4-44e9-c748-90a2ac9089a6"
      },
      "source": [
        "df['age'].describe()"
      ],
      "execution_count": 25,
      "outputs": [
        {
          "output_type": "execute_result",
          "data": {
            "text/plain": [
              "count    50001.000000\n",
              "mean        35.018900\n",
              "std         11.235206\n",
              "min         18.000000\n",
              "25%         27.000000\n",
              "50%         32.000000\n",
              "75%         41.000000\n",
              "max         99.000000\n",
              "Name: age, dtype: float64"
            ]
          },
          "metadata": {},
          "execution_count": 25
        }
      ]
    },
    {
      "cell_type": "code",
      "metadata": {
        "colab": {
          "base_uri": "https://localhost:8080/",
          "height": 297
        },
        "id": "Oyx0KmmzgpPH",
        "outputId": "f33f80d0-dec8-4cdb-c1d1-ebc59671bc71"
      },
      "source": [
        "df.groupby('order_date')['order_id'].mean().plot()"
      ],
      "execution_count": 26,
      "outputs": [
        {
          "output_type": "execute_result",
          "data": {
            "text/plain": [
              "<matplotlib.axes._subplots.AxesSubplot at 0x7f10d6a1ba10>"
            ]
          },
          "metadata": {},
          "execution_count": 26
        },
        {
          "output_type": "display_data",
          "data": {
            "image/png": "[encoded data removed]",
            "text/plain": [
              "<Figure size 432x288 with 1 Axes>"
            ]
          },
          "metadata": {
            "needs_background": "light"
          }
        }
      ]
    },
    {
      "cell_type": "code",
      "metadata": {
        "id": "UtyrWfBNgpNH"
      },
      "source": [
        "X_col = ['closed_cred_sum', 'closed_creds', 'active_cred_sum_overdue',\n",
        "       'active_cred_sum', 'active_cred_day_overdue', 'active_cred_max_overdue',\n",
        "       'age',  'first_loan',\n",
        "       'first_days_quant', 'month_income',\n",
        "      'client_id',\n",
        "       'gender', 'region',\n",
        "       ]\n",
        "\n",
        "cat_features = ['gender','region']\n",
        "y_col = ['expert']"
      ],
      "execution_count": 27,
      "outputs": []
    },
    {
      "cell_type": "code",
      "metadata": {
        "id": "GupNHUTKgpKA"
      },
      "source": [
        "model = CatBoostClassifier(verbose=100,\n",
        "                           random_state=42,\n",
        "                           learning_rate=0.5,\n",
        "                           early_stopping_rounds=200,\n",
        "                           eval_metric='AUC',\n",
        "                           cat_features=cat_features\n",
        "                           )"
      ],
      "execution_count": 28,
      "outputs": []
    },
    {
      "cell_type": "code",
      "metadata": {
        "colab": {
          "base_uri": "https://localhost:8080/"
        },
        "id": "QMNnpDaNgpG5",
        "outputId": "a5694219-84e4-4a22-8bce-511cf65b6736"
      },
      "source": [
        "model.fit(train[X_col],train[y_col],\n",
        "          eval_set=(val[X_col],val[y_col]))"
      ],
      "execution_count": 29,
      "outputs": [
        {
          "output_type": "stream",
          "name": "stdout",
          "text": [
            "0:\ttest: 0.8703715\tbest: 0.8703715 (0)\ttotal: 94.2ms\tremaining: 1m 34s\n",
            "100:\ttest: 0.9441178\tbest: 0.9441178 (100)\ttotal: 3.88s\tremaining: 34.6s\n",
            "200:\ttest: 0.9459992\tbest: 0.9461400 (167)\ttotal: 7.62s\tremaining: 30.3s\n",
            "300:\ttest: 0.9468176\tbest: 0.9469663 (265)\ttotal: 11.3s\tremaining: 26.3s\n",
            "400:\ttest: 0.9476001\tbest: 0.9476765 (387)\ttotal: 15s\tremaining: 22.4s\n",
            "500:\ttest: 0.9484574\tbest: 0.9486474 (495)\ttotal: 18.7s\tremaining: 18.6s\n",
            "600:\ttest: 0.9485748\tbest: 0.9487407 (582)\ttotal: 22.3s\tremaining: 14.8s\n",
            "700:\ttest: 0.9486368\tbest: 0.9487417 (633)\ttotal: 26s\tremaining: 11.1s\n",
            "800:\ttest: 0.9492124\tbest: 0.9492575 (797)\ttotal: 29.6s\tremaining: 7.37s\n",
            "900:\ttest: 0.9494020\tbest: 0.9494097 (898)\ttotal: 33.3s\tremaining: 3.66s\n",
            "999:\ttest: 0.9496165\tbest: 0.9496848 (989)\ttotal: 36.8s\tremaining: 0us\n",
            "\n",
            "bestTest = 0.9496847863\n",
            "bestIteration = 989\n",
            "\n",
            "Shrink model to first 990 iterations.\n"
          ]
        },
        {
          "output_type": "execute_result",
          "data": {
            "text/plain": [
              "<catboost.core.CatBoostClassifier at 0x7f10d6998a10>"
            ]
          },
          "metadata": {},
          "execution_count": 29
        }
      ]
    },
    {
      "cell_type": "code",
      "metadata": {
        "id": "gSuls866hI_D"
      },
      "source": [
        "fi = pd.DataFrame({'w':model.feature_importances_,'name':X_col})"
      ],
      "execution_count": 30,
      "outputs": []
    },
    {
      "cell_type": "code",
      "metadata": {
        "colab": {
          "base_uri": "https://localhost:8080/",
          "height": 452
        },
        "id": "e-vlPbX2hI8P",
        "outputId": "c4e5323b-0a98-486b-f7d6-6b0a3a24d169"
      },
      "source": [
        "fi.sort_values('w',ascending=False)"
      ],
      "execution_count": 31,
      "outputs": [
        {
          "output_type": "execute_result",
          "data": {
            "text/html": [
              "<div>\n",
              "<style scoped>\n",
              "    .dataframe tbody tr th:only-of-type {\n",
              "        vertical-align: middle;\n",
              "    }\n",
              "\n",
              "    .dataframe tbody tr th {\n",
              "        vertical-align: top;\n",
              "    }\n",
              "\n",
              "    .dataframe thead th {\n",
              "        text-align: right;\n",
              "    }\n",
              "</style>\n",
              "<table border=\"1\" class=\"dataframe\">\n",
              "  <thead>\n",
              "    <tr style=\"text-align: right;\">\n",
              "      <th></th>\n",
              "      <th>w</th>\n",
              "      <th>name</th>\n",
              "    </tr>\n",
              "  </thead>\n",
              "  <tbody>\n",
              "    <tr>\n",
              "      <th>8</th>\n",
              "      <td>14.691746</td>\n",
              "      <td>first_days_quant</td>\n",
              "    </tr>\n",
              "    <tr>\n",
              "      <th>10</th>\n",
              "      <td>12.576234</td>\n",
              "      <td>client_id</td>\n",
              "    </tr>\n",
              "    <tr>\n",
              "      <th>9</th>\n",
              "      <td>10.023964</td>\n",
              "      <td>month_income</td>\n",
              "    </tr>\n",
              "    <tr>\n",
              "      <th>0</th>\n",
              "      <td>8.394945</td>\n",
              "      <td>closed_cred_sum</td>\n",
              "    </tr>\n",
              "    <tr>\n",
              "      <th>3</th>\n",
              "      <td>8.347118</td>\n",
              "      <td>active_cred_sum</td>\n",
              "    </tr>\n",
              "    <tr>\n",
              "      <th>6</th>\n",
              "      <td>7.329569</td>\n",
              "      <td>age</td>\n",
              "    </tr>\n",
              "    <tr>\n",
              "      <th>5</th>\n",
              "      <td>7.316254</td>\n",
              "      <td>active_cred_max_overdue</td>\n",
              "    </tr>\n",
              "    <tr>\n",
              "      <th>2</th>\n",
              "      <td>6.784682</td>\n",
              "      <td>active_cred_sum_overdue</td>\n",
              "    </tr>\n",
              "    <tr>\n",
              "      <th>7</th>\n",
              "      <td>6.083783</td>\n",
              "      <td>first_loan</td>\n",
              "    </tr>\n",
              "    <tr>\n",
              "      <th>1</th>\n",
              "      <td>6.057225</td>\n",
              "      <td>closed_creds</td>\n",
              "    </tr>\n",
              "    <tr>\n",
              "      <th>12</th>\n",
              "      <td>5.657942</td>\n",
              "      <td>region</td>\n",
              "    </tr>\n",
              "    <tr>\n",
              "      <th>4</th>\n",
              "      <td>5.528048</td>\n",
              "      <td>active_cred_day_overdue</td>\n",
              "    </tr>\n",
              "    <tr>\n",
              "      <th>11</th>\n",
              "      <td>1.208490</td>\n",
              "      <td>gender</td>\n",
              "    </tr>\n",
              "  </tbody>\n",
              "</table>\n",
              "</div>"
            ],
            "text/plain": [
              "            w                     name\n",
              "8   14.691746         first_days_quant\n",
              "10  12.576234                client_id\n",
              "9   10.023964             month_income\n",
              "0    8.394945          closed_cred_sum\n",
              "3    8.347118          active_cred_sum\n",
              "6    7.329569                      age\n",
              "5    7.316254  active_cred_max_overdue\n",
              "2    6.784682  active_cred_sum_overdue\n",
              "7    6.083783               first_loan\n",
              "1    6.057225             closed_creds\n",
              "12   5.657942                   region\n",
              "4    5.528048  active_cred_day_overdue\n",
              "11   1.208490                   gender"
            ]
          },
          "metadata": {},
          "execution_count": 31
        }
      ]
    },
    {
      "cell_type": "code",
      "metadata": {
        "colab": {
          "base_uri": "https://localhost:8080/"
        },
        "id": "ubwSqebzhI5u",
        "outputId": "bf1bc734-9ff3-49d1-fe49-728c9974e9ac"
      },
      "source": [
        "! pip install shap"
      ],
      "execution_count": 32,
      "outputs": [
        {
          "output_type": "stream",
          "name": "stdout",
          "text": [
            "Collecting shap\n",
            "  Downloading shap-0.40.0.tar.gz (371 kB)\n",
            "\u001b[?25l\r\u001b[K     |▉                               | 10 kB 22.3 MB/s eta 0:00:01\r\u001b[K     |█▊                              | 20 kB 11.7 MB/s eta 0:00:01\r\u001b[K     |██▋                             | 30 kB 9.0 MB/s eta 0:00:01\r\u001b[K     |███▌                            | 40 kB 8.4 MB/s eta 0:00:01\r\u001b[K     |████▍                           | 51 kB 5.4 MB/s eta 0:00:01\r\u001b[K     |█████▎                          | 61 kB 5.4 MB/s eta 0:00:01\r\u001b[K     |██████▏                         | 71 kB 5.3 MB/s eta 0:00:01\r\u001b[K     |███████                         | 81 kB 5.9 MB/s eta 0:00:01\r\u001b[K     |████████                        | 92 kB 4.9 MB/s eta 0:00:01\r\u001b[K     |████████▉                       | 102 kB 5.3 MB/s eta 0:00:01\r\u001b[K     |█████████▊                      | 112 kB 5.3 MB/s eta 0:00:01\r\u001b[K     |██████████▋                     | 122 kB 5.3 MB/s eta 0:00:01\r\u001b[K     |███████████▌                    | 133 kB 5.3 MB/s eta 0:00:01\r\u001b[K     |████████████▍                   | 143 kB 5.3 MB/s eta 0:00:01\r\u001b[K     |█████████████▎                  | 153 kB 5.3 MB/s eta 0:00:01\r\u001b[K     |██████████████                  | 163 kB 5.3 MB/s eta 0:00:01\r\u001b[K     |███████████████                 | 174 kB 5.3 MB/s eta 0:00:01\r\u001b[K     |███████████████▉                | 184 kB 5.3 MB/s eta 0:00:01\r\u001b[K     |████████████████▊               | 194 kB 5.3 MB/s eta 0:00:01\r\u001b[K     |█████████████████▋              | 204 kB 5.3 MB/s eta 0:00:01\r\u001b[K     |██████████████████▌             | 215 kB 5.3 MB/s eta 0:00:01\r\u001b[K     |███████████████████▍            | 225 kB 5.3 MB/s eta 0:00:01\r\u001b[K     |████████████████████▎           | 235 kB 5.3 MB/s eta 0:00:01\r\u001b[K     |█████████████████████▏          | 245 kB 5.3 MB/s eta 0:00:01\r\u001b[K     |██████████████████████          | 256 kB 5.3 MB/s eta 0:00:01\r\u001b[K     |███████████████████████         | 266 kB 5.3 MB/s eta 0:00:01\r\u001b[K     |███████████████████████▉        | 276 kB 5.3 MB/s eta 0:00:01\r\u001b[K     |████████████████████████▊       | 286 kB 5.3 MB/s eta 0:00:01\r\u001b[K     |█████████████████████████▋      | 296 kB 5.3 MB/s eta 0:00:01\r\u001b[K     |██████████████████████████▌     | 307 kB 5.3 MB/s eta 0:00:01\r\u001b[K     |███████████████████████████▎    | 317 kB 5.3 MB/s eta 0:00:01\r\u001b[K     |████████████████████████████▏   | 327 kB 5.3 MB/s eta 0:00:01\r\u001b[K     |█████████████████████████████   | 337 kB 5.3 MB/s eta 0:00:01\r\u001b[K     |██████████████████████████████  | 348 kB 5.3 MB/s eta 0:00:01\r\u001b[K     |██████████████████████████████▉ | 358 kB 5.3 MB/s eta 0:00:01\r\u001b[K     |███████████████████████████████▊| 368 kB 5.3 MB/s eta 0:00:01\r\u001b[K     |████████████████████████████████| 371 kB 5.3 MB/s \n",
            "\u001b[?25h  Installing build dependencies ... \u001b[?25l\u001b[?25hdone\n",
            "  Getting requirements to build wheel ... \u001b[?25l\u001b[?25hdone\n",
            "    Preparing wheel metadata ... \u001b[?25l\u001b[?25hdone\n",
            "Requirement already satisfied: tqdm>4.25.0 in /usr/local/lib/python3.7/dist-packages (from shap) (4.62.3)\n",
            "Requirement already satisfied: pandas in /usr/local/lib/python3.7/dist-packages (from shap) (1.1.5)\n",
            "Requirement already satisfied: packaging>20.9 in /usr/local/lib/python3.7/dist-packages (from shap) (21.3)\n",
            "Requirement already satisfied: cloudpickle in /usr/local/lib/python3.7/dist-packages (from shap) (1.3.0)\n",
            "Requirement already satisfied: scipy in /usr/local/lib/python3.7/dist-packages (from shap) (1.4.1)\n",
            "Collecting slicer==0.0.7\n",
            "  Downloading slicer-0.0.7-py3-none-any.whl (14 kB)\n",
            "Requirement already satisfied: scikit-learn in /usr/local/lib/python3.7/dist-packages (from shap) (1.0.1)\n",
            "Requirement already satisfied: numba in /usr/local/lib/python3.7/dist-packages (from shap) (0.51.2)\n",
            "Requirement already satisfied: numpy in /usr/local/lib/python3.7/dist-packages (from shap) (1.19.5)\n",
            "Requirement already satisfied: pyparsing!=3.0.5,>=2.0.2 in /usr/local/lib/python3.7/dist-packages (from packaging>20.9->shap) (3.0.6)\n",
            "Requirement already satisfied: llvmlite<0.35,>=0.34.0.dev0 in /usr/local/lib/python3.7/dist-packages (from numba->shap) (0.34.0)\n",
            "Requirement already satisfied: setuptools in /usr/local/lib/python3.7/dist-packages (from numba->shap) (57.4.0)\n",
            "Requirement already satisfied: pytz>=2017.2 in /usr/local/lib/python3.7/dist-packages (from pandas->shap) (2018.9)\n",
            "Requirement already satisfied: python-dateutil>=2.7.3 in /usr/local/lib/python3.7/dist-packages (from pandas->shap) (2.8.2)\n",
            "Requirement already satisfied: six>=1.5 in /usr/local/lib/python3.7/dist-packages (from python-dateutil>=2.7.3->pandas->shap) (1.15.0)\n",
            "Requirement already satisfied: threadpoolctl>=2.0.0 in /usr/local/lib/python3.7/dist-packages (from scikit-learn->shap) (3.0.0)\n",
            "Requirement already satisfied: joblib>=0.11 in /usr/local/lib/python3.7/dist-packages (from scikit-learn->shap) (1.1.0)\n",
            "Building wheels for collected packages: shap\n",
            "  Building wheel for shap (PEP 517) ... \u001b[?25l\u001b[?25hdone\n",
            "  Created wheel for shap: filename=shap-0.40.0-cp37-cp37m-linux_x86_64.whl size=509235 sha256=21c825339a11329f6484a331c6e9c44dae15de3de116d1e207f05e2dcfdeb909\n",
            "  Stored in directory: /root/.cache/pip/wheels/ec/35/84/e304841ac4b910bc95fe9a6e5302eb2507b4333728851dcbfb\n",
            "Successfully built shap\n",
            "Installing collected packages: slicer, shap\n",
            "Successfully installed shap-0.40.0 slicer-0.0.7\n"
          ]
        }
      ]
    },
    {
      "cell_type": "code",
      "metadata": {
        "id": "BgmFwmmUhIS1"
      },
      "source": [
        "import shap"
      ],
      "execution_count": 33,
      "outputs": []
    },
    {
      "cell_type": "code",
      "metadata": {
        "colab": {
          "base_uri": "https://localhost:8080/",
          "height": 316
        },
        "id": "Zg9ZXZRQh6Q5",
        "outputId": "9a14cc0a-2c3d-495c-f170-9b2978c20309"
      },
      "source": [
        "explainer = shap.Explainer(model)\n",
        "shap_values = explainer(train[X_col])\n",
        "\n",
        "shap.plots.waterfall(shap_values=[0])"
      ],
      "execution_count": 45,
      "outputs": [
        {
          "output_type": "error",
          "ename": "AttributeError",
          "evalue": "ignored",
          "traceback": [
            "\u001b[0;31m---------------------------------------------------------------------------\u001b[0m",
            "\u001b[0;31mAttributeError\u001b[0m                            Traceback (most recent call last)",
            "\u001b[0;32m<ipython-input-45-137d59c1ec56>\u001b[0m in \u001b[0;36m<module>\u001b[0;34m()\u001b[0m\n\u001b[1;32m      2\u001b[0m \u001b[0mshap_values\u001b[0m \u001b[0;34m=\u001b[0m \u001b[0mexplainer\u001b[0m\u001b[0;34m(\u001b[0m\u001b[0mtrain\u001b[0m\u001b[0;34m[\u001b[0m\u001b[0mX_col\u001b[0m\u001b[0;34m]\u001b[0m\u001b[0;34m)\u001b[0m\u001b[0;34m\u001b[0m\u001b[0;34m\u001b[0m\u001b[0m\n\u001b[1;32m      3\u001b[0m \u001b[0;34m\u001b[0m\u001b[0m\n\u001b[0;32m----> 4\u001b[0;31m \u001b[0mshap\u001b[0m\u001b[0;34m.\u001b[0m\u001b[0mplots\u001b[0m\u001b[0;34m.\u001b[0m\u001b[0mwaterfall\u001b[0m\u001b[0;34m(\u001b[0m\u001b[0mshap_values\u001b[0m\u001b[0;34m=\u001b[0m\u001b[0;34m[\u001b[0m\u001b[0;36m0\u001b[0m\u001b[0;34m]\u001b[0m\u001b[0;34m)\u001b[0m\u001b[0;34m\u001b[0m\u001b[0;34m\u001b[0m\u001b[0m\n\u001b[0m",
            "\u001b[0;32m/usr/local/lib/python3.7/dist-packages/shap/plots/_waterfall.py\u001b[0m in \u001b[0;36mwaterfall\u001b[0;34m(shap_values, max_display, show)\u001b[0m\n\u001b[1;32m     44\u001b[0m \u001b[0;34m\u001b[0m\u001b[0m\n\u001b[1;32m     45\u001b[0m \u001b[0;34m\u001b[0m\u001b[0m\n\u001b[0;32m---> 46\u001b[0;31m     \u001b[0mbase_values\u001b[0m \u001b[0;34m=\u001b[0m \u001b[0mshap_values\u001b[0m\u001b[0;34m.\u001b[0m\u001b[0mbase_values\u001b[0m\u001b[0;34m\u001b[0m\u001b[0;34m\u001b[0m\u001b[0m\n\u001b[0m\u001b[1;32m     47\u001b[0m \u001b[0;34m\u001b[0m\u001b[0m\n\u001b[1;32m     48\u001b[0m     \u001b[0mfeatures\u001b[0m \u001b[0;34m=\u001b[0m \u001b[0mshap_values\u001b[0m\u001b[0;34m.\u001b[0m\u001b[0mdata\u001b[0m\u001b[0;34m\u001b[0m\u001b[0;34m\u001b[0m\u001b[0m\n",
            "\u001b[0;31mAttributeError\u001b[0m: 'list' object has no attribute 'base_values'"
          ]
        }
      ]
    },
    {
      "cell_type": "code",
      "metadata": {
        "colab": {
          "base_uri": "https://localhost:8080/",
          "height": 433
        },
        "id": "_6Rlj445hIQJ",
        "outputId": "9d9601cb-ac76-4bf6-ce4f-702782043fda"
      },
      "source": [
        "shap.summary_plot(shap_values, train[X_col])"
      ],
      "execution_count": 36,
      "outputs": [
        {
          "output_type": "display_data",
          "data": {
            "image/png": "[encoded data removed]",
            "text/plain": [
              "<Figure size 576x482.4 with 2 Axes>"
            ]
          },
          "metadata": {
            "needs_background": "light"
          }
        }
      ]
    },
    {
      "cell_type": "code",
      "metadata": {
        "id": "jBQCgjfmhINT"
      },
      "source": [
        "df['income_cat'] = pd.qcut(df['month_income'],5,duplicates='drop')"
      ],
      "execution_count": 38,
      "outputs": []
    },
    {
      "cell_type": "code",
      "metadata": {
        "colab": {
          "base_uri": "https://localhost:8080/",
          "height": 204
        },
        "id": "gHaE5FwLhIKg",
        "outputId": "614bf5f3-6f1b-40b6-8b8c-1797b85c1a72"
      },
      "source": [
        "df.groupby('income_cat')['expert'].agg(['mean','count'])"
      ],
      "execution_count": 39,
      "outputs": [
        {
          "output_type": "execute_result",
          "data": {
            "text/html": [
              "<div>\n",
              "<style scoped>\n",
              "    .dataframe tbody tr th:only-of-type {\n",
              "        vertical-align: middle;\n",
              "    }\n",
              "\n",
              "    .dataframe tbody tr th {\n",
              "        vertical-align: top;\n",
              "    }\n",
              "\n",
              "    .dataframe thead th {\n",
              "        text-align: right;\n",
              "    }\n",
              "</style>\n",
              "<table border=\"1\" class=\"dataframe\">\n",
              "  <thead>\n",
              "    <tr style=\"text-align: right;\">\n",
              "      <th></th>\n",
              "      <th>mean</th>\n",
              "      <th>count</th>\n",
              "    </tr>\n",
              "    <tr>\n",
              "      <th>income_cat</th>\n",
              "      <th></th>\n",
              "      <th></th>\n",
              "    </tr>\n",
              "  </thead>\n",
              "  <tbody>\n",
              "    <tr>\n",
              "      <th>(-0.001, 20000.0]</th>\n",
              "      <td>0.863225</td>\n",
              "      <td>22972</td>\n",
              "    </tr>\n",
              "    <tr>\n",
              "      <th>(20000.0, 35000.0]</th>\n",
              "      <td>0.684896</td>\n",
              "      <td>15817</td>\n",
              "    </tr>\n",
              "    <tr>\n",
              "      <th>(35000.0, 50000.0]</th>\n",
              "      <td>0.601476</td>\n",
              "      <td>8401</td>\n",
              "    </tr>\n",
              "    <tr>\n",
              "      <th>(50000.0, 550000.0]</th>\n",
              "      <td>0.621843</td>\n",
              "      <td>2811</td>\n",
              "    </tr>\n",
              "  </tbody>\n",
              "</table>\n",
              "</div>"
            ],
            "text/plain": [
              "                         mean  count\n",
              "income_cat                          \n",
              "(-0.001, 20000.0]    0.863225  22972\n",
              "(20000.0, 35000.0]   0.684896  15817\n",
              "(35000.0, 50000.0]   0.601476   8401\n",
              "(50000.0, 550000.0]  0.621843   2811"
            ]
          },
          "metadata": {},
          "execution_count": 39
        }
      ]
    },
    {
      "cell_type": "code",
      "metadata": {
        "id": "TFg5Wp5yhIH6"
      },
      "source": [
        "df['client_cat'] = pd.qcut(df['client_id'],5,duplicates='drop')"
      ],
      "execution_count": 40,
      "outputs": []
    },
    {
      "cell_type": "code",
      "metadata": {
        "colab": {
          "base_uri": "https://localhost:8080/",
          "height": 235
        },
        "id": "cBgdvMlohIFQ",
        "outputId": "2f37bf06-118c-4d0a-9396-27df3929e5e5"
      },
      "source": [
        "df.groupby('client_cat')['expert'].agg(['mean','count'])"
      ],
      "execution_count": 41,
      "outputs": [
        {
          "output_type": "execute_result",
          "data": {
            "text/html": [
              "<div>\n",
              "<style scoped>\n",
              "    .dataframe tbody tr th:only-of-type {\n",
              "        vertical-align: middle;\n",
              "    }\n",
              "\n",
              "    .dataframe tbody tr th {\n",
              "        vertical-align: top;\n",
              "    }\n",
              "\n",
              "    .dataframe thead th {\n",
              "        text-align: right;\n",
              "    }\n",
              "</style>\n",
              "<table border=\"1\" class=\"dataframe\">\n",
              "  <thead>\n",
              "    <tr style=\"text-align: right;\">\n",
              "      <th></th>\n",
              "      <th>mean</th>\n",
              "      <th>count</th>\n",
              "    </tr>\n",
              "    <tr>\n",
              "      <th>client_cat</th>\n",
              "      <th></th>\n",
              "      <th></th>\n",
              "    </tr>\n",
              "  </thead>\n",
              "  <tbody>\n",
              "    <tr>\n",
              "      <th>(108.999, 274066.0]</th>\n",
              "      <td>0.455954</td>\n",
              "      <td>10001</td>\n",
              "    </tr>\n",
              "    <tr>\n",
              "      <th>(274066.0, 310588.0]</th>\n",
              "      <td>0.716700</td>\n",
              "      <td>10000</td>\n",
              "    </tr>\n",
              "    <tr>\n",
              "      <th>(310588.0, 322138.0]</th>\n",
              "      <td>0.816000</td>\n",
              "      <td>10000</td>\n",
              "    </tr>\n",
              "    <tr>\n",
              "      <th>(322138.0, 332110.0]</th>\n",
              "      <td>0.869500</td>\n",
              "      <td>10000</td>\n",
              "    </tr>\n",
              "    <tr>\n",
              "      <th>(332110.0, 393528.0]</th>\n",
              "      <td>0.888200</td>\n",
              "      <td>10000</td>\n",
              "    </tr>\n",
              "  </tbody>\n",
              "</table>\n",
              "</div>"
            ],
            "text/plain": [
              "                          mean  count\n",
              "client_cat                           \n",
              "(108.999, 274066.0]   0.455954  10001\n",
              "(274066.0, 310588.0]  0.716700  10000\n",
              "(310588.0, 322138.0]  0.816000  10000\n",
              "(322138.0, 332110.0]  0.869500  10000\n",
              "(332110.0, 393528.0]  0.888200  10000"
            ]
          },
          "metadata": {},
          "execution_count": 41
        }
      ]
    },
    {
      "cell_type": "code",
      "metadata": {
        "colab": {
          "base_uri": "https://localhost:8080/",
          "height": 609
        },
        "id": "BjjgWZhfhICp",
        "outputId": "696c028d-6111-4276-cf99-3fcd5513d55c"
      },
      "source": [
        "df"
      ],
      "execution_count": 42,
      "outputs": [
        {
          "output_type": "execute_result",
          "data": {
            "text/html": [
              "<div>\n",
              "<style scoped>\n",
              "    .dataframe tbody tr th:only-of-type {\n",
              "        vertical-align: middle;\n",
              "    }\n",
              "\n",
              "    .dataframe tbody tr th {\n",
              "        vertical-align: top;\n",
              "    }\n",
              "\n",
              "    .dataframe thead th {\n",
              "        text-align: right;\n",
              "    }\n",
              "</style>\n",
              "<table border=\"1\" class=\"dataframe\">\n",
              "  <thead>\n",
              "    <tr style=\"text-align: right;\">\n",
              "      <th></th>\n",
              "      <th>closed_cred_sum</th>\n",
              "      <th>closed_creds</th>\n",
              "      <th>active_cred_sum_overdue</th>\n",
              "      <th>active_cred_sum</th>\n",
              "      <th>active_cred_day_overdue</th>\n",
              "      <th>active_cred_max_overdue</th>\n",
              "      <th>age</th>\n",
              "      <th>gender</th>\n",
              "      <th>region</th>\n",
              "      <th>first_loan</th>\n",
              "      <th>loan_cost_all</th>\n",
              "      <th>first_days_quant</th>\n",
              "      <th>month_income</th>\n",
              "      <th>order_date</th>\n",
              "      <th>cost_all</th>\n",
              "      <th>order_id</th>\n",
              "      <th>client_id</th>\n",
              "      <th>expert</th>\n",
              "      <th>income_cat</th>\n",
              "      <th>client_cat</th>\n",
              "    </tr>\n",
              "  </thead>\n",
              "  <tbody>\n",
              "    <tr>\n",
              "      <th>0</th>\n",
              "      <td>143822.00</td>\n",
              "      <td>22</td>\n",
              "      <td>104.12</td>\n",
              "      <td>130068.80</td>\n",
              "      <td>8</td>\n",
              "      <td>756.09</td>\n",
              "      <td>31</td>\n",
              "      <td>0</td>\n",
              "      <td>36</td>\n",
              "      <td>10000.0</td>\n",
              "      <td>10000</td>\n",
              "      <td>196</td>\n",
              "      <td>0.0</td>\n",
              "      <td>2017-07-23</td>\n",
              "      <td>0.0</td>\n",
              "      <td>728319</td>\n",
              "      <td>320464</td>\n",
              "      <td>1</td>\n",
              "      <td>(-0.001, 20000.0]</td>\n",
              "      <td>(310588.0, 322138.0]</td>\n",
              "    </tr>\n",
              "    <tr>\n",
              "      <th>1</th>\n",
              "      <td>0.00</td>\n",
              "      <td>0</td>\n",
              "      <td>38151.93</td>\n",
              "      <td>46230.00</td>\n",
              "      <td>1492</td>\n",
              "      <td>38151.93</td>\n",
              "      <td>51</td>\n",
              "      <td>0</td>\n",
              "      <td>93</td>\n",
              "      <td>10000.0</td>\n",
              "      <td>10000</td>\n",
              "      <td>17</td>\n",
              "      <td>20000.0</td>\n",
              "      <td>2017-07-23</td>\n",
              "      <td>0.0</td>\n",
              "      <td>728321</td>\n",
              "      <td>320466</td>\n",
              "      <td>1</td>\n",
              "      <td>(-0.001, 20000.0]</td>\n",
              "      <td>(310588.0, 322138.0]</td>\n",
              "    </tr>\n",
              "    <tr>\n",
              "      <th>2</th>\n",
              "      <td>51356.00</td>\n",
              "      <td>2</td>\n",
              "      <td>3000.00</td>\n",
              "      <td>3000.00</td>\n",
              "      <td>8</td>\n",
              "      <td>3000.00</td>\n",
              "      <td>28</td>\n",
              "      <td>1</td>\n",
              "      <td>3</td>\n",
              "      <td>10000.0</td>\n",
              "      <td>10000</td>\n",
              "      <td>84</td>\n",
              "      <td>0.0</td>\n",
              "      <td>2017-07-23</td>\n",
              "      <td>0.0</td>\n",
              "      <td>728323</td>\n",
              "      <td>320467</td>\n",
              "      <td>1</td>\n",
              "      <td>(-0.001, 20000.0]</td>\n",
              "      <td>(310588.0, 322138.0]</td>\n",
              "    </tr>\n",
              "    <tr>\n",
              "      <th>3</th>\n",
              "      <td>0.00</td>\n",
              "      <td>0</td>\n",
              "      <td>22784.19</td>\n",
              "      <td>32103.52</td>\n",
              "      <td>913</td>\n",
              "      <td>22784.19</td>\n",
              "      <td>28</td>\n",
              "      <td>0</td>\n",
              "      <td>52</td>\n",
              "      <td>10000.0</td>\n",
              "      <td>10000</td>\n",
              "      <td>7</td>\n",
              "      <td>0.0</td>\n",
              "      <td>2017-07-23</td>\n",
              "      <td>0.0</td>\n",
              "      <td>728447</td>\n",
              "      <td>320533</td>\n",
              "      <td>1</td>\n",
              "      <td>(-0.001, 20000.0]</td>\n",
              "      <td>(310588.0, 322138.0]</td>\n",
              "    </tr>\n",
              "    <tr>\n",
              "      <th>4</th>\n",
              "      <td>12298.00</td>\n",
              "      <td>1</td>\n",
              "      <td>4942.95</td>\n",
              "      <td>4950.00</td>\n",
              "      <td>2883</td>\n",
              "      <td>4942.95</td>\n",
              "      <td>31</td>\n",
              "      <td>0</td>\n",
              "      <td>47</td>\n",
              "      <td>5000.0</td>\n",
              "      <td>5000</td>\n",
              "      <td>20</td>\n",
              "      <td>0.0</td>\n",
              "      <td>2017-07-23</td>\n",
              "      <td>0.0</td>\n",
              "      <td>728421</td>\n",
              "      <td>298598</td>\n",
              "      <td>1</td>\n",
              "      <td>(-0.001, 20000.0]</td>\n",
              "      <td>(274066.0, 310588.0]</td>\n",
              "    </tr>\n",
              "    <tr>\n",
              "      <th>...</th>\n",
              "      <td>...</td>\n",
              "      <td>...</td>\n",
              "      <td>...</td>\n",
              "      <td>...</td>\n",
              "      <td>...</td>\n",
              "      <td>...</td>\n",
              "      <td>...</td>\n",
              "      <td>...</td>\n",
              "      <td>...</td>\n",
              "      <td>...</td>\n",
              "      <td>...</td>\n",
              "      <td>...</td>\n",
              "      <td>...</td>\n",
              "      <td>...</td>\n",
              "      <td>...</td>\n",
              "      <td>...</td>\n",
              "      <td>...</td>\n",
              "      <td>...</td>\n",
              "      <td>...</td>\n",
              "      <td>...</td>\n",
              "    </tr>\n",
              "    <tr>\n",
              "      <th>49996</th>\n",
              "      <td>0.00</td>\n",
              "      <td>0</td>\n",
              "      <td>74662.61</td>\n",
              "      <td>79662.61</td>\n",
              "      <td>2593</td>\n",
              "      <td>42204.55</td>\n",
              "      <td>27</td>\n",
              "      <td>1</td>\n",
              "      <td>0</td>\n",
              "      <td>4000.0</td>\n",
              "      <td>4000</td>\n",
              "      <td>20</td>\n",
              "      <td>0.0</td>\n",
              "      <td>2017-08-13</td>\n",
              "      <td>0.0</td>\n",
              "      <td>759472</td>\n",
              "      <td>96091</td>\n",
              "      <td>1</td>\n",
              "      <td>(-0.001, 20000.0]</td>\n",
              "      <td>(108.999, 274066.0]</td>\n",
              "    </tr>\n",
              "    <tr>\n",
              "      <th>49997</th>\n",
              "      <td>21653.49</td>\n",
              "      <td>2</td>\n",
              "      <td>0.00</td>\n",
              "      <td>0.00</td>\n",
              "      <td>0</td>\n",
              "      <td>0.00</td>\n",
              "      <td>28</td>\n",
              "      <td>0</td>\n",
              "      <td>75</td>\n",
              "      <td>2000.0</td>\n",
              "      <td>2000</td>\n",
              "      <td>10</td>\n",
              "      <td>20000.0</td>\n",
              "      <td>2017-08-13</td>\n",
              "      <td>0.0</td>\n",
              "      <td>759475</td>\n",
              "      <td>338240</td>\n",
              "      <td>1</td>\n",
              "      <td>(-0.001, 20000.0]</td>\n",
              "      <td>(332110.0, 393528.0]</td>\n",
              "    </tr>\n",
              "    <tr>\n",
              "      <th>49998</th>\n",
              "      <td>0.00</td>\n",
              "      <td>0</td>\n",
              "      <td>0.00</td>\n",
              "      <td>1000.00</td>\n",
              "      <td>0</td>\n",
              "      <td>941.00</td>\n",
              "      <td>22</td>\n",
              "      <td>0</td>\n",
              "      <td>0</td>\n",
              "      <td>10000.0</td>\n",
              "      <td>10000</td>\n",
              "      <td>20</td>\n",
              "      <td>35000.0</td>\n",
              "      <td>2017-08-13</td>\n",
              "      <td>0.0</td>\n",
              "      <td>759485</td>\n",
              "      <td>338246</td>\n",
              "      <td>1</td>\n",
              "      <td>(20000.0, 35000.0]</td>\n",
              "      <td>(332110.0, 393528.0]</td>\n",
              "    </tr>\n",
              "    <tr>\n",
              "      <th>49999</th>\n",
              "      <td>0.00</td>\n",
              "      <td>0</td>\n",
              "      <td>0.00</td>\n",
              "      <td>1000.00</td>\n",
              "      <td>0</td>\n",
              "      <td>941.00</td>\n",
              "      <td>22</td>\n",
              "      <td>0</td>\n",
              "      <td>0</td>\n",
              "      <td>10000.0</td>\n",
              "      <td>10000</td>\n",
              "      <td>20</td>\n",
              "      <td>35000.0</td>\n",
              "      <td>2017-08-13</td>\n",
              "      <td>0.0</td>\n",
              "      <td>759485</td>\n",
              "      <td>338246</td>\n",
              "      <td>1</td>\n",
              "      <td>(20000.0, 35000.0]</td>\n",
              "      <td>(332110.0, 393528.0]</td>\n",
              "    </tr>\n",
              "    <tr>\n",
              "      <th>50000</th>\n",
              "      <td>19750.00</td>\n",
              "      <td>9</td>\n",
              "      <td>14100.00</td>\n",
              "      <td>14100.00</td>\n",
              "      <td>331</td>\n",
              "      <td>6000.00</td>\n",
              "      <td>33</td>\n",
              "      <td>0</td>\n",
              "      <td>40</td>\n",
              "      <td>2000.0</td>\n",
              "      <td>2000</td>\n",
              "      <td>21</td>\n",
              "      <td>0.0</td>\n",
              "      <td>2017-08-13</td>\n",
              "      <td>0.0</td>\n",
              "      <td>759490</td>\n",
              "      <td>261961</td>\n",
              "      <td>1</td>\n",
              "      <td>(-0.001, 20000.0]</td>\n",
              "      <td>(108.999, 274066.0]</td>\n",
              "    </tr>\n",
              "  </tbody>\n",
              "</table>\n",
              "<p>50001 rows × 20 columns</p>\n",
              "</div>"
            ],
            "text/plain": [
              "       closed_cred_sum  closed_creds  ...          income_cat            client_cat\n",
              "0            143822.00            22  ...   (-0.001, 20000.0]  (310588.0, 322138.0]\n",
              "1                 0.00             0  ...   (-0.001, 20000.0]  (310588.0, 322138.0]\n",
              "2             51356.00             2  ...   (-0.001, 20000.0]  (310588.0, 322138.0]\n",
              "3                 0.00             0  ...   (-0.001, 20000.0]  (310588.0, 322138.0]\n",
              "4             12298.00             1  ...   (-0.001, 20000.0]  (274066.0, 310588.0]\n",
              "...                ...           ...  ...                 ...                   ...\n",
              "49996             0.00             0  ...   (-0.001, 20000.0]   (108.999, 274066.0]\n",
              "49997         21653.49             2  ...   (-0.001, 20000.0]  (332110.0, 393528.0]\n",
              "49998             0.00             0  ...  (20000.0, 35000.0]  (332110.0, 393528.0]\n",
              "49999             0.00             0  ...  (20000.0, 35000.0]  (332110.0, 393528.0]\n",
              "50000         19750.00             9  ...   (-0.001, 20000.0]   (108.999, 274066.0]\n",
              "\n",
              "[50001 rows x 20 columns]"
            ]
          },
          "metadata": {},
          "execution_count": 42
        }
      ]
    },
    {
      "cell_type": "code",
      "metadata": {
        "id": "qhaxazBWhIAP"
      },
      "source": [
        "df['term_cat'] = pd.qcut(df['first_days_quant'],5)"
      ],
      "execution_count": 43,
      "outputs": []
    },
    {
      "cell_type": "code",
      "metadata": {
        "colab": {
          "base_uri": "https://localhost:8080/",
          "height": 235
        },
        "id": "DvIkyTgBhH9N",
        "outputId": "98aaae5b-88ca-48b6-c948-fd2741985ad3"
      },
      "source": [
        "df.groupby('term_cat')['expert'].agg(['mean','count'])"
      ],
      "execution_count": 44,
      "outputs": [
        {
          "output_type": "execute_result",
          "data": {
            "text/html": [
              "<div>\n",
              "<style scoped>\n",
              "    .dataframe tbody tr th:only-of-type {\n",
              "        vertical-align: middle;\n",
              "    }\n",
              "\n",
              "    .dataframe tbody tr th {\n",
              "        vertical-align: top;\n",
              "    }\n",
              "\n",
              "    .dataframe thead th {\n",
              "        text-align: right;\n",
              "    }\n",
              "</style>\n",
              "<table border=\"1\" class=\"dataframe\">\n",
              "  <thead>\n",
              "    <tr style=\"text-align: right;\">\n",
              "      <th></th>\n",
              "      <th>mean</th>\n",
              "      <th>count</th>\n",
              "    </tr>\n",
              "    <tr>\n",
              "      <th>term_cat</th>\n",
              "      <th></th>\n",
              "      <th></th>\n",
              "    </tr>\n",
              "  </thead>\n",
              "  <tbody>\n",
              "    <tr>\n",
              "      <th>(-0.001, 10.0]</th>\n",
              "      <td>0.775424</td>\n",
              "      <td>12606</td>\n",
              "    </tr>\n",
              "    <tr>\n",
              "      <th>(10.0, 14.0]</th>\n",
              "      <td>0.782866</td>\n",
              "      <td>7447</td>\n",
              "    </tr>\n",
              "    <tr>\n",
              "      <th>(14.0, 20.0]</th>\n",
              "      <td>0.654801</td>\n",
              "      <td>19131</td>\n",
              "    </tr>\n",
              "    <tr>\n",
              "      <th>(20.0, 21.0]</th>\n",
              "      <td>0.983274</td>\n",
              "      <td>3647</td>\n",
              "    </tr>\n",
              "    <tr>\n",
              "      <th>(21.0, 336.0]</th>\n",
              "      <td>0.801395</td>\n",
              "      <td>7170</td>\n",
              "    </tr>\n",
              "  </tbody>\n",
              "</table>\n",
              "</div>"
            ],
            "text/plain": [
              "                    mean  count\n",
              "term_cat                       \n",
              "(-0.001, 10.0]  0.775424  12606\n",
              "(10.0, 14.0]    0.782866   7447\n",
              "(14.0, 20.0]    0.654801  19131\n",
              "(20.0, 21.0]    0.983274   3647\n",
              "(21.0, 336.0]   0.801395   7170"
            ]
          },
          "metadata": {},
          "execution_count": 44
        }
      ]
    },
    {
      "cell_type": "code",
      "metadata": {
        "id": "rdRu-PximyTY"
      },
      "source": [
        "val['score'] = model.predict_proba(val[X_col])[:,1]"
      ],
      "execution_count": 46,
      "outputs": []
    },
    {
      "cell_type": "code",
      "metadata": {
        "colab": {
          "base_uri": "https://localhost:8080/",
          "height": 439
        },
        "id": "xM3srAyOmyQk",
        "outputId": "14602a80-03c1-423c-b71f-ca87f0765db5"
      },
      "source": [
        "val"
      ],
      "execution_count": 47,
      "outputs": [
        {
          "output_type": "execute_result",
          "data": {
            "text/html": [
              "<div>\n",
              "<style scoped>\n",
              "    .dataframe tbody tr th:only-of-type {\n",
              "        vertical-align: middle;\n",
              "    }\n",
              "\n",
              "    .dataframe tbody tr th {\n",
              "        vertical-align: top;\n",
              "    }\n",
              "\n",
              "    .dataframe thead th {\n",
              "        text-align: right;\n",
              "    }\n",
              "</style>\n",
              "<table border=\"1\" class=\"dataframe\">\n",
              "  <thead>\n",
              "    <tr style=\"text-align: right;\">\n",
              "      <th></th>\n",
              "      <th>closed_cred_sum</th>\n",
              "      <th>closed_creds</th>\n",
              "      <th>active_cred_sum_overdue</th>\n",
              "      <th>active_cred_sum</th>\n",
              "      <th>active_cred_day_overdue</th>\n",
              "      <th>active_cred_max_overdue</th>\n",
              "      <th>age</th>\n",
              "      <th>gender</th>\n",
              "      <th>region</th>\n",
              "      <th>first_loan</th>\n",
              "      <th>loan_cost_all</th>\n",
              "      <th>first_days_quant</th>\n",
              "      <th>month_income</th>\n",
              "      <th>order_date</th>\n",
              "      <th>cost_all</th>\n",
              "      <th>order_id</th>\n",
              "      <th>client_id</th>\n",
              "      <th>expert</th>\n",
              "      <th>score</th>\n",
              "    </tr>\n",
              "  </thead>\n",
              "  <tbody>\n",
              "    <tr>\n",
              "      <th>2</th>\n",
              "      <td>51356.0</td>\n",
              "      <td>2</td>\n",
              "      <td>3000.00</td>\n",
              "      <td>3000.00</td>\n",
              "      <td>8</td>\n",
              "      <td>3000.00</td>\n",
              "      <td>28</td>\n",
              "      <td>1</td>\n",
              "      <td>3</td>\n",
              "      <td>10000.0</td>\n",
              "      <td>10000</td>\n",
              "      <td>84</td>\n",
              "      <td>0.0</td>\n",
              "      <td>2017-07-23</td>\n",
              "      <td>0.0</td>\n",
              "      <td>728323</td>\n",
              "      <td>320467</td>\n",
              "      <td>1</td>\n",
              "      <td>0.999996</td>\n",
              "    </tr>\n",
              "    <tr>\n",
              "      <th>5</th>\n",
              "      <td>786916.0</td>\n",
              "      <td>11</td>\n",
              "      <td>0.00</td>\n",
              "      <td>1063763.00</td>\n",
              "      <td>0</td>\n",
              "      <td>10395.39</td>\n",
              "      <td>47</td>\n",
              "      <td>0</td>\n",
              "      <td>38</td>\n",
              "      <td>10000.0</td>\n",
              "      <td>5500</td>\n",
              "      <td>14</td>\n",
              "      <td>50000.0</td>\n",
              "      <td>2017-07-23</td>\n",
              "      <td>0.0</td>\n",
              "      <td>728526</td>\n",
              "      <td>320564</td>\n",
              "      <td>0</td>\n",
              "      <td>0.041321</td>\n",
              "    </tr>\n",
              "    <tr>\n",
              "      <th>9</th>\n",
              "      <td>0.0</td>\n",
              "      <td>0</td>\n",
              "      <td>21143.00</td>\n",
              "      <td>21143.00</td>\n",
              "      <td>1016</td>\n",
              "      <td>10924.00</td>\n",
              "      <td>28</td>\n",
              "      <td>1</td>\n",
              "      <td>0</td>\n",
              "      <td>10000.0</td>\n",
              "      <td>10000</td>\n",
              "      <td>90</td>\n",
              "      <td>0.0</td>\n",
              "      <td>2017-07-23</td>\n",
              "      <td>0.0</td>\n",
              "      <td>728454</td>\n",
              "      <td>123851</td>\n",
              "      <td>1</td>\n",
              "      <td>1.000000</td>\n",
              "    </tr>\n",
              "    <tr>\n",
              "      <th>10</th>\n",
              "      <td>0.0</td>\n",
              "      <td>0</td>\n",
              "      <td>21143.00</td>\n",
              "      <td>21143.00</td>\n",
              "      <td>1016</td>\n",
              "      <td>10924.00</td>\n",
              "      <td>28</td>\n",
              "      <td>1</td>\n",
              "      <td>0</td>\n",
              "      <td>10000.0</td>\n",
              "      <td>10000</td>\n",
              "      <td>15</td>\n",
              "      <td>30000.0</td>\n",
              "      <td>2017-07-23</td>\n",
              "      <td>0.0</td>\n",
              "      <td>728553</td>\n",
              "      <td>123851</td>\n",
              "      <td>1</td>\n",
              "      <td>0.999835</td>\n",
              "    </tr>\n",
              "    <tr>\n",
              "      <th>12</th>\n",
              "      <td>0.0</td>\n",
              "      <td>0</td>\n",
              "      <td>0.00</td>\n",
              "      <td>8000.00</td>\n",
              "      <td>0</td>\n",
              "      <td>0.00</td>\n",
              "      <td>24</td>\n",
              "      <td>1</td>\n",
              "      <td>80</td>\n",
              "      <td>7000.0</td>\n",
              "      <td>7000</td>\n",
              "      <td>10</td>\n",
              "      <td>35000.0</td>\n",
              "      <td>2017-07-23</td>\n",
              "      <td>0.0</td>\n",
              "      <td>728476</td>\n",
              "      <td>320544</td>\n",
              "      <td>1</td>\n",
              "      <td>0.989989</td>\n",
              "    </tr>\n",
              "    <tr>\n",
              "      <th>...</th>\n",
              "      <td>...</td>\n",
              "      <td>...</td>\n",
              "      <td>...</td>\n",
              "      <td>...</td>\n",
              "      <td>...</td>\n",
              "      <td>...</td>\n",
              "      <td>...</td>\n",
              "      <td>...</td>\n",
              "      <td>...</td>\n",
              "      <td>...</td>\n",
              "      <td>...</td>\n",
              "      <td>...</td>\n",
              "      <td>...</td>\n",
              "      <td>...</td>\n",
              "      <td>...</td>\n",
              "      <td>...</td>\n",
              "      <td>...</td>\n",
              "      <td>...</td>\n",
              "      <td>...</td>\n",
              "    </tr>\n",
              "    <tr>\n",
              "      <th>49985</th>\n",
              "      <td>0.0</td>\n",
              "      <td>0</td>\n",
              "      <td>0.00</td>\n",
              "      <td>0.00</td>\n",
              "      <td>0</td>\n",
              "      <td>0.00</td>\n",
              "      <td>20</td>\n",
              "      <td>1</td>\n",
              "      <td>0</td>\n",
              "      <td>7000.0</td>\n",
              "      <td>7000</td>\n",
              "      <td>20</td>\n",
              "      <td>20000.0</td>\n",
              "      <td>2017-08-13</td>\n",
              "      <td>0.0</td>\n",
              "      <td>759492</td>\n",
              "      <td>338248</td>\n",
              "      <td>1</td>\n",
              "      <td>0.999966</td>\n",
              "    </tr>\n",
              "    <tr>\n",
              "      <th>49986</th>\n",
              "      <td>0.0</td>\n",
              "      <td>0</td>\n",
              "      <td>0.00</td>\n",
              "      <td>0.00</td>\n",
              "      <td>0</td>\n",
              "      <td>0.00</td>\n",
              "      <td>20</td>\n",
              "      <td>1</td>\n",
              "      <td>0</td>\n",
              "      <td>7000.0</td>\n",
              "      <td>7000</td>\n",
              "      <td>20</td>\n",
              "      <td>20000.0</td>\n",
              "      <td>2017-08-13</td>\n",
              "      <td>0.0</td>\n",
              "      <td>759492</td>\n",
              "      <td>338248</td>\n",
              "      <td>1</td>\n",
              "      <td>0.999966</td>\n",
              "    </tr>\n",
              "    <tr>\n",
              "      <th>49995</th>\n",
              "      <td>0.0</td>\n",
              "      <td>0</td>\n",
              "      <td>26758.57</td>\n",
              "      <td>25000.00</td>\n",
              "      <td>371</td>\n",
              "      <td>26758.57</td>\n",
              "      <td>44</td>\n",
              "      <td>1</td>\n",
              "      <td>42</td>\n",
              "      <td>3000.0</td>\n",
              "      <td>1000</td>\n",
              "      <td>23</td>\n",
              "      <td>50000.0</td>\n",
              "      <td>2017-08-13</td>\n",
              "      <td>1545.0</td>\n",
              "      <td>759462</td>\n",
              "      <td>338231</td>\n",
              "      <td>0</td>\n",
              "      <td>0.002401</td>\n",
              "    </tr>\n",
              "    <tr>\n",
              "      <th>49996</th>\n",
              "      <td>0.0</td>\n",
              "      <td>0</td>\n",
              "      <td>74662.61</td>\n",
              "      <td>79662.61</td>\n",
              "      <td>2593</td>\n",
              "      <td>42204.55</td>\n",
              "      <td>27</td>\n",
              "      <td>1</td>\n",
              "      <td>0</td>\n",
              "      <td>4000.0</td>\n",
              "      <td>4000</td>\n",
              "      <td>20</td>\n",
              "      <td>0.0</td>\n",
              "      <td>2017-08-13</td>\n",
              "      <td>0.0</td>\n",
              "      <td>759472</td>\n",
              "      <td>96091</td>\n",
              "      <td>1</td>\n",
              "      <td>0.999997</td>\n",
              "    </tr>\n",
              "    <tr>\n",
              "      <th>49998</th>\n",
              "      <td>0.0</td>\n",
              "      <td>0</td>\n",
              "      <td>0.00</td>\n",
              "      <td>1000.00</td>\n",
              "      <td>0</td>\n",
              "      <td>941.00</td>\n",
              "      <td>22</td>\n",
              "      <td>0</td>\n",
              "      <td>0</td>\n",
              "      <td>10000.0</td>\n",
              "      <td>10000</td>\n",
              "      <td>20</td>\n",
              "      <td>35000.0</td>\n",
              "      <td>2017-08-13</td>\n",
              "      <td>0.0</td>\n",
              "      <td>759485</td>\n",
              "      <td>338246</td>\n",
              "      <td>1</td>\n",
              "      <td>0.999859</td>\n",
              "    </tr>\n",
              "  </tbody>\n",
              "</table>\n",
              "<p>15000 rows × 19 columns</p>\n",
              "</div>"
            ],
            "text/plain": [
              "       closed_cred_sum  closed_creds  ...  expert     score\n",
              "2              51356.0             2  ...       1  0.999996\n",
              "5             786916.0            11  ...       0  0.041321\n",
              "9                  0.0             0  ...       1  1.000000\n",
              "10                 0.0             0  ...       1  0.999835\n",
              "12                 0.0             0  ...       1  0.989989\n",
              "...                ...           ...  ...     ...       ...\n",
              "49985              0.0             0  ...       1  0.999966\n",
              "49986              0.0             0  ...       1  0.999966\n",
              "49995              0.0             0  ...       0  0.002401\n",
              "49996              0.0             0  ...       1  0.999997\n",
              "49998              0.0             0  ...       1  0.999859\n",
              "\n",
              "[15000 rows x 19 columns]"
            ]
          },
          "metadata": {},
          "execution_count": 47
        }
      ]
    },
    {
      "cell_type": "code",
      "metadata": {
        "id": "QZ6ocy54myN4"
      },
      "source": [
        "from sklearn.metrics import roc_auc_score, roc_curve"
      ],
      "execution_count": 48,
      "outputs": []
    },
    {
      "cell_type": "code",
      "metadata": {
        "colab": {
          "base_uri": "https://localhost:8080/"
        },
        "id": "GRQNLtpxmyLV",
        "outputId": "34fffb6e-2d18-40ec-d83f-a2ccdbe036d1"
      },
      "source": [
        "roc_auc_score(val['expert'],val['score'])"
      ],
      "execution_count": 49,
      "outputs": [
        {
          "output_type": "execute_result",
          "data": {
            "text/plain": [
              "0.9496847862832667"
            ]
          },
          "metadata": {},
          "execution_count": 49
        }
      ]
    },
    {
      "cell_type": "code",
      "metadata": {
        "id": "d2DiIELhmyIX"
      },
      "source": [
        "fpr, tpr, thr = roc_curve(val['expert'],val['score'])"
      ],
      "execution_count": 50,
      "outputs": []
    },
    {
      "cell_type": "code",
      "metadata": {
        "id": "YraNA9jlmyFw"
      },
      "source": [
        "roc = pd.DataFrame({'fpr':fpr,'tpr':tpr,'thr':thr})"
      ],
      "execution_count": 52,
      "outputs": []
    },
    {
      "cell_type": "code",
      "metadata": {
        "colab": {
          "base_uri": "https://localhost:8080/",
          "height": 405
        },
        "id": "mUIGZPRqmyDB",
        "outputId": "fbfe5517-afb7-4221-8cf6-2bf956f243f8"
      },
      "source": [
        "roc.plot(x='fpr',y='tpr',figsize=(6,6),grid=True)"
      ],
      "execution_count": 53,
      "outputs": [
        {
          "output_type": "execute_result",
          "data": {
            "text/plain": [
              "<matplotlib.axes._subplots.AxesSubplot at 0x7f10ab32ddd0>"
            ]
          },
          "metadata": {},
          "execution_count": 53
        },
        {
          "output_type": "display_data",
          "data": {
            "image/png": "[encoded data removed]",
            "text/plain": [
              "<Figure size 432x432 with 1 Axes>"
            ]
          },
          "metadata": {
            "needs_background": "light"
          }
        }
      ]
    },
    {
      "cell_type": "code",
      "metadata": {
        "id": "qRiAwnV7myAW"
      },
      "source": [
        "roc['tpr-fpr'] = roc['tpr'] - roc['fpr']"
      ],
      "execution_count": 54,
      "outputs": []
    },
    {
      "cell_type": "code",
      "metadata": {
        "colab": {
          "base_uri": "https://localhost:8080/",
          "height": 419
        },
        "id": "VGcYmfkzrAo4",
        "outputId": "b60107c3-43d7-4802-cce8-22f1ad1cfd8c"
      },
      "source": [
        "roc.sort_values('tpr-fpr', ascending=False)"
      ],
      "execution_count": 56,
      "outputs": [
        {
          "output_type": "execute_result",
          "data": {
            "text/html": [
              "<div>\n",
              "<style scoped>\n",
              "    .dataframe tbody tr th:only-of-type {\n",
              "        vertical-align: middle;\n",
              "    }\n",
              "\n",
              "    .dataframe tbody tr th {\n",
              "        vertical-align: top;\n",
              "    }\n",
              "\n",
              "    .dataframe thead th {\n",
              "        text-align: right;\n",
              "    }\n",
              "</style>\n",
              "<table border=\"1\" class=\"dataframe\">\n",
              "  <thead>\n",
              "    <tr style=\"text-align: right;\">\n",
              "      <th></th>\n",
              "      <th>fpr</th>\n",
              "      <th>tpr</th>\n",
              "      <th>thr</th>\n",
              "      <th>tpr-fpr</th>\n",
              "    </tr>\n",
              "  </thead>\n",
              "  <tbody>\n",
              "    <tr>\n",
              "      <th>1769</th>\n",
              "      <td>0.136</td>\n",
              "      <td>0.897</td>\n",
              "      <td>0.811</td>\n",
              "      <td>0.761</td>\n",
              "    </tr>\n",
              "    <tr>\n",
              "      <th>1767</th>\n",
              "      <td>0.136</td>\n",
              "      <td>0.897</td>\n",
              "      <td>0.813</td>\n",
              "      <td>0.761</td>\n",
              "    </tr>\n",
              "    <tr>\n",
              "      <th>1771</th>\n",
              "      <td>0.136</td>\n",
              "      <td>0.897</td>\n",
              "      <td>0.811</td>\n",
              "      <td>0.761</td>\n",
              "    </tr>\n",
              "    <tr>\n",
              "      <th>1770</th>\n",
              "      <td>0.136</td>\n",
              "      <td>0.897</td>\n",
              "      <td>0.811</td>\n",
              "      <td>0.761</td>\n",
              "    </tr>\n",
              "    <tr>\n",
              "      <th>1768</th>\n",
              "      <td>0.136</td>\n",
              "      <td>0.897</td>\n",
              "      <td>0.812</td>\n",
              "      <td>0.761</td>\n",
              "    </tr>\n",
              "    <tr>\n",
              "      <th>...</th>\n",
              "      <td>...</td>\n",
              "      <td>...</td>\n",
              "      <td>...</td>\n",
              "      <td>...</td>\n",
              "    </tr>\n",
              "    <tr>\n",
              "      <th>3</th>\n",
              "      <td>0.000</td>\n",
              "      <td>0.001</td>\n",
              "      <td>1.000</td>\n",
              "      <td>0.001</td>\n",
              "    </tr>\n",
              "    <tr>\n",
              "      <th>2</th>\n",
              "      <td>0.000</td>\n",
              "      <td>0.001</td>\n",
              "      <td>1.000</td>\n",
              "      <td>0.001</td>\n",
              "    </tr>\n",
              "    <tr>\n",
              "      <th>1</th>\n",
              "      <td>0.000</td>\n",
              "      <td>0.000</td>\n",
              "      <td>1.000</td>\n",
              "      <td>0.000</td>\n",
              "    </tr>\n",
              "    <tr>\n",
              "      <th>0</th>\n",
              "      <td>0.000</td>\n",
              "      <td>0.000</td>\n",
              "      <td>2.000</td>\n",
              "      <td>0.000</td>\n",
              "    </tr>\n",
              "    <tr>\n",
              "      <th>3174</th>\n",
              "      <td>1.000</td>\n",
              "      <td>1.000</td>\n",
              "      <td>0.000</td>\n",
              "      <td>0.000</td>\n",
              "    </tr>\n",
              "  </tbody>\n",
              "</table>\n",
              "<p>3175 rows × 4 columns</p>\n",
              "</div>"
            ],
            "text/plain": [
              "       fpr   tpr   thr  tpr-fpr\n",
              "1769 0.136 0.897 0.811    0.761\n",
              "1767 0.136 0.897 0.813    0.761\n",
              "1771 0.136 0.897 0.811    0.761\n",
              "1770 0.136 0.897 0.811    0.761\n",
              "1768 0.136 0.897 0.812    0.761\n",
              "...    ...   ...   ...      ...\n",
              "3    0.000 0.001 1.000    0.001\n",
              "2    0.000 0.001 1.000    0.001\n",
              "1    0.000 0.000 1.000    0.000\n",
              "0    0.000 0.000 2.000    0.000\n",
              "3174 1.000 1.000 0.000    0.000\n",
              "\n",
              "[3175 rows x 4 columns]"
            ]
          },
          "metadata": {},
          "execution_count": 56
        }
      ]
    },
    {
      "cell_type": "code",
      "metadata": {
        "id": "EcABMpX8nPal"
      },
      "source": [
        "pd.set_option('display.float_format', lambda x: '%.3f' % x)"
      ],
      "execution_count": 57,
      "outputs": []
    },
    {
      "cell_type": "code",
      "metadata": {
        "id": "oWA_cztunQfm"
      },
      "source": [
        "best_thr = roc.sort_values('tpr-fpr',ascending=False)['thr'].iloc[0]"
      ],
      "execution_count": 58,
      "outputs": []
    },
    {
      "cell_type": "code",
      "metadata": {
        "id": "TNPoYoStnQbw"
      },
      "source": [
        "val['y_pred'] = (val['score'] >= best_thr)*1"
      ],
      "execution_count": 59,
      "outputs": []
    },
    {
      "cell_type": "code",
      "metadata": {
        "colab": {
          "base_uri": "https://localhost:8080/",
          "height": 439
        },
        "id": "VwbQ94Wrrkd0",
        "outputId": "e287771c-b79e-46c2-e2f2-1b40d7dbdbab"
      },
      "source": [
        "val"
      ],
      "execution_count": 60,
      "outputs": [
        {
          "output_type": "execute_result",
          "data": {
            "text/html": [
              "<div>\n",
              "<style scoped>\n",
              "    .dataframe tbody tr th:only-of-type {\n",
              "        vertical-align: middle;\n",
              "    }\n",
              "\n",
              "    .dataframe tbody tr th {\n",
              "        vertical-align: top;\n",
              "    }\n",
              "\n",
              "    .dataframe thead th {\n",
              "        text-align: right;\n",
              "    }\n",
              "</style>\n",
              "<table border=\"1\" class=\"dataframe\">\n",
              "  <thead>\n",
              "    <tr style=\"text-align: right;\">\n",
              "      <th></th>\n",
              "      <th>closed_cred_sum</th>\n",
              "      <th>closed_creds</th>\n",
              "      <th>active_cred_sum_overdue</th>\n",
              "      <th>active_cred_sum</th>\n",
              "      <th>active_cred_day_overdue</th>\n",
              "      <th>active_cred_max_overdue</th>\n",
              "      <th>age</th>\n",
              "      <th>gender</th>\n",
              "      <th>region</th>\n",
              "      <th>first_loan</th>\n",
              "      <th>loan_cost_all</th>\n",
              "      <th>first_days_quant</th>\n",
              "      <th>month_income</th>\n",
              "      <th>order_date</th>\n",
              "      <th>cost_all</th>\n",
              "      <th>order_id</th>\n",
              "      <th>client_id</th>\n",
              "      <th>expert</th>\n",
              "      <th>score</th>\n",
              "      <th>y_pred</th>\n",
              "    </tr>\n",
              "  </thead>\n",
              "  <tbody>\n",
              "    <tr>\n",
              "      <th>2</th>\n",
              "      <td>51356.000</td>\n",
              "      <td>2</td>\n",
              "      <td>3000.000</td>\n",
              "      <td>3000.000</td>\n",
              "      <td>8</td>\n",
              "      <td>3000.000</td>\n",
              "      <td>28</td>\n",
              "      <td>1</td>\n",
              "      <td>3</td>\n",
              "      <td>10000.000</td>\n",
              "      <td>10000</td>\n",
              "      <td>84</td>\n",
              "      <td>0.000</td>\n",
              "      <td>2017-07-23</td>\n",
              "      <td>0.000</td>\n",
              "      <td>728323</td>\n",
              "      <td>320467</td>\n",
              "      <td>1</td>\n",
              "      <td>1.000</td>\n",
              "      <td>1</td>\n",
              "    </tr>\n",
              "    <tr>\n",
              "      <th>5</th>\n",
              "      <td>786916.000</td>\n",
              "      <td>11</td>\n",
              "      <td>0.000</td>\n",
              "      <td>1063763.000</td>\n",
              "      <td>0</td>\n",
              "      <td>10395.390</td>\n",
              "      <td>47</td>\n",
              "      <td>0</td>\n",
              "      <td>38</td>\n",
              "      <td>10000.000</td>\n",
              "      <td>5500</td>\n",
              "      <td>14</td>\n",
              "      <td>50000.000</td>\n",
              "      <td>2017-07-23</td>\n",
              "      <td>0.000</td>\n",
              "      <td>728526</td>\n",
              "      <td>320564</td>\n",
              "      <td>0</td>\n",
              "      <td>0.041</td>\n",
              "      <td>0</td>\n",
              "    </tr>\n",
              "    <tr>\n",
              "      <th>9</th>\n",
              "      <td>0.000</td>\n",
              "      <td>0</td>\n",
              "      <td>21143.000</td>\n",
              "      <td>21143.000</td>\n",
              "      <td>1016</td>\n",
              "      <td>10924.000</td>\n",
              "      <td>28</td>\n",
              "      <td>1</td>\n",
              "      <td>0</td>\n",
              "      <td>10000.000</td>\n",
              "      <td>10000</td>\n",
              "      <td>90</td>\n",
              "      <td>0.000</td>\n",
              "      <td>2017-07-23</td>\n",
              "      <td>0.000</td>\n",
              "      <td>728454</td>\n",
              "      <td>123851</td>\n",
              "      <td>1</td>\n",
              "      <td>1.000</td>\n",
              "      <td>1</td>\n",
              "    </tr>\n",
              "    <tr>\n",
              "      <th>10</th>\n",
              "      <td>0.000</td>\n",
              "      <td>0</td>\n",
              "      <td>21143.000</td>\n",
              "      <td>21143.000</td>\n",
              "      <td>1016</td>\n",
              "      <td>10924.000</td>\n",
              "      <td>28</td>\n",
              "      <td>1</td>\n",
              "      <td>0</td>\n",
              "      <td>10000.000</td>\n",
              "      <td>10000</td>\n",
              "      <td>15</td>\n",
              "      <td>30000.000</td>\n",
              "      <td>2017-07-23</td>\n",
              "      <td>0.000</td>\n",
              "      <td>728553</td>\n",
              "      <td>123851</td>\n",
              "      <td>1</td>\n",
              "      <td>1.000</td>\n",
              "      <td>1</td>\n",
              "    </tr>\n",
              "    <tr>\n",
              "      <th>12</th>\n",
              "      <td>0.000</td>\n",
              "      <td>0</td>\n",
              "      <td>0.000</td>\n",
              "      <td>8000.000</td>\n",
              "      <td>0</td>\n",
              "      <td>0.000</td>\n",
              "      <td>24</td>\n",
              "      <td>1</td>\n",
              "      <td>80</td>\n",
              "      <td>7000.000</td>\n",
              "      <td>7000</td>\n",
              "      <td>10</td>\n",
              "      <td>35000.000</td>\n",
              "      <td>2017-07-23</td>\n",
              "      <td>0.000</td>\n",
              "      <td>728476</td>\n",
              "      <td>320544</td>\n",
              "      <td>1</td>\n",
              "      <td>0.990</td>\n",
              "      <td>1</td>\n",
              "    </tr>\n",
              "    <tr>\n",
              "      <th>...</th>\n",
              "      <td>...</td>\n",
              "      <td>...</td>\n",
              "      <td>...</td>\n",
              "      <td>...</td>\n",
              "      <td>...</td>\n",
              "      <td>...</td>\n",
              "      <td>...</td>\n",
              "      <td>...</td>\n",
              "      <td>...</td>\n",
              "      <td>...</td>\n",
              "      <td>...</td>\n",
              "      <td>...</td>\n",
              "      <td>...</td>\n",
              "      <td>...</td>\n",
              "      <td>...</td>\n",
              "      <td>...</td>\n",
              "      <td>...</td>\n",
              "      <td>...</td>\n",
              "      <td>...</td>\n",
              "      <td>...</td>\n",
              "    </tr>\n",
              "    <tr>\n",
              "      <th>49985</th>\n",
              "      <td>0.000</td>\n",
              "      <td>0</td>\n",
              "      <td>0.000</td>\n",
              "      <td>0.000</td>\n",
              "      <td>0</td>\n",
              "      <td>0.000</td>\n",
              "      <td>20</td>\n",
              "      <td>1</td>\n",
              "      <td>0</td>\n",
              "      <td>7000.000</td>\n",
              "      <td>7000</td>\n",
              "      <td>20</td>\n",
              "      <td>20000.000</td>\n",
              "      <td>2017-08-13</td>\n",
              "      <td>0.000</td>\n",
              "      <td>759492</td>\n",
              "      <td>338248</td>\n",
              "      <td>1</td>\n",
              "      <td>1.000</td>\n",
              "      <td>1</td>\n",
              "    </tr>\n",
              "    <tr>\n",
              "      <th>49986</th>\n",
              "      <td>0.000</td>\n",
              "      <td>0</td>\n",
              "      <td>0.000</td>\n",
              "      <td>0.000</td>\n",
              "      <td>0</td>\n",
              "      <td>0.000</td>\n",
              "      <td>20</td>\n",
              "      <td>1</td>\n",
              "      <td>0</td>\n",
              "      <td>7000.000</td>\n",
              "      <td>7000</td>\n",
              "      <td>20</td>\n",
              "      <td>20000.000</td>\n",
              "      <td>2017-08-13</td>\n",
              "      <td>0.000</td>\n",
              "      <td>759492</td>\n",
              "      <td>338248</td>\n",
              "      <td>1</td>\n",
              "      <td>1.000</td>\n",
              "      <td>1</td>\n",
              "    </tr>\n",
              "    <tr>\n",
              "      <th>49995</th>\n",
              "      <td>0.000</td>\n",
              "      <td>0</td>\n",
              "      <td>26758.570</td>\n",
              "      <td>25000.000</td>\n",
              "      <td>371</td>\n",
              "      <td>26758.570</td>\n",
              "      <td>44</td>\n",
              "      <td>1</td>\n",
              "      <td>42</td>\n",
              "      <td>3000.000</td>\n",
              "      <td>1000</td>\n",
              "      <td>23</td>\n",
              "      <td>50000.000</td>\n",
              "      <td>2017-08-13</td>\n",
              "      <td>1545.000</td>\n",
              "      <td>759462</td>\n",
              "      <td>338231</td>\n",
              "      <td>0</td>\n",
              "      <td>0.002</td>\n",
              "      <td>0</td>\n",
              "    </tr>\n",
              "    <tr>\n",
              "      <th>49996</th>\n",
              "      <td>0.000</td>\n",
              "      <td>0</td>\n",
              "      <td>74662.610</td>\n",
              "      <td>79662.610</td>\n",
              "      <td>2593</td>\n",
              "      <td>42204.550</td>\n",
              "      <td>27</td>\n",
              "      <td>1</td>\n",
              "      <td>0</td>\n",
              "      <td>4000.000</td>\n",
              "      <td>4000</td>\n",
              "      <td>20</td>\n",
              "      <td>0.000</td>\n",
              "      <td>2017-08-13</td>\n",
              "      <td>0.000</td>\n",
              "      <td>759472</td>\n",
              "      <td>96091</td>\n",
              "      <td>1</td>\n",
              "      <td>1.000</td>\n",
              "      <td>1</td>\n",
              "    </tr>\n",
              "    <tr>\n",
              "      <th>49998</th>\n",
              "      <td>0.000</td>\n",
              "      <td>0</td>\n",
              "      <td>0.000</td>\n",
              "      <td>1000.000</td>\n",
              "      <td>0</td>\n",
              "      <td>941.000</td>\n",
              "      <td>22</td>\n",
              "      <td>0</td>\n",
              "      <td>0</td>\n",
              "      <td>10000.000</td>\n",
              "      <td>10000</td>\n",
              "      <td>20</td>\n",
              "      <td>35000.000</td>\n",
              "      <td>2017-08-13</td>\n",
              "      <td>0.000</td>\n",
              "      <td>759485</td>\n",
              "      <td>338246</td>\n",
              "      <td>1</td>\n",
              "      <td>1.000</td>\n",
              "      <td>1</td>\n",
              "    </tr>\n",
              "  </tbody>\n",
              "</table>\n",
              "<p>15000 rows × 20 columns</p>\n",
              "</div>"
            ],
            "text/plain": [
              "       closed_cred_sum  closed_creds  ...  score  y_pred\n",
              "2            51356.000             2  ...  1.000       1\n",
              "5           786916.000            11  ...  0.041       0\n",
              "9                0.000             0  ...  1.000       1\n",
              "10               0.000             0  ...  1.000       1\n",
              "12               0.000             0  ...  0.990       1\n",
              "...                ...           ...  ...    ...     ...\n",
              "49985            0.000             0  ...  1.000       1\n",
              "49986            0.000             0  ...  1.000       1\n",
              "49995            0.000             0  ...  0.002       0\n",
              "49996            0.000             0  ...  1.000       1\n",
              "49998            0.000             0  ...  1.000       1\n",
              "\n",
              "[15000 rows x 20 columns]"
            ]
          },
          "metadata": {},
          "execution_count": 60
        }
      ]
    },
    {
      "cell_type": "code",
      "metadata": {
        "id": "1hAwp6GDnQXu"
      },
      "source": [
        "from sklearn.metrics import confusion_matrix, classification_report"
      ],
      "execution_count": 61,
      "outputs": []
    },
    {
      "cell_type": "code",
      "metadata": {
        "colab": {
          "base_uri": "https://localhost:8080/"
        },
        "id": "Tbki-f4RnQVY",
        "outputId": "41cc0fde-b252-41df-a16b-b964fb935c4b"
      },
      "source": [
        "print(classification_report(val['expert'],val['y_pred']))"
      ],
      "execution_count": 62,
      "outputs": [
        {
          "output_type": "stream",
          "name": "stdout",
          "text": [
            "              precision    recall  f1-score   support\n",
            "\n",
            "           0       0.74      0.86      0.80      3835\n",
            "           1       0.95      0.90      0.92     11165\n",
            "\n",
            "    accuracy                           0.89     15000\n",
            "   macro avg       0.85      0.88      0.86     15000\n",
            "weighted avg       0.90      0.89      0.89     15000\n",
            "\n"
          ]
        }
      ]
    },
    {
      "cell_type": "code",
      "metadata": {
        "colab": {
          "base_uri": "https://localhost:8080/"
        },
        "id": "vZ6oxKvnnQSF",
        "outputId": "b79c6200-3e38-49c4-ace6-5d751333c17b"
      },
      "source": [
        "confusion_matrix(val['expert'],val['y_pred'])"
      ],
      "execution_count": 63,
      "outputs": [
        {
          "output_type": "execute_result",
          "data": {
            "text/plain": [
              "array([[ 3314,   521],\n",
              "       [ 1151, 10014]])"
            ]
          },
          "metadata": {},
          "execution_count": 63
        }
      ]
    },
    {
      "cell_type": "code",
      "metadata": {
        "id": "CuyXBJh_nQPc"
      },
      "source": [
        "tn, fp, fn, tp = confusion_matrix(val['expert'],val['y_pred']).ravel()"
      ],
      "execution_count": 64,
      "outputs": []
    },
    {
      "cell_type": "code",
      "metadata": {
        "colab": {
          "base_uri": "https://localhost:8080/",
          "height": 282
        },
        "id": "s7m6pxZsnQM_",
        "outputId": "5330af5c-8e53-4b25-f122-0879a9236bf1"
      },
      "source": [
        "val['score'].hist()"
      ],
      "execution_count": 65,
      "outputs": [
        {
          "output_type": "execute_result",
          "data": {
            "text/plain": [
              "<matplotlib.axes._subplots.AxesSubplot at 0x7f109e1f4ed0>"
            ]
          },
          "metadata": {},
          "execution_count": 65
        },
        {
          "output_type": "display_data",
          "data": {
            "image/png": "[encoded data removed]",
            "text/plain": [
              "<Figure size 432x288 with 1 Axes>"
            ]
          },
          "metadata": {
            "needs_background": "light"
          }
        }
      ]
    },
    {
      "cell_type": "code",
      "metadata": {
        "colab": {
          "base_uri": "https://localhost:8080/"
        },
        "id": "2h8FqHSPnQJ_",
        "outputId": "08b85efc-6ff4-4fe6-c640-2e479fa0a226"
      },
      "source": [
        "fn"
      ],
      "execution_count": 66,
      "outputs": [
        {
          "output_type": "execute_result",
          "data": {
            "text/plain": [
              "1151"
            ]
          },
          "metadata": {},
          "execution_count": 66
        }
      ]
    },
    {
      "cell_type": "code",
      "metadata": {
        "colab": {
          "base_uri": "https://localhost:8080/"
        },
        "id": "4xK4s5HKnQHH",
        "outputId": "97b97cbe-bd01-4b9e-e9ea-5dda6f0df93d"
      },
      "source": [
        "fp"
      ],
      "execution_count": 67,
      "outputs": [
        {
          "output_type": "execute_result",
          "data": {
            "text/plain": [
              "521"
            ]
          },
          "metadata": {},
          "execution_count": 67
        }
      ]
    },
    {
      "cell_type": "code",
      "metadata": {
        "colab": {
          "base_uri": "https://localhost:8080/"
        },
        "id": "As86kaolnQCs",
        "outputId": "26d3e7d0-a93d-41dd-9cf0-94f0d38f13fa"
      },
      "source": [
        "roc['thr'].unique()"
      ],
      "execution_count": 68,
      "outputs": [
        {
          "output_type": "execute_result",
          "data": {
            "text/plain": [
              "array([2.00000000e+00, 1.00000000e+00, 1.00000000e+00, ...,\n",
              "       3.19145042e-06, 3.11007941e-06, 2.26192465e-08])"
            ]
          },
          "metadata": {},
          "execution_count": 68
        }
      ]
    },
    {
      "cell_type": "code",
      "metadata": {
        "id": "ENUhA5pbnqTD"
      },
      "source": [
        "thrs = [0] + list(np.sort(val['score'].unique()))"
      ],
      "execution_count": 69,
      "outputs": []
    },
    {
      "cell_type": "code",
      "metadata": {
        "id": "0YCpV_0KnqP8"
      },
      "source": [
        "thr = thrs[123]"
      ],
      "execution_count": 70,
      "outputs": []
    },
    {
      "cell_type": "code",
      "metadata": {
        "id": "i9bLfNAqnpQ1"
      },
      "source": [
        "val['pred'] = (val['score'] > thr) * 1"
      ],
      "execution_count": 71,
      "outputs": []
    },
    {
      "cell_type": "code",
      "metadata": {
        "id": "oSLkS84JnpN9"
      },
      "source": [
        "tn, fp, fn, tp = confusion_matrix(val['expert'],val['pred']).ravel()"
      ],
      "execution_count": 72,
      "outputs": []
    },
    {
      "cell_type": "code",
      "metadata": {
        "id": "XxoD335rnpLr"
      },
      "source": [
        "from tqdm.notebook import tqdm"
      ],
      "execution_count": 73,
      "outputs": []
    },
    {
      "cell_type": "code",
      "metadata": {
        "colab": {
          "base_uri": "https://localhost:8080/",
          "height": 49,
          "referenced_widgets": [
            "97c00733b9004f9785e9b0c69ecd9193",
            "1d1f247c078c45419bf4ba356e5aa30f",
            "500695a28c8a4e3c8d480b6a499a40ca",
            "12c4d71cdd0141d09bcb8eee51b4e934",
            "7bee9a4f05ac43e481f78ee200566c85",
            "f9715394d28f46c19b35beab64416e34",
            "b755498dcb5d455db0ee0344e9dc1c74",
            "7402dcdf41634e19bbeb654d4b68879c",
            "582d13cda1fb451f91e41a15473dcab4",
            "69a04307a9174782ab1c219851d54fc9",
            "574761e2d31646f2bc6a291afcde1414"
          ]
        },
        "id": "h0DePG9snpIw",
        "outputId": "98f7bd24-ab39-4c0b-c3e3-9bbbf70b25e3"
      },
      "source": [
        "res = []\n",
        "for thr in tqdm(thrs):\n",
        "  val['pred'] = (val['score'] > thr) * 1\n",
        "  tn, fp, fn, tp = confusion_matrix(val['expert'],val['pred']).ravel()\n",
        "  res.append((tn, fp, fn, tp ,thr))\n"
      ],
      "execution_count": 74,
      "outputs": [
        {
          "output_type": "display_data",
          "data": {
            "application/vnd.jupyter.widget-view+json": {
              "model_id": "97c00733b9004f9785e9b0c69ecd9193",
              "version_minor": 0,
              "version_major": 2
            },
            "text/plain": [
              "  0%|          | 0/14255 [00:00<?, ?it/s]"
            ]
          },
          "metadata": {}
        }
      ]
    },
    {
      "cell_type": "code",
      "metadata": {
        "colab": {
          "base_uri": "https://localhost:8080/"
        },
        "id": "Bnky_J4DnpGX",
        "outputId": "19de01f6-e217-4559-86e4-b0e83b02165a"
      },
      "source": [
        "'tn, fp, fn, tp ,thr'.split(',')"
      ],
      "execution_count": 75,
      "outputs": [
        {
          "output_type": "execute_result",
          "data": {
            "text/plain": [
              "['tn', ' fp', ' fn', ' tp ', 'thr']"
            ]
          },
          "metadata": {},
          "execution_count": 75
        }
      ]
    },
    {
      "cell_type": "code",
      "metadata": {
        "id": "iqCnOza0nrDo"
      },
      "source": [
        "cf = pd.DataFrame(res, columns=['tn', 'fp', 'fn', 'tp','thr'])"
      ],
      "execution_count": 76,
      "outputs": []
    },
    {
      "cell_type": "code",
      "metadata": {
        "colab": {
          "base_uri": "https://localhost:8080/",
          "height": 419
        },
        "id": "WjOoQXlJvDPc",
        "outputId": "eb3c55ff-f3fd-4e7d-be44-61ae9eea5945"
      },
      "source": [
        "cf"
      ],
      "execution_count": 77,
      "outputs": [
        {
          "output_type": "execute_result",
          "data": {
            "text/html": [
              "<div>\n",
              "<style scoped>\n",
              "    .dataframe tbody tr th:only-of-type {\n",
              "        vertical-align: middle;\n",
              "    }\n",
              "\n",
              "    .dataframe tbody tr th {\n",
              "        vertical-align: top;\n",
              "    }\n",
              "\n",
              "    .dataframe thead th {\n",
              "        text-align: right;\n",
              "    }\n",
              "</style>\n",
              "<table border=\"1\" class=\"dataframe\">\n",
              "  <thead>\n",
              "    <tr style=\"text-align: right;\">\n",
              "      <th></th>\n",
              "      <th>tn</th>\n",
              "      <th>fp</th>\n",
              "      <th>fn</th>\n",
              "      <th>tp</th>\n",
              "      <th>thr</th>\n",
              "    </tr>\n",
              "  </thead>\n",
              "  <tbody>\n",
              "    <tr>\n",
              "      <th>0</th>\n",
              "      <td>0</td>\n",
              "      <td>3835</td>\n",
              "      <td>0</td>\n",
              "      <td>11165</td>\n",
              "      <td>0.000</td>\n",
              "    </tr>\n",
              "    <tr>\n",
              "      <th>1</th>\n",
              "      <td>1</td>\n",
              "      <td>3834</td>\n",
              "      <td>0</td>\n",
              "      <td>11165</td>\n",
              "      <td>0.000</td>\n",
              "    </tr>\n",
              "    <tr>\n",
              "      <th>2</th>\n",
              "      <td>2</td>\n",
              "      <td>3833</td>\n",
              "      <td>0</td>\n",
              "      <td>11165</td>\n",
              "      <td>0.000</td>\n",
              "    </tr>\n",
              "    <tr>\n",
              "      <th>3</th>\n",
              "      <td>3</td>\n",
              "      <td>3832</td>\n",
              "      <td>0</td>\n",
              "      <td>11165</td>\n",
              "      <td>0.000</td>\n",
              "    </tr>\n",
              "    <tr>\n",
              "      <th>4</th>\n",
              "      <td>4</td>\n",
              "      <td>3831</td>\n",
              "      <td>0</td>\n",
              "      <td>11165</td>\n",
              "      <td>0.000</td>\n",
              "    </tr>\n",
              "    <tr>\n",
              "      <th>...</th>\n",
              "      <td>...</td>\n",
              "      <td>...</td>\n",
              "      <td>...</td>\n",
              "      <td>...</td>\n",
              "      <td>...</td>\n",
              "    </tr>\n",
              "    <tr>\n",
              "      <th>14250</th>\n",
              "      <td>3835</td>\n",
              "      <td>0</td>\n",
              "      <td>11161</td>\n",
              "      <td>4</td>\n",
              "      <td>1.000</td>\n",
              "    </tr>\n",
              "    <tr>\n",
              "      <th>14251</th>\n",
              "      <td>3835</td>\n",
              "      <td>0</td>\n",
              "      <td>11162</td>\n",
              "      <td>3</td>\n",
              "      <td>1.000</td>\n",
              "    </tr>\n",
              "    <tr>\n",
              "      <th>14252</th>\n",
              "      <td>3835</td>\n",
              "      <td>0</td>\n",
              "      <td>11163</td>\n",
              "      <td>2</td>\n",
              "      <td>1.000</td>\n",
              "    </tr>\n",
              "    <tr>\n",
              "      <th>14253</th>\n",
              "      <td>3835</td>\n",
              "      <td>0</td>\n",
              "      <td>11164</td>\n",
              "      <td>1</td>\n",
              "      <td>1.000</td>\n",
              "    </tr>\n",
              "    <tr>\n",
              "      <th>14254</th>\n",
              "      <td>3835</td>\n",
              "      <td>0</td>\n",
              "      <td>11165</td>\n",
              "      <td>0</td>\n",
              "      <td>1.000</td>\n",
              "    </tr>\n",
              "  </tbody>\n",
              "</table>\n",
              "<p>14255 rows × 5 columns</p>\n",
              "</div>"
            ],
            "text/plain": [
              "         tn    fp     fn     tp   thr\n",
              "0         0  3835      0  11165 0.000\n",
              "1         1  3834      0  11165 0.000\n",
              "2         2  3833      0  11165 0.000\n",
              "3         3  3832      0  11165 0.000\n",
              "4         4  3831      0  11165 0.000\n",
              "...     ...   ...    ...    ...   ...\n",
              "14250  3835     0  11161      4 1.000\n",
              "14251  3835     0  11162      3 1.000\n",
              "14252  3835     0  11163      2 1.000\n",
              "14253  3835     0  11164      1 1.000\n",
              "14254  3835     0  11165      0 1.000\n",
              "\n",
              "[14255 rows x 5 columns]"
            ]
          },
          "metadata": {},
          "execution_count": 77
        }
      ]
    },
    {
      "cell_type": "code",
      "metadata": {
        "id": "1lL-SHGanrBI"
      },
      "source": [
        "cf['profit'] = cf['tn'] - 5 * cf['fn'] - cf['fp']"
      ],
      "execution_count": 78,
      "outputs": []
    },
    {
      "cell_type": "code",
      "metadata": {
        "id": "arnvKI0hnq-P"
      },
      "source": [
        "cf['profit2'] = cf['tp'] + cf['tn'] - 5 * cf['fn'] - cf['fp']"
      ],
      "execution_count": 79,
      "outputs": []
    },
    {
      "cell_type": "code",
      "metadata": {
        "id": "OMe3OSVdnq7c"
      },
      "source": [
        "cf['profit3'] = -5 * cf['fn'] - cf['fp']"
      ],
      "execution_count": 80,
      "outputs": []
    },
    {
      "cell_type": "code",
      "metadata": {
        "colab": {
          "base_uri": "https://localhost:8080/",
          "height": 419
        },
        "id": "6KH8GBodnpDU",
        "outputId": "e13c2418-2613-47c0-e142-97f118786d5b"
      },
      "source": [
        "cf.sort_values('profit',ascending=False)"
      ],
      "execution_count": 81,
      "outputs": [
        {
          "output_type": "execute_result",
          "data": {
            "text/html": [
              "<div>\n",
              "<style scoped>\n",
              "    .dataframe tbody tr th:only-of-type {\n",
              "        vertical-align: middle;\n",
              "    }\n",
              "\n",
              "    .dataframe tbody tr th {\n",
              "        vertical-align: top;\n",
              "    }\n",
              "\n",
              "    .dataframe thead th {\n",
              "        text-align: right;\n",
              "    }\n",
              "</style>\n",
              "<table border=\"1\" class=\"dataframe\">\n",
              "  <thead>\n",
              "    <tr style=\"text-align: right;\">\n",
              "      <th></th>\n",
              "      <th>tn</th>\n",
              "      <th>fp</th>\n",
              "      <th>fn</th>\n",
              "      <th>tp</th>\n",
              "      <th>thr</th>\n",
              "      <th>profit</th>\n",
              "      <th>profit2</th>\n",
              "      <th>profit3</th>\n",
              "    </tr>\n",
              "  </thead>\n",
              "  <tbody>\n",
              "    <tr>\n",
              "      <th>2759</th>\n",
              "      <td>2586</td>\n",
              "      <td>1249</td>\n",
              "      <td>284</td>\n",
              "      <td>10881</td>\n",
              "      <td>0.219</td>\n",
              "      <td>-83</td>\n",
              "      <td>10798</td>\n",
              "      <td>-2669</td>\n",
              "    </tr>\n",
              "    <tr>\n",
              "      <th>2758</th>\n",
              "      <td>2585</td>\n",
              "      <td>1250</td>\n",
              "      <td>284</td>\n",
              "      <td>10881</td>\n",
              "      <td>0.219</td>\n",
              "      <td>-85</td>\n",
              "      <td>10796</td>\n",
              "      <td>-2670</td>\n",
              "    </tr>\n",
              "    <tr>\n",
              "      <th>2761</th>\n",
              "      <td>2587</td>\n",
              "      <td>1248</td>\n",
              "      <td>285</td>\n",
              "      <td>10880</td>\n",
              "      <td>0.220</td>\n",
              "      <td>-86</td>\n",
              "      <td>10794</td>\n",
              "      <td>-2673</td>\n",
              "    </tr>\n",
              "    <tr>\n",
              "      <th>2760</th>\n",
              "      <td>2586</td>\n",
              "      <td>1249</td>\n",
              "      <td>285</td>\n",
              "      <td>10880</td>\n",
              "      <td>0.219</td>\n",
              "      <td>-88</td>\n",
              "      <td>10792</td>\n",
              "      <td>-2674</td>\n",
              "    </tr>\n",
              "    <tr>\n",
              "      <th>2757</th>\n",
              "      <td>2583</td>\n",
              "      <td>1252</td>\n",
              "      <td>284</td>\n",
              "      <td>10881</td>\n",
              "      <td>0.219</td>\n",
              "      <td>-89</td>\n",
              "      <td>10792</td>\n",
              "      <td>-2672</td>\n",
              "    </tr>\n",
              "    <tr>\n",
              "      <th>...</th>\n",
              "      <td>...</td>\n",
              "      <td>...</td>\n",
              "      <td>...</td>\n",
              "      <td>...</td>\n",
              "      <td>...</td>\n",
              "      <td>...</td>\n",
              "      <td>...</td>\n",
              "      <td>...</td>\n",
              "    </tr>\n",
              "    <tr>\n",
              "      <th>14250</th>\n",
              "      <td>3835</td>\n",
              "      <td>0</td>\n",
              "      <td>11161</td>\n",
              "      <td>4</td>\n",
              "      <td>1.000</td>\n",
              "      <td>-51970</td>\n",
              "      <td>-51966</td>\n",
              "      <td>-55805</td>\n",
              "    </tr>\n",
              "    <tr>\n",
              "      <th>14251</th>\n",
              "      <td>3835</td>\n",
              "      <td>0</td>\n",
              "      <td>11162</td>\n",
              "      <td>3</td>\n",
              "      <td>1.000</td>\n",
              "      <td>-51975</td>\n",
              "      <td>-51972</td>\n",
              "      <td>-55810</td>\n",
              "    </tr>\n",
              "    <tr>\n",
              "      <th>14252</th>\n",
              "      <td>3835</td>\n",
              "      <td>0</td>\n",
              "      <td>11163</td>\n",
              "      <td>2</td>\n",
              "      <td>1.000</td>\n",
              "      <td>-51980</td>\n",
              "      <td>-51978</td>\n",
              "      <td>-55815</td>\n",
              "    </tr>\n",
              "    <tr>\n",
              "      <th>14253</th>\n",
              "      <td>3835</td>\n",
              "      <td>0</td>\n",
              "      <td>11164</td>\n",
              "      <td>1</td>\n",
              "      <td>1.000</td>\n",
              "      <td>-51985</td>\n",
              "      <td>-51984</td>\n",
              "      <td>-55820</td>\n",
              "    </tr>\n",
              "    <tr>\n",
              "      <th>14254</th>\n",
              "      <td>3835</td>\n",
              "      <td>0</td>\n",
              "      <td>11165</td>\n",
              "      <td>0</td>\n",
              "      <td>1.000</td>\n",
              "      <td>-51990</td>\n",
              "      <td>-51990</td>\n",
              "      <td>-55825</td>\n",
              "    </tr>\n",
              "  </tbody>\n",
              "</table>\n",
              "<p>14255 rows × 8 columns</p>\n",
              "</div>"
            ],
            "text/plain": [
              "         tn    fp     fn     tp   thr  profit  profit2  profit3\n",
              "2759   2586  1249    284  10881 0.219     -83    10798    -2669\n",
              "2758   2585  1250    284  10881 0.219     -85    10796    -2670\n",
              "2761   2587  1248    285  10880 0.220     -86    10794    -2673\n",
              "2760   2586  1249    285  10880 0.219     -88    10792    -2674\n",
              "2757   2583  1252    284  10881 0.219     -89    10792    -2672\n",
              "...     ...   ...    ...    ...   ...     ...      ...      ...\n",
              "14250  3835     0  11161      4 1.000  -51970   -51966   -55805\n",
              "14251  3835     0  11162      3 1.000  -51975   -51972   -55810\n",
              "14252  3835     0  11163      2 1.000  -51980   -51978   -55815\n",
              "14253  3835     0  11164      1 1.000  -51985   -51984   -55820\n",
              "14254  3835     0  11165      0 1.000  -51990   -51990   -55825\n",
              "\n",
              "[14255 rows x 8 columns]"
            ]
          },
          "metadata": {},
          "execution_count": 81
        }
      ]
    },
    {
      "cell_type": "code",
      "metadata": {
        "colab": {
          "base_uri": "https://localhost:8080/",
          "height": 419
        },
        "id": "DCEex4RBoD4y",
        "outputId": "3089600c-4e22-49c4-c951-4fb6dda55741"
      },
      "source": [
        "cf.sort_values('profit2',ascending=False)"
      ],
      "execution_count": 82,
      "outputs": [
        {
          "output_type": "execute_result",
          "data": {
            "text/html": [
              "<div>\n",
              "<style scoped>\n",
              "    .dataframe tbody tr th:only-of-type {\n",
              "        vertical-align: middle;\n",
              "    }\n",
              "\n",
              "    .dataframe tbody tr th {\n",
              "        vertical-align: top;\n",
              "    }\n",
              "\n",
              "    .dataframe thead th {\n",
              "        text-align: right;\n",
              "    }\n",
              "</style>\n",
              "<table border=\"1\" class=\"dataframe\">\n",
              "  <thead>\n",
              "    <tr style=\"text-align: right;\">\n",
              "      <th></th>\n",
              "      <th>tn</th>\n",
              "      <th>fp</th>\n",
              "      <th>fn</th>\n",
              "      <th>tp</th>\n",
              "      <th>thr</th>\n",
              "      <th>profit</th>\n",
              "      <th>profit2</th>\n",
              "      <th>profit3</th>\n",
              "    </tr>\n",
              "  </thead>\n",
              "  <tbody>\n",
              "    <tr>\n",
              "      <th>2465</th>\n",
              "      <td>2356</td>\n",
              "      <td>1479</td>\n",
              "      <td>199</td>\n",
              "      <td>10966</td>\n",
              "      <td>0.132</td>\n",
              "      <td>-118</td>\n",
              "      <td>10848</td>\n",
              "      <td>-2474</td>\n",
              "    </tr>\n",
              "    <tr>\n",
              "      <th>2464</th>\n",
              "      <td>2355</td>\n",
              "      <td>1480</td>\n",
              "      <td>199</td>\n",
              "      <td>10966</td>\n",
              "      <td>0.132</td>\n",
              "      <td>-120</td>\n",
              "      <td>10846</td>\n",
              "      <td>-2475</td>\n",
              "    </tr>\n",
              "    <tr>\n",
              "      <th>2523</th>\n",
              "      <td>2403</td>\n",
              "      <td>1432</td>\n",
              "      <td>215</td>\n",
              "      <td>10950</td>\n",
              "      <td>0.147</td>\n",
              "      <td>-104</td>\n",
              "      <td>10846</td>\n",
              "      <td>-2507</td>\n",
              "    </tr>\n",
              "    <tr>\n",
              "      <th>2460</th>\n",
              "      <td>2352</td>\n",
              "      <td>1483</td>\n",
              "      <td>198</td>\n",
              "      <td>10967</td>\n",
              "      <td>0.131</td>\n",
              "      <td>-121</td>\n",
              "      <td>10846</td>\n",
              "      <td>-2473</td>\n",
              "    </tr>\n",
              "    <tr>\n",
              "      <th>2471</th>\n",
              "      <td>2360</td>\n",
              "      <td>1475</td>\n",
              "      <td>201</td>\n",
              "      <td>10964</td>\n",
              "      <td>0.134</td>\n",
              "      <td>-120</td>\n",
              "      <td>10844</td>\n",
              "      <td>-2480</td>\n",
              "    </tr>\n",
              "    <tr>\n",
              "      <th>...</th>\n",
              "      <td>...</td>\n",
              "      <td>...</td>\n",
              "      <td>...</td>\n",
              "      <td>...</td>\n",
              "      <td>...</td>\n",
              "      <td>...</td>\n",
              "      <td>...</td>\n",
              "      <td>...</td>\n",
              "    </tr>\n",
              "    <tr>\n",
              "      <th>14250</th>\n",
              "      <td>3835</td>\n",
              "      <td>0</td>\n",
              "      <td>11161</td>\n",
              "      <td>4</td>\n",
              "      <td>1.000</td>\n",
              "      <td>-51970</td>\n",
              "      <td>-51966</td>\n",
              "      <td>-55805</td>\n",
              "    </tr>\n",
              "    <tr>\n",
              "      <th>14251</th>\n",
              "      <td>3835</td>\n",
              "      <td>0</td>\n",
              "      <td>11162</td>\n",
              "      <td>3</td>\n",
              "      <td>1.000</td>\n",
              "      <td>-51975</td>\n",
              "      <td>-51972</td>\n",
              "      <td>-55810</td>\n",
              "    </tr>\n",
              "    <tr>\n",
              "      <th>14252</th>\n",
              "      <td>3835</td>\n",
              "      <td>0</td>\n",
              "      <td>11163</td>\n",
              "      <td>2</td>\n",
              "      <td>1.000</td>\n",
              "      <td>-51980</td>\n",
              "      <td>-51978</td>\n",
              "      <td>-55815</td>\n",
              "    </tr>\n",
              "    <tr>\n",
              "      <th>14253</th>\n",
              "      <td>3835</td>\n",
              "      <td>0</td>\n",
              "      <td>11164</td>\n",
              "      <td>1</td>\n",
              "      <td>1.000</td>\n",
              "      <td>-51985</td>\n",
              "      <td>-51984</td>\n",
              "      <td>-55820</td>\n",
              "    </tr>\n",
              "    <tr>\n",
              "      <th>14254</th>\n",
              "      <td>3835</td>\n",
              "      <td>0</td>\n",
              "      <td>11165</td>\n",
              "      <td>0</td>\n",
              "      <td>1.000</td>\n",
              "      <td>-51990</td>\n",
              "      <td>-51990</td>\n",
              "      <td>-55825</td>\n",
              "    </tr>\n",
              "  </tbody>\n",
              "</table>\n",
              "<p>14255 rows × 8 columns</p>\n",
              "</div>"
            ],
            "text/plain": [
              "         tn    fp     fn     tp   thr  profit  profit2  profit3\n",
              "2465   2356  1479    199  10966 0.132    -118    10848    -2474\n",
              "2464   2355  1480    199  10966 0.132    -120    10846    -2475\n",
              "2523   2403  1432    215  10950 0.147    -104    10846    -2507\n",
              "2460   2352  1483    198  10967 0.131    -121    10846    -2473\n",
              "2471   2360  1475    201  10964 0.134    -120    10844    -2480\n",
              "...     ...   ...    ...    ...   ...     ...      ...      ...\n",
              "14250  3835     0  11161      4 1.000  -51970   -51966   -55805\n",
              "14251  3835     0  11162      3 1.000  -51975   -51972   -55810\n",
              "14252  3835     0  11163      2 1.000  -51980   -51978   -55815\n",
              "14253  3835     0  11164      1 1.000  -51985   -51984   -55820\n",
              "14254  3835     0  11165      0 1.000  -51990   -51990   -55825\n",
              "\n",
              "[14255 rows x 8 columns]"
            ]
          },
          "metadata": {},
          "execution_count": 82
        }
      ]
    },
    {
      "cell_type": "code",
      "metadata": {
        "colab": {
          "base_uri": "https://localhost:8080/",
          "height": 419
        },
        "id": "vL_d4qomoD1x",
        "outputId": "5bcd646c-8c9a-4612-cc32-9e39b6f5d74a"
      },
      "source": [
        "cf.sort_values('profit3',ascending=False)"
      ],
      "execution_count": 83,
      "outputs": [
        {
          "output_type": "execute_result",
          "data": {
            "text/html": [
              "<div>\n",
              "<style scoped>\n",
              "    .dataframe tbody tr th:only-of-type {\n",
              "        vertical-align: middle;\n",
              "    }\n",
              "\n",
              "    .dataframe tbody tr th {\n",
              "        vertical-align: top;\n",
              "    }\n",
              "\n",
              "    .dataframe thead th {\n",
              "        text-align: right;\n",
              "    }\n",
              "</style>\n",
              "<table border=\"1\" class=\"dataframe\">\n",
              "  <thead>\n",
              "    <tr style=\"text-align: right;\">\n",
              "      <th></th>\n",
              "      <th>tn</th>\n",
              "      <th>fp</th>\n",
              "      <th>fn</th>\n",
              "      <th>tp</th>\n",
              "      <th>thr</th>\n",
              "      <th>profit</th>\n",
              "      <th>profit2</th>\n",
              "      <th>profit3</th>\n",
              "    </tr>\n",
              "  </thead>\n",
              "  <tbody>\n",
              "    <tr>\n",
              "      <th>2026</th>\n",
              "      <td>1973</td>\n",
              "      <td>1862</td>\n",
              "      <td>111</td>\n",
              "      <td>11054</td>\n",
              "      <td>0.058</td>\n",
              "      <td>-444</td>\n",
              "      <td>10610</td>\n",
              "      <td>-2417</td>\n",
              "    </tr>\n",
              "    <tr>\n",
              "      <th>2232</th>\n",
              "      <td>2158</td>\n",
              "      <td>1677</td>\n",
              "      <td>148</td>\n",
              "      <td>11017</td>\n",
              "      <td>0.090</td>\n",
              "      <td>-259</td>\n",
              "      <td>10758</td>\n",
              "      <td>-2417</td>\n",
              "    </tr>\n",
              "    <tr>\n",
              "      <th>2025</th>\n",
              "      <td>1972</td>\n",
              "      <td>1863</td>\n",
              "      <td>111</td>\n",
              "      <td>11054</td>\n",
              "      <td>0.058</td>\n",
              "      <td>-446</td>\n",
              "      <td>10608</td>\n",
              "      <td>-2418</td>\n",
              "    </tr>\n",
              "    <tr>\n",
              "      <th>2231</th>\n",
              "      <td>2157</td>\n",
              "      <td>1678</td>\n",
              "      <td>148</td>\n",
              "      <td>11017</td>\n",
              "      <td>0.089</td>\n",
              "      <td>-261</td>\n",
              "      <td>10756</td>\n",
              "      <td>-2418</td>\n",
              "    </tr>\n",
              "    <tr>\n",
              "      <th>2241</th>\n",
              "      <td>2167</td>\n",
              "      <td>1668</td>\n",
              "      <td>150</td>\n",
              "      <td>11015</td>\n",
              "      <td>0.091</td>\n",
              "      <td>-251</td>\n",
              "      <td>10764</td>\n",
              "      <td>-2418</td>\n",
              "    </tr>\n",
              "    <tr>\n",
              "      <th>...</th>\n",
              "      <td>...</td>\n",
              "      <td>...</td>\n",
              "      <td>...</td>\n",
              "      <td>...</td>\n",
              "      <td>...</td>\n",
              "      <td>...</td>\n",
              "      <td>...</td>\n",
              "      <td>...</td>\n",
              "    </tr>\n",
              "    <tr>\n",
              "      <th>14250</th>\n",
              "      <td>3835</td>\n",
              "      <td>0</td>\n",
              "      <td>11161</td>\n",
              "      <td>4</td>\n",
              "      <td>1.000</td>\n",
              "      <td>-51970</td>\n",
              "      <td>-51966</td>\n",
              "      <td>-55805</td>\n",
              "    </tr>\n",
              "    <tr>\n",
              "      <th>14251</th>\n",
              "      <td>3835</td>\n",
              "      <td>0</td>\n",
              "      <td>11162</td>\n",
              "      <td>3</td>\n",
              "      <td>1.000</td>\n",
              "      <td>-51975</td>\n",
              "      <td>-51972</td>\n",
              "      <td>-55810</td>\n",
              "    </tr>\n",
              "    <tr>\n",
              "      <th>14252</th>\n",
              "      <td>3835</td>\n",
              "      <td>0</td>\n",
              "      <td>11163</td>\n",
              "      <td>2</td>\n",
              "      <td>1.000</td>\n",
              "      <td>-51980</td>\n",
              "      <td>-51978</td>\n",
              "      <td>-55815</td>\n",
              "    </tr>\n",
              "    <tr>\n",
              "      <th>14253</th>\n",
              "      <td>3835</td>\n",
              "      <td>0</td>\n",
              "      <td>11164</td>\n",
              "      <td>1</td>\n",
              "      <td>1.000</td>\n",
              "      <td>-51985</td>\n",
              "      <td>-51984</td>\n",
              "      <td>-55820</td>\n",
              "    </tr>\n",
              "    <tr>\n",
              "      <th>14254</th>\n",
              "      <td>3835</td>\n",
              "      <td>0</td>\n",
              "      <td>11165</td>\n",
              "      <td>0</td>\n",
              "      <td>1.000</td>\n",
              "      <td>-51990</td>\n",
              "      <td>-51990</td>\n",
              "      <td>-55825</td>\n",
              "    </tr>\n",
              "  </tbody>\n",
              "</table>\n",
              "<p>14255 rows × 8 columns</p>\n",
              "</div>"
            ],
            "text/plain": [
              "         tn    fp     fn     tp   thr  profit  profit2  profit3\n",
              "2026   1973  1862    111  11054 0.058    -444    10610    -2417\n",
              "2232   2158  1677    148  11017 0.090    -259    10758    -2417\n",
              "2025   1972  1863    111  11054 0.058    -446    10608    -2418\n",
              "2231   2157  1678    148  11017 0.089    -261    10756    -2418\n",
              "2241   2167  1668    150  11015 0.091    -251    10764    -2418\n",
              "...     ...   ...    ...    ...   ...     ...      ...      ...\n",
              "14250  3835     0  11161      4 1.000  -51970   -51966   -55805\n",
              "14251  3835     0  11162      3 1.000  -51975   -51972   -55810\n",
              "14252  3835     0  11163      2 1.000  -51980   -51978   -55815\n",
              "14253  3835     0  11164      1 1.000  -51985   -51984   -55820\n",
              "14254  3835     0  11165      0 1.000  -51990   -51990   -55825\n",
              "\n",
              "[14255 rows x 8 columns]"
            ]
          },
          "metadata": {},
          "execution_count": 83
        }
      ]
    },
    {
      "cell_type": "code",
      "metadata": {
        "colab": {
          "base_uri": "https://localhost:8080/",
          "height": 282
        },
        "id": "Kz4lIgqKoDzS",
        "outputId": "c47fac04-0c7b-4386-af76-4915601cf702"
      },
      "source": [
        "val['score'].hist()"
      ],
      "execution_count": 84,
      "outputs": [
        {
          "output_type": "execute_result",
          "data": {
            "text/plain": [
              "<matplotlib.axes._subplots.AxesSubplot at 0x7f10aacb0990>"
            ]
          },
          "metadata": {},
          "execution_count": 84
        },
        {
          "output_type": "display_data",
          "data": {
            "image/png": "[encoded data removed]",
            "text/plain": [
              "<Figure size 432x288 with 1 Axes>"
            ]
          },
          "metadata": {
            "needs_background": "light"
          }
        }
      ]
    }
  ]
}